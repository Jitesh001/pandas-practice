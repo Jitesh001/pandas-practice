{
 "cells": [
  {
   "cell_type": "markdown",
   "metadata": {},
   "source": [
    "https://runestone.academy/runestone/books/published/pythonds/index.html"
   ]
  },
  {
   "cell_type": "code",
   "execution_count": 1,
   "metadata": {},
   "outputs": [
    {
     "name": "stdout",
     "output_type": "stream",
     "text": [
      "2\n",
      "2\n"
     ]
    },
    {
     "ename": "IndexError",
     "evalue": "list index out of range",
     "output_type": "error",
     "traceback": [
      "\u001b[1;31m---------------------------------------------------------------------------\u001b[0m",
      "\u001b[1;31mIndexError\u001b[0m                                Traceback (most recent call last)",
      "\u001b[1;32m<ipython-input-1-08244749fe70>\u001b[0m in \u001b[0;36m<module>\u001b[1;34m\u001b[0m\n\u001b[0;32m      2\u001b[0m \u001b[0mlis\u001b[0m \u001b[1;33m=\u001b[0m \u001b[0mlist\u001b[0m\u001b[1;33m(\u001b[0m\u001b[0mmap\u001b[0m\u001b[1;33m(\u001b[0m\u001b[0mint\u001b[0m\u001b[1;33m,\u001b[0m \u001b[0minput\u001b[0m\u001b[1;33m(\u001b[0m\u001b[1;33m)\u001b[0m\u001b[1;33m.\u001b[0m\u001b[0msplit\u001b[0m\u001b[1;33m(\u001b[0m\u001b[1;33m)\u001b[0m\u001b[1;33m)\u001b[0m\u001b[1;33m)\u001b[0m\u001b[1;33m\u001b[0m\u001b[1;33m\u001b[0m\u001b[0m\n\u001b[0;32m      3\u001b[0m \u001b[0mx\u001b[0m \u001b[1;33m=\u001b[0m \u001b[0msorted\u001b[0m\u001b[1;33m(\u001b[0m\u001b[0mlist\u001b[0m\u001b[1;33m(\u001b[0m\u001b[0mset\u001b[0m\u001b[1;33m(\u001b[0m\u001b[0mlis\u001b[0m\u001b[1;33m)\u001b[0m\u001b[1;33m)\u001b[0m\u001b[1;33m)\u001b[0m\u001b[1;33m\u001b[0m\u001b[1;33m\u001b[0m\u001b[0m\n\u001b[1;32m----> 4\u001b[1;33m \u001b[0mm1\u001b[0m\u001b[1;33m,\u001b[0m\u001b[0mm2\u001b[0m \u001b[1;33m=\u001b[0m \u001b[0mx\u001b[0m\u001b[1;33m[\u001b[0m\u001b[1;33m-\u001b[0m\u001b[1;36m1\u001b[0m\u001b[1;33m]\u001b[0m\u001b[1;33m,\u001b[0m\u001b[0mx\u001b[0m\u001b[1;33m[\u001b[0m\u001b[1;33m-\u001b[0m\u001b[1;36m2\u001b[0m\u001b[1;33m]\u001b[0m\u001b[1;33m\u001b[0m\u001b[1;33m\u001b[0m\u001b[0m\n\u001b[0m\u001b[0;32m      5\u001b[0m \u001b[0mh\u001b[0m \u001b[1;33m=\u001b[0m \u001b[0mlis\u001b[0m\u001b[1;33m.\u001b[0m\u001b[0mindex\u001b[0m\u001b[1;33m(\u001b[0m\u001b[0mm1\u001b[0m\u001b[1;33m)\u001b[0m\u001b[1;33m+\u001b[0m\u001b[1;36m1\u001b[0m\u001b[1;33m\u001b[0m\u001b[1;33m\u001b[0m\u001b[0m\n\u001b[0;32m      6\u001b[0m \u001b[0mi1\u001b[0m\u001b[1;33m,\u001b[0m\u001b[0mi2\u001b[0m \u001b[1;33m=\u001b[0m \u001b[0mlis\u001b[0m\u001b[1;33m.\u001b[0m\u001b[0mindex\u001b[0m\u001b[1;33m(\u001b[0m\u001b[0mm1\u001b[0m\u001b[1;33m)\u001b[0m\u001b[1;33m,\u001b[0m\u001b[0mlis\u001b[0m\u001b[1;33m.\u001b[0m\u001b[0mindex\u001b[0m\u001b[1;33m(\u001b[0m\u001b[0mm2\u001b[0m\u001b[1;33m)\u001b[0m\u001b[1;33m\u001b[0m\u001b[1;33m\u001b[0m\u001b[0m\n",
      "\u001b[1;31mIndexError\u001b[0m: list index out of range"
     ]
    }
   ],
   "source": [
    "n = int(input())\n",
    "lis = list(map(int, input().split()))\n",
    "x = sorted(list(set(lis)))\n",
    "m1,m2 = x[-1],x[-2]\n",
    "h = lis.index(m1)+1\n",
    "i1,i2 = lis.index(m1),lis.index(m2)\n",
    "i3,i4 = i1+lis.count(m1)-1, i2+lis.count(m2)-1\n",
    "w = max([abs(i1-i2), abs(i1-i4), abs(i3-i2), abs(i3-i4)])\n",
    "print(h*w)"
   ]
  },
  {
   "cell_type": "markdown",
   "metadata": {},
   "source": [
    "2## m1,m2 = max(lis),min(lis)\n",
    "i1,i2 = lis.index(m1),lis.index(m2)\n",
    "i3,i4 = len(lis) - 1 - lis[::-1].index(m1), len(lis) - 1 - lis[::-1].index(m2)\n",
    "h = i3+1\n",
    "print(h)\n",
    "w = max([abs(i1-i2), abs(i1-i4), abs(i3-i2), abs(i3-i4)])+1\n",
    "print(h*w)"
   ]
  },
  {
   "cell_type": "code",
   "execution_count": 13,
   "metadata": {},
   "outputs": [
    {
     "name": "stdout",
     "output_type": "stream",
     "text": [
      "True\n"
     ]
    }
   ],
   "source": [
    "def check(my_string): \n",
    "    brackets = ['()', '{}', '[]'] \n",
    "    while any(x in my_string for x in brackets): \n",
    "        for br in brackets: \n",
    "            my_string = my_string.replace(br, '') \n",
    "    return not my_string \n",
    "\n",
    "print(check(\"{}\"))"
   ]
  },
  {
   "cell_type": "markdown",
   "metadata": {},
   "source": [
    "### Recursion"
   ]
  },
  {
   "cell_type": "code",
   "execution_count": 1,
   "metadata": {},
   "outputs": [],
   "source": [
    "# fibonancci series"
   ]
  },
  {
   "cell_type": "code",
   "execution_count": 2,
   "metadata": {},
   "outputs": [
    {
     "name": "stdout",
     "output_type": "stream",
     "text": [
      "enter number :3\n",
      "0\n",
      "1\n",
      "1\n"
     ]
    }
   ],
   "source": [
    "def fibo(n):\n",
    "    if n <= 1:\n",
    "        return n\n",
    "    else:\n",
    "        return (fibo(n-1) + fibo(n-2))\n",
    "\n",
    "number  = int(input('enter number :'))\n",
    "if number <= 0:\n",
    "    print(\"enter pos number\")\n",
    "else:\n",
    "    for i in range(number):\n",
    "        print(fibo(i))"
   ]
  },
  {
   "cell_type": "code",
   "execution_count": 3,
   "metadata": {},
   "outputs": [],
   "source": [
    "# factorial number"
   ]
  },
  {
   "cell_type": "code",
   "execution_count": 4,
   "metadata": {},
   "outputs": [
    {
     "name": "stdout",
     "output_type": "stream",
     "text": [
      "120\n",
      "24\n",
      "6\n",
      "1\n"
     ]
    }
   ],
   "source": [
    "def facto(number):\n",
    "    if number <= 1:\n",
    "        return 1\n",
    "    else:\n",
    "        return number * facto(number-1)\n",
    "    \n",
    "print(facto(5))\n",
    "print(facto(4))\n",
    "print(facto(3))\n",
    "print(facto(1))"
   ]
  },
  {
   "cell_type": "code",
   "execution_count": 5,
   "metadata": {},
   "outputs": [],
   "source": [
    "## Number sysytem"
   ]
  },
  {
   "cell_type": "code",
   "execution_count": 6,
   "metadata": {},
   "outputs": [
    {
     "name": "stdout",
     "output_type": "stream",
     "text": [
      "1100\n",
      "BE\n"
     ]
    }
   ],
   "source": [
    "def convert(number, base):\n",
    "    convertString = \"0123456789ABCDEF\"\n",
    "    if number < base:\n",
    "        return convertString[number]\n",
    "    else:\n",
    "        return convert(number//base, base) + convertString[number % base]\n",
    "    \n",
    "    \n",
    "print(convert(12,2))     #dec to binary\n",
    "print(convert(190,16))   #dec to hex"
   ]
  },
  {
   "cell_type": "code",
   "execution_count": 7,
   "metadata": {},
   "outputs": [],
   "source": [
    "# reverse string"
   ]
  },
  {
   "cell_type": "code",
   "execution_count": 8,
   "metadata": {},
   "outputs": [
    {
     "name": "stdout",
     "output_type": "stream",
     "text": [
      "kkskks\n",
      "False\n"
     ]
    }
   ],
   "source": [
    "def reverse(string):\n",
    "    if len(string) == 1:\n",
    "        return string\n",
    "    else:\n",
    "        return reverse(string[1:]) + reverse(string[0]) + ''\n",
    "\n",
    "# check single word palindrome or not\n",
    "def palindrome(s):\n",
    "    if reverse(s) == s:\n",
    "        return True\n",
    "    else:\n",
    "        return False\n",
    "\n",
    "## To check string with punctions and spaces\n",
    "import string\n",
    "def text(stri):\n",
    "    stri = stri.lower()\n",
    "    stri = stri.replace(' ', '')\n",
    "    for char in stri:\n",
    "        if char in string.punctuation:\n",
    "            ans = stri.replace(char,'')\n",
    "            stri = ans\n",
    "    return palindrome(stri)\n",
    "\n",
    "print(text(input()))"
   ]
  },
  {
   "cell_type": "code",
   "execution_count": 9,
   "metadata": {
    "scrolled": true
   },
   "outputs": [
    {
     "name": "stdout",
     "output_type": "stream",
     "text": [
      "1100\n",
      "8F\n"
     ]
    }
   ],
   "source": [
    "# conversion using stack\n",
    "from pythonds.basic import Stack\n",
    "binary = Stack()\n",
    "def convert(num, base):\n",
    "    check = \"0123456789ABCDEF\"\n",
    "    res = ''\n",
    "    while num > base:\n",
    "        rem = num % base\n",
    "        num = num // base\n",
    "        binary.push(rem)\n",
    "        res = check[int(binary.pop())] + res\n",
    "    res = check[num] + res\n",
    "    return res\n",
    "\n",
    "print(convert(12,2))\n",
    "print(convert(143,16))"
   ]
  },
  {
   "cell_type": "markdown",
   "metadata": {},
   "source": [
    "##### tower of hanoi\n",
    "transfer n disk from A to B using C one at time \n",
    "1. (n-1) disks from A to C using B\n",
    "3. (n-1) disks from C to B using A"
   ]
  },
  {
   "cell_type": "code",
   "execution_count": 10,
   "metadata": {
    "scrolled": true
   },
   "outputs": [
    {
     "name": "stdout",
     "output_type": "stream",
     "text": [
      "move disk from A to B\n",
      "move disk from A to C\n",
      "move disk from B to C\n",
      "move disk from A to B\n",
      "move disk from C to A\n",
      "move disk from C to B\n",
      "move disk from A to B\n"
     ]
    }
   ],
   "source": [
    "def move_disk(no_of_disk, pole_A, pole_B, pole_C):\n",
    "    if (no_of_disk > 0):\n",
    "        move_disk(no_of_disk-1, pole_A, pole_C, pole_B)\n",
    "        print(f\"move disk from {pole_A} to {pole_B}\")\n",
    "        move_disk(no_of_disk-1, pole_C,  pole_B, pole_A)\n",
    "        \n",
    "move_disk(3,\"A\",\"B\",\"C\")"
   ]
  },
  {
   "cell_type": "code",
   "execution_count": 11,
   "metadata": {},
   "outputs": [
    {
     "name": "stdout",
     "output_type": "stream",
     "text": [
      "[40, 40, 40, 40, 40, 40, 40, 40, 40, 40, 40, 40, 10, 10]\n"
     ]
    }
   ],
   "source": [
    "## minimum coin using recusrion\n",
    "def coins(coin, amnt):\n",
    "    coin.sort()\n",
    "    lis = []\n",
    "    flag = None\n",
    "    for c in coin:\n",
    "        if c == amnt : return c\n",
    "        if c < amnt:\n",
    "            flag = c\n",
    "    balance = amnt - flag\n",
    "    return list(flatten([flag] + [coins(coin, balance)]))\n",
    "\n",
    "def flatten(List):\n",
    "    for item in List:\n",
    "        try:\n",
    "            yield from flatten(item)\n",
    "        except TypeError:\n",
    "            yield item\n",
    "            \n",
    "ans  = coins([5,3,10,32,40], 500)\n",
    "print(ans)"
   ]
  },
  {
   "cell_type": "code",
   "execution_count": 12,
   "metadata": {},
   "outputs": [
    {
     "name": "stdout",
     "output_type": "stream",
     "text": [
      "5\n",
      "13\n",
      "4\n"
     ]
    }
   ],
   "source": [
    "# number of ways\n",
    "def ways(coins,amnt):\n",
    "    size = len(coins)\n",
    "    arr = [[1]+ [0]*(amnt) for i in range(3)]\n",
    "    for i in range(0,size):\n",
    "        count = 0\n",
    "        coin = coins[i]\n",
    "        for j in range(1,amnt + 1):\n",
    "            count += 1\n",
    "            if count >= coin:\n",
    "                if i == 0:\n",
    "                    arr[i][j] = arr[i][j] + arr[i][count-coin]\n",
    "                else:\n",
    "                    arr[i][j] = arr[i-1][j] + arr[i][count-coin]\n",
    "            else:\n",
    "                arr[i][j] = arr[i-1][j]\n",
    "    return arr[-1][-1]\n",
    "\n",
    "print(ways([1,2,3], 5))\n",
    "print(ways([1,2,5], 12))\n",
    "print(ways([1,2,3], 4))"
   ]
  },
  {
   "cell_type": "markdown",
   "metadata": {},
   "source": [
    "### Sorting and Searching¶"
   ]
  },
  {
   "cell_type": "code",
   "execution_count": 2,
   "metadata": {},
   "outputs": [
    {
     "name": "stdout",
     "output_type": "stream",
     "text": [
      "False\n",
      "True\n",
      "True\n"
     ]
    }
   ],
   "source": [
    "## sequential search, O(n) \n",
    "def seq_search(lis, item):\n",
    "    pos = 0\n",
    "    found = False\n",
    "    while pos < len(lis) and not found:\n",
    "        if lis[pos] == item:\n",
    "            found = True\n",
    "        else:\n",
    "            pos += 1\n",
    "    return found\n",
    "\n",
    "print(seq_search([1,4,2,7,6,0], 10))\n",
    "print(seq_search([1,4,2,7,6,0], 7))\n",
    "print(seq_search([10,4,1,2,1,6,0], 1))"
   ]
  },
  {
   "cell_type": "code",
   "execution_count": 3,
   "metadata": {},
   "outputs": [
    {
     "name": "stdout",
     "output_type": "stream",
     "text": [
      "False\n",
      "True\n",
      "True\n"
     ]
    }
   ],
   "source": [
    "## ordered list seq search\n",
    "## the binary search is O(logn).\n",
    "def binary_search(lis,item):\n",
    "    first = 0\n",
    "    last = len(lis)-1\n",
    "    found = False\n",
    "    while first <= last and not found:\n",
    "        midpoint = (first + last)//2\n",
    "        if item == lis[midpoint]:\n",
    "            found = True\n",
    "        else:\n",
    "            if item < lis[midpoint]:\n",
    "                last = midpoint - 1\n",
    "            else:\n",
    "                first = midpoint + 1\n",
    "    return found\n",
    "\n",
    "print(binary_search([1,3,7,29,40,59,85], 23))\n",
    "print(binary_search([1,3,7,29,40,59,85], 7))\n",
    "print(binary_search([1,3,7,29,40,59,85], 40))"
   ]
  },
  {
   "cell_type": "code",
   "execution_count": 4,
   "metadata": {},
   "outputs": [
    {
     "name": "stdout",
     "output_type": "stream",
     "text": [
      "True\n",
      "False\n"
     ]
    }
   ],
   "source": [
    "## binary search using recusrion, the binary search is O(logn).\n",
    "def binary_search(lis, item):\n",
    "    if len(lis) == 0:\n",
    "        return False\n",
    "    else:\n",
    "        midpoint = len(lis)//2\n",
    "        if lis[midpoint] == item:\n",
    "            return True\n",
    "        else:\n",
    "            if item < lis[midpoint]:\n",
    "                return binary_search(lis[:midpoint], item)\n",
    "            else:\n",
    "                return binary_search(lis[midpoint+1 :], item)\n",
    "            \n",
    "lis = [0, 1, 2, 8, 13, 17, 19, 32, 42,]\n",
    "print(binary_search(lis, 17))\n",
    "print(binary_search(lis, 20))"
   ]
  },
  {
   "cell_type": "markdown",
   "metadata": {},
   "source": [
    "#### HASHING"
   ]
  },
  {
   "cell_type": "code",
   "execution_count": 5,
   "metadata": {},
   "outputs": [],
   "source": [
    "# a hash table can approach O(1) performance.\n",
    "# size be a prime number so that the collision resolution algorithm can be as efficient as possible."
   ]
  },
  {
   "cell_type": "code",
   "execution_count": 6,
   "metadata": {},
   "outputs": [],
   "source": [
    "# using linear probing"
   ]
  },
  {
   "cell_type": "code",
   "execution_count": 7,
   "metadata": {},
   "outputs": [],
   "source": [
    "class HashTable:\n",
    "    def __init__(self):\n",
    "        self.size = int(input('enter size of hash : '))\n",
    "        self.slots = [None] * self.size\n",
    "        self.data = [None] * self.size\n",
    "        \n",
    "    def printHash(self):\n",
    "        index = 0\n",
    "        while index < self.size:\n",
    "            print(str(self.data[index]), end = ' ')\n",
    "            index +=1\n",
    "        \n",
    "    def put(self, key, data):\n",
    "        hash_val = self.hash_fun(key, len(self.slots))\n",
    "        \n",
    "        if self.slots[hash_val] == None:\n",
    "            self.slots[hash_val] = key\n",
    "            self.data[hash_val] = data\n",
    "        else:\n",
    "            if self.slots[hash_val] == key:\n",
    "                self.data[hash_val] = data  # replace\n",
    "            else:\n",
    "                next_slot = self.rehash(hash_val, len(self.slots))\n",
    "                while self.slots[next_slot] != None and self.slots[next_slot] != key:\n",
    "                    next_slot = rehash(next_slot, len(self.slots))\n",
    "                    \n",
    "                if self.slots[next_slot] == None:\n",
    "                    self.slots[next_slot] = key\n",
    "                    self.data[next_slot] = data\n",
    "                else:\n",
    "                    self.data[next_slot] = data #replace\n",
    "    \n",
    "    \n",
    "    def hash_fun(self, key, size):\n",
    "        return key % size\n",
    "    \n",
    "    def rehash(self, old_hash, size):\n",
    "        return (old_hash + 1) % size\n",
    "    \n",
    "    def get(self, key):\n",
    "        start_slot = self.hash_fun(key, len(self.slots))\n",
    "        data = None\n",
    "        stop = False\n",
    "        found = False\n",
    "        position = start_slot\n",
    "        while self.slots[position] != None and not found and not stop:\n",
    "            if self.slots[position] == key:\n",
    "                found = True\n",
    "                data = self.data[position]\n",
    "            else:\n",
    "                position = self.rehash(position, len(self.slots))\n",
    "                if position == start_slot:\n",
    "                    stop = True\n",
    "        return data\n",
    "    \n",
    "    def __getitem__(self, key):\n",
    "        return self.get(key)\n",
    "    \n",
    "    def __setitem__(self, key, data):\n",
    "        self.put(key,data)"
   ]
  },
  {
   "cell_type": "code",
   "execution_count": 8,
   "metadata": {},
   "outputs": [
    {
     "name": "stdout",
     "output_type": "stream",
     "text": [
      "enter size of hash : 2\n"
     ]
    },
    {
     "ename": "NameError",
     "evalue": "name 'rehash' is not defined",
     "output_type": "error",
     "traceback": [
      "\u001b[1;31m---------------------------------------------------------------------------\u001b[0m",
      "\u001b[1;31mNameError\u001b[0m                                 Traceback (most recent call last)",
      "\u001b[1;32m<ipython-input-8-4783d3fc19bb>\u001b[0m in \u001b[0;36m<module>\u001b[1;34m\u001b[0m\n\u001b[0;32m      2\u001b[0m \u001b[0mlis\u001b[0m\u001b[1;33m.\u001b[0m\u001b[0mput\u001b[0m\u001b[1;33m(\u001b[0m\u001b[1;36m113\u001b[0m\u001b[1;33m,\u001b[0m \u001b[1;36m2\u001b[0m\u001b[1;33m)\u001b[0m\u001b[1;33m\u001b[0m\u001b[1;33m\u001b[0m\u001b[0m\n\u001b[0;32m      3\u001b[0m \u001b[0mlis\u001b[0m\u001b[1;33m.\u001b[0m\u001b[0mput\u001b[0m\u001b[1;33m(\u001b[0m\u001b[1;36m117\u001b[0m\u001b[1;33m,\u001b[0m \u001b[1;36m4\u001b[0m\u001b[1;33m)\u001b[0m\u001b[1;33m\u001b[0m\u001b[1;33m\u001b[0m\u001b[0m\n\u001b[1;32m----> 4\u001b[1;33m \u001b[0mlis\u001b[0m\u001b[1;33m.\u001b[0m\u001b[0mput\u001b[0m\u001b[1;33m(\u001b[0m\u001b[1;36m116\u001b[0m\u001b[1;33m,\u001b[0m \u001b[1;36m6\u001b[0m\u001b[1;33m)\u001b[0m\u001b[1;33m\u001b[0m\u001b[1;33m\u001b[0m\u001b[0m\n\u001b[0m\u001b[0;32m      5\u001b[0m \u001b[0mlis\u001b[0m\u001b[1;33m.\u001b[0m\u001b[0mput\u001b[0m\u001b[1;33m(\u001b[0m\u001b[1;36m178\u001b[0m\u001b[1;33m,\u001b[0m \u001b[1;36m8\u001b[0m\u001b[1;33m)\u001b[0m\u001b[1;33m\u001b[0m\u001b[1;33m\u001b[0m\u001b[0m\n\u001b[0;32m      6\u001b[0m \u001b[0mprint\u001b[0m\u001b[1;33m(\u001b[0m\u001b[0mlis\u001b[0m\u001b[1;33m.\u001b[0m\u001b[0mslots\u001b[0m\u001b[1;33m)\u001b[0m\u001b[1;33m\u001b[0m\u001b[1;33m\u001b[0m\u001b[0m\n",
      "\u001b[1;32m<ipython-input-7-02b8198daa23>\u001b[0m in \u001b[0;36mput\u001b[1;34m(self, key, data)\u001b[0m\n\u001b[0;32m     23\u001b[0m                 \u001b[0mnext_slot\u001b[0m \u001b[1;33m=\u001b[0m \u001b[0mself\u001b[0m\u001b[1;33m.\u001b[0m\u001b[0mrehash\u001b[0m\u001b[1;33m(\u001b[0m\u001b[0mhash_val\u001b[0m\u001b[1;33m,\u001b[0m \u001b[0mlen\u001b[0m\u001b[1;33m(\u001b[0m\u001b[0mself\u001b[0m\u001b[1;33m.\u001b[0m\u001b[0mslots\u001b[0m\u001b[1;33m)\u001b[0m\u001b[1;33m)\u001b[0m\u001b[1;33m\u001b[0m\u001b[1;33m\u001b[0m\u001b[0m\n\u001b[0;32m     24\u001b[0m                 \u001b[1;32mwhile\u001b[0m \u001b[0mself\u001b[0m\u001b[1;33m.\u001b[0m\u001b[0mslots\u001b[0m\u001b[1;33m[\u001b[0m\u001b[0mnext_slot\u001b[0m\u001b[1;33m]\u001b[0m \u001b[1;33m!=\u001b[0m \u001b[1;32mNone\u001b[0m \u001b[1;32mand\u001b[0m \u001b[0mself\u001b[0m\u001b[1;33m.\u001b[0m\u001b[0mslots\u001b[0m\u001b[1;33m[\u001b[0m\u001b[0mnext_slot\u001b[0m\u001b[1;33m]\u001b[0m \u001b[1;33m!=\u001b[0m \u001b[0mkey\u001b[0m\u001b[1;33m:\u001b[0m\u001b[1;33m\u001b[0m\u001b[1;33m\u001b[0m\u001b[0m\n\u001b[1;32m---> 25\u001b[1;33m                     \u001b[0mnext_slot\u001b[0m \u001b[1;33m=\u001b[0m \u001b[0mrehash\u001b[0m\u001b[1;33m(\u001b[0m\u001b[0mnext_slot\u001b[0m\u001b[1;33m,\u001b[0m \u001b[0mlen\u001b[0m\u001b[1;33m(\u001b[0m\u001b[0mself\u001b[0m\u001b[1;33m.\u001b[0m\u001b[0mslots\u001b[0m\u001b[1;33m)\u001b[0m\u001b[1;33m)\u001b[0m\u001b[1;33m\u001b[0m\u001b[1;33m\u001b[0m\u001b[0m\n\u001b[0m\u001b[0;32m     26\u001b[0m \u001b[1;33m\u001b[0m\u001b[0m\n\u001b[0;32m     27\u001b[0m                 \u001b[1;32mif\u001b[0m \u001b[0mself\u001b[0m\u001b[1;33m.\u001b[0m\u001b[0mslots\u001b[0m\u001b[1;33m[\u001b[0m\u001b[0mnext_slot\u001b[0m\u001b[1;33m]\u001b[0m \u001b[1;33m==\u001b[0m \u001b[1;32mNone\u001b[0m\u001b[1;33m:\u001b[0m\u001b[1;33m\u001b[0m\u001b[1;33m\u001b[0m\u001b[0m\n",
      "\u001b[1;31mNameError\u001b[0m: name 'rehash' is not defined"
     ]
    }
   ],
   "source": [
    "lis = HashTable()\n",
    "lis.put(113, 2)\n",
    "lis.put(117, 4)\n",
    "lis.put(116, 6)\n",
    "lis.put(178, 8)\n",
    "print(lis.slots)\n",
    "print(lis.data)\n",
    "print('-----------------')\n",
    "lis.__setitem__(116, 10)\n",
    "print(lis.slots)\n",
    "print(lis.data)\n",
    "print('-----------------')\n",
    "print(lis.__getitem__(117))\n",
    "print('we won!!!!!!!!!!!!')"
   ]
  },
  {
   "cell_type": "code",
   "execution_count": 9,
   "metadata": {},
   "outputs": [
    {
     "name": "stdout",
     "output_type": "stream",
     "text": [
      "enter size of hash : \n"
     ]
    },
    {
     "ename": "ValueError",
     "evalue": "invalid literal for int() with base 10: ''",
     "output_type": "error",
     "traceback": [
      "\u001b[1;31m---------------------------------------------------------------------------\u001b[0m",
      "\u001b[1;31mValueError\u001b[0m                                Traceback (most recent call last)",
      "\u001b[1;32m<ipython-input-9-7be42c5edcb5>\u001b[0m in \u001b[0;36m<module>\u001b[1;34m\u001b[0m\n\u001b[1;32m----> 1\u001b[1;33m \u001b[0mh\u001b[0m \u001b[1;33m=\u001b[0m \u001b[0mHashTable\u001b[0m\u001b[1;33m(\u001b[0m\u001b[1;33m)\u001b[0m\u001b[1;33m\u001b[0m\u001b[1;33m\u001b[0m\u001b[0m\n\u001b[0m\u001b[0;32m      2\u001b[0m \u001b[0mh\u001b[0m\u001b[1;33m[\u001b[0m\u001b[1;36m110\u001b[0m\u001b[1;33m]\u001b[0m \u001b[1;33m=\u001b[0m \u001b[1;34m'cat'\u001b[0m\u001b[1;33m\u001b[0m\u001b[1;33m\u001b[0m\u001b[0m\n\u001b[0;32m      3\u001b[0m \u001b[0mh\u001b[0m\u001b[1;33m[\u001b[0m\u001b[1;36m390\u001b[0m\u001b[1;33m]\u001b[0m \u001b[1;33m=\u001b[0m \u001b[1;34m'dog'\u001b[0m\u001b[1;33m\u001b[0m\u001b[1;33m\u001b[0m\u001b[0m\n\u001b[0;32m      4\u001b[0m \u001b[0mh\u001b[0m\u001b[1;33m[\u001b[0m\u001b[1;36m420\u001b[0m\u001b[1;33m]\u001b[0m \u001b[1;33m=\u001b[0m \u001b[1;34m'horse'\u001b[0m\u001b[1;33m\u001b[0m\u001b[1;33m\u001b[0m\u001b[0m\n\u001b[0;32m      5\u001b[0m \u001b[0mh\u001b[0m\u001b[1;33m[\u001b[0m\u001b[1;36m248\u001b[0m\u001b[1;33m]\u001b[0m \u001b[1;33m=\u001b[0m \u001b[1;34m'panda'\u001b[0m\u001b[1;33m\u001b[0m\u001b[1;33m\u001b[0m\u001b[0m\n",
      "\u001b[1;32m<ipython-input-7-02b8198daa23>\u001b[0m in \u001b[0;36m__init__\u001b[1;34m(self)\u001b[0m\n\u001b[0;32m      1\u001b[0m \u001b[1;32mclass\u001b[0m \u001b[0mHashTable\u001b[0m\u001b[1;33m:\u001b[0m\u001b[1;33m\u001b[0m\u001b[1;33m\u001b[0m\u001b[0m\n\u001b[0;32m      2\u001b[0m     \u001b[1;32mdef\u001b[0m \u001b[0m__init__\u001b[0m\u001b[1;33m(\u001b[0m\u001b[0mself\u001b[0m\u001b[1;33m)\u001b[0m\u001b[1;33m:\u001b[0m\u001b[1;33m\u001b[0m\u001b[1;33m\u001b[0m\u001b[0m\n\u001b[1;32m----> 3\u001b[1;33m         \u001b[0mself\u001b[0m\u001b[1;33m.\u001b[0m\u001b[0msize\u001b[0m \u001b[1;33m=\u001b[0m \u001b[0mint\u001b[0m\u001b[1;33m(\u001b[0m\u001b[0minput\u001b[0m\u001b[1;33m(\u001b[0m\u001b[1;34m'enter size of hash : '\u001b[0m\u001b[1;33m)\u001b[0m\u001b[1;33m)\u001b[0m\u001b[1;33m\u001b[0m\u001b[1;33m\u001b[0m\u001b[0m\n\u001b[0m\u001b[0;32m      4\u001b[0m         \u001b[0mself\u001b[0m\u001b[1;33m.\u001b[0m\u001b[0mslots\u001b[0m \u001b[1;33m=\u001b[0m \u001b[1;33m[\u001b[0m\u001b[1;32mNone\u001b[0m\u001b[1;33m]\u001b[0m \u001b[1;33m*\u001b[0m \u001b[0mself\u001b[0m\u001b[1;33m.\u001b[0m\u001b[0msize\u001b[0m\u001b[1;33m\u001b[0m\u001b[1;33m\u001b[0m\u001b[0m\n\u001b[0;32m      5\u001b[0m         \u001b[0mself\u001b[0m\u001b[1;33m.\u001b[0m\u001b[0mdata\u001b[0m \u001b[1;33m=\u001b[0m \u001b[1;33m[\u001b[0m\u001b[1;32mNone\u001b[0m\u001b[1;33m]\u001b[0m \u001b[1;33m*\u001b[0m \u001b[0mself\u001b[0m\u001b[1;33m.\u001b[0m\u001b[0msize\u001b[0m\u001b[1;33m\u001b[0m\u001b[1;33m\u001b[0m\u001b[0m\n",
      "\u001b[1;31mValueError\u001b[0m: invalid literal for int() with base 10: ''"
     ]
    }
   ],
   "source": [
    "h = HashTable()\n",
    "h[110] = 'cat'\n",
    "h[390] = 'dog' \n",
    "h[420] = 'horse' \n",
    "h[248] = 'panda'\n",
    "print(h.data)\n",
    "print(h[390])\n",
    "print('-----------')\n",
    "h[390] = 'dolphin'\n",
    "print(h.data)"
   ]
  },
  {
   "cell_type": "markdown",
   "metadata": {},
   "source": [
    "### Sorting"
   ]
  },
  {
   "cell_type": "code",
   "execution_count": 10,
   "metadata": {},
   "outputs": [
    {
     "name": "stdout",
     "output_type": "stream",
     "text": [
      "[2, 6, 8, 9, 23, 39, 60, 69, 645]\n"
     ]
    }
   ],
   "source": [
    "# Bubble sort\n",
    "# in this we compare element to element and sort vice\n",
    "def bubble_sort(lis):\n",
    "    for limit in range(len(lis)-1, 0, -1):\n",
    "        for i in range(limit):\n",
    "            if lis[i] > lis[i+1]:\n",
    "                temp = lis[i]\n",
    "                lis[i] = lis[i+1]\n",
    "                lis[i+1] = temp\n",
    "    return lis\n",
    "\n",
    "print(bubble_sort([9,6,8,2,23,69,645,39,60]))                 "
   ]
  },
  {
   "cell_type": "code",
   "execution_count": 11,
   "metadata": {},
   "outputs": [
    {
     "name": "stdout",
     "output_type": "stream",
     "text": [
      "[5, 20, 38, 42, 59, 63, 72]\n"
     ]
    }
   ],
   "source": [
    "def short_bubble(lis):\n",
    "    pass_num = len(lis)-1\n",
    "    exchange = True\n",
    "    while pass_num > 0 and exchange:\n",
    "        exchange = False\n",
    "        for i in range(pass_num):\n",
    "            if lis[i] > lis[i+1]:\n",
    "                exchange = True\n",
    "                temp = lis[i]\n",
    "                lis[i] = lis[i+1]\n",
    "                lis[i+1] = temp\n",
    "        pass_num -= 1\n",
    "    return lis\n",
    "\n",
    "print(short_bubble([5,20,59,72,38,42,63]))                "
   ]
  },
  {
   "cell_type": "code",
   "execution_count": 12,
   "metadata": {},
   "outputs": [],
   "source": [
    "## Selection sort\n",
    "## here we find the largest element and take it at end of list"
   ]
  },
  {
   "cell_type": "code",
   "execution_count": 14,
   "metadata": {},
   "outputs": [
    {
     "name": "stdout",
     "output_type": "stream",
     "text": [
      "[17, 20, 26, 31, 44, 54, 55, 77, 93]\n"
     ]
    }
   ],
   "source": [
    "def selection_sort(lis):\n",
    "    for limit in range(len(lis)-1, 0,-1):\n",
    "        max_item = 0\n",
    "        for index in range(1, limit+1):\n",
    "            if lis[index] > lis[max_item]:\n",
    "                max_item = index\n",
    "   \n",
    "        temp = lis[index]\n",
    "        lis[index] = lis[max_item]\n",
    "        lis[max_item] = temp\n",
    "    \n",
    "    return lis\n",
    "\n",
    "print(selection_sort([54, 26, 93, 17, 77, 31, 44, 55, 20]))            "
   ]
  },
  {
   "cell_type": "code",
   "execution_count": 15,
   "metadata": {},
   "outputs": [
    {
     "name": "stdout",
     "output_type": "stream",
     "text": [
      "[17, 20, 26, 31, 44, 54, 55, 77, 93]\n"
     ]
    }
   ],
   "source": [
    "## insertion sort\n",
    "def insertion_sort(lis):\n",
    "    for index in range(1, len(lis)):\n",
    "        c_val = lis[index]\n",
    "        pos = index\n",
    "        while pos > 0 and lis[pos-1] > c_val:\n",
    "            lis[pos] = lis[pos-1]\n",
    "            pos -= 1\n",
    "        lis[pos] = c_val\n",
    "        \n",
    "    return lis\n",
    "    \n",
    "            \n",
    "\n",
    "print(insertion_sort([54, 26, 93, 17, 77, 31, 44, 55, 20]))"
   ]
  },
  {
   "cell_type": "code",
   "execution_count": 16,
   "metadata": {},
   "outputs": [
    {
     "name": "stdout",
     "output_type": "stream",
     "text": [
      "[17, 20, 26, 31, 44, 54, 55, 77, 93]\n"
     ]
    }
   ],
   "source": [
    "## shell sort\n",
    "\n",
    "def shell_sort(lis):\n",
    "    sublis = len(lis)//2\n",
    "    while sublis >0:\n",
    "        for start in range(sublis):\n",
    "            gap_insertion_sort(lis, start, sublis)\n",
    "        sublis = sublis // 2\n",
    "    return lis\n",
    "        \n",
    "def gap_insertion_sort(lis, start, gap):\n",
    "    for i in range(start + gap, len(lis), gap):\n",
    "        current_value = lis[i]\n",
    "        position = i\n",
    "        while position >= gap and lis[position - gap] >current_value:\n",
    "            lis[position] = lis[position - gap]\n",
    "            position = position - gap\n",
    "            lis[position] = current_value\n",
    "            \n",
    "print(shell_sort([54, 26, 93, 17, 77, 31, 44, 55, 20]))"
   ]
  },
  {
   "cell_type": "code",
   "execution_count": 17,
   "metadata": {},
   "outputs": [],
   "source": [
    "## merge and quick\n",
    "# A merge sort is an 𝑂(𝑛 log 𝑛) algorithm."
   ]
  },
  {
   "cell_type": "code",
   "execution_count": 3,
   "metadata": {},
   "outputs": [
    {
     "name": "stdout",
     "output_type": "stream",
     "text": [
      "[3, 4, 12, 27, 35, 45]\n"
     ]
    }
   ],
   "source": [
    "def mergeSort(myList):\n",
    "    if len(myList) > 1:\n",
    "        mid = len(myList) // 2\n",
    "        left = myList[:mid]\n",
    "        right = myList[mid:]\n",
    "\n",
    "        # Recursive call on each half\n",
    "        mergeSort(left)\n",
    "        mergeSort(right)\n",
    "\n",
    "        # Two iterators for traversing the two halves\n",
    "        i = 0\n",
    "        j = 0\n",
    "        \n",
    "        # Iterator for the main list\n",
    "        k = 0\n",
    "        \n",
    "        while i < len(left) and j < len(right):\n",
    "            if left[i] < right[j]:\n",
    "              # The value from the left half has been used\n",
    "              myList[k] = left[i]\n",
    "              # Move the iterator forward\n",
    "              i += 1\n",
    "            else:\n",
    "                myList[k] = right[j]\n",
    "                j += 1\n",
    "            # Move to the next slot\n",
    "            k += 1\n",
    "\n",
    "        # For all the remaining values\n",
    "        while i < len(left):\n",
    "            myList[k] = left[i]\n",
    "            i += 1\n",
    "            k += 1\n",
    "\n",
    "        while j < len(right):\n",
    "            myList[k]=right[j]\n",
    "            j += 1\n",
    "            k += 1\n",
    "    return myList\n",
    "\n",
    "arr1 = [4,3,27, 45, 12, 35]\n",
    "myList = [21, 1, 26, 45, 29, 28, 2, 9, 16, 49, 39, 27, 43, 34, 46, 40]\n",
    "print(mergeSort(arr1))"
   ]
  },
  {
   "cell_type": "raw",
   "metadata": {},
   "source": [
    "# quick sort\n",
    "Best CaseO (n log n)\n",
    "Average Case O(n log n)\n",
    "Worst Case O(n2)"
   ]
  },
  {
   "cell_type": "code",
   "execution_count": 19,
   "metadata": {},
   "outputs": [
    {
     "name": "stdout",
     "output_type": "stream",
     "text": [
      "[2, 3, 4, 5, 7, 8, 9]\n"
     ]
    }
   ],
   "source": [
    "# quick sort\n",
    "def quickSort(lis):\n",
    "    quick_sort_helper(lis, 0, len(lis) - 1)\n",
    "    return lis\n",
    "\n",
    "def quick_sort_helper(lis, first, last):\n",
    "    if first < last:\n",
    "        split_point = partition(lis, first, last)\n",
    "        \n",
    "        quick_sort_helper(lis, first, split_point -1)\n",
    "        quick_sort_helper(lis, split_point + 1, last)\n",
    "    \n",
    "\n",
    "def partition(lis, first, las):\n",
    "    pivot = lis[first]\n",
    "    left = first + 1\n",
    "    right = las\n",
    "    \n",
    "    done = False\n",
    "    while not done:\n",
    "        if left <= right and lis[left] <= pivot:\n",
    "            left += 1\n",
    "            \n",
    "        if left <= right and lis[right] >= pivot:\n",
    "            right -= 1\n",
    "            \n",
    "        if right < left :\n",
    "            done = True\n",
    "        else:\n",
    "            temp = lis[right]\n",
    "            lis[right] = lis[left]\n",
    "            lis[left] = temp\n",
    "            \n",
    "    temp = lis[first]\n",
    "    lis[first] = lis[right]\n",
    "    lis[right] = temp\n",
    "\n",
    "    return right\n",
    "    \n",
    "print(quickSort([4, 3, 2, 5, 9, 7, 8]))"
   ]
  },
  {
   "cell_type": "code",
   "execution_count": 20,
   "metadata": {},
   "outputs": [
    {
     "name": "stdout",
     "output_type": "stream",
     "text": [
      "[2, 3, 4, 5, 7, 8, 9]\n"
     ]
    }
   ],
   "source": [
    "def partition(sort_list, low, high):\n",
    "    i = (low -1)\n",
    "    pivot = sort_list[high]\n",
    "    for j in range(low, high):\n",
    "        if sort_list[j] <= pivot:\n",
    "            i += 1\n",
    "            sort_list[i], sort_list[j] = sort_list[j], sort_list[i]\n",
    "    sort_list[i+1],sort_list[high] = sort_list[high], sort_list[i+1]\n",
    "    return (i+1)\n",
    "            \n",
    "def quick_sort(sort_list, low, high):\n",
    "    if low < high:\n",
    "        pi = partition(sort_list, low, high)\n",
    "        quick_sort(sort_list, low, pi-1)\n",
    "        quick_sort(sort_list, pi+1, high)\n",
    "        \n",
    "    return sort_list\n",
    "print(quick_sort([4, 3, 2, 5, 9, 7, 8], 0,6))"
   ]
  },
  {
   "cell_type": "code",
   "execution_count": 21,
   "metadata": {},
   "outputs": [
    {
     "name": "stdout",
     "output_type": "stream",
     "text": [
      "2\n",
      "[2]\n"
     ]
    }
   ],
   "source": [
    "# count sort\n",
    "\n",
    "def count_sort(arr):\n",
    "    \n",
    "    # counting of number\n",
    "    count = [0]*10\n",
    "    for i in arr:\n",
    "        count[i] += 1\n",
    "\n",
    "    # updaring count values\n",
    "    for i in range(1,n):\n",
    "        count[i] += count[i-1]\n",
    "\n",
    "    # sorting array using counting algo\n",
    "    sort_arr = [0]*len(arr)\n",
    "    for num in arr:\n",
    "        k = count[num]\n",
    "        sort_arr[k-1] = num\n",
    "        count[num] -= 1\n",
    "    \n",
    "    return sort_arr\n",
    "\n",
    "arr = list(map(int, input().split()))\n",
    "print(count_sort(arr))"
   ]
  },
  {
   "cell_type": "code",
   "execution_count": null,
   "metadata": {},
   "outputs": [],
   "source": []
  },
  {
   "cell_type": "code",
   "execution_count": null,
   "metadata": {},
   "outputs": [],
   "source": []
  },
  {
   "cell_type": "code",
   "execution_count": 22,
   "metadata": {},
   "outputs": [],
   "source": [
    "### Done with sorting"
   ]
  },
  {
   "cell_type": "code",
   "execution_count": 23,
   "metadata": {},
   "outputs": [],
   "source": [
    "# dynamic programming"
   ]
  },
  {
   "cell_type": "code",
   "execution_count": 24,
   "metadata": {},
   "outputs": [
    {
     "name": "stdout",
     "output_type": "stream",
     "text": [
      "(5, [10, 22, 33, 50, 60])\n"
     ]
    }
   ],
   "source": [
    "# longest subsequence\n",
    "\n",
    "def longest_sub(arr):\n",
    "    n = len(arr)\n",
    "    lis = [1]*n\n",
    "    lis2 = []\n",
    "    for i in range(1,n):\n",
    "        for j in range(i):\n",
    "            if arr[i] > arr[j] and lis[i] < lis[j]+1: \n",
    "                #find if arr[i]>arr[j] and stroing max value only.\n",
    "                lis[i] = lis[j]+1\n",
    "    \n",
    "    for i in set(lis):\n",
    "        lis2.append(arr[lis.index(i)]) #first occurences of indexes\n",
    "    return max(lis), lis2\n",
    "\n",
    "print(longest_sub([10,22,9,33,21,50,41,60]))"
   ]
  },
  {
   "cell_type": "code",
   "execution_count": 25,
   "metadata": {},
   "outputs": [
    {
     "name": "stdout",
     "output_type": "stream",
     "text": [
      "2\n"
     ]
    }
   ],
   "source": [
    "#space optimized\n",
    "def longest_substring(x,y):\n",
    "    n,m = (len(y)+1),(len(x)+1) #m= columns, n =rows\n",
    "    lis = [[0 for j in range(m)] for i in range(n)]\n",
    "    for i in range(n):\n",
    "        for j in range(m):\n",
    "            if i == 0 or j == 0:\n",
    "                lis[i][j] = 0\n",
    "            elif y[i-1] == x[j-1]: # if same increse diagonal value \n",
    "                lis[i][j] = lis[i-1][j-1] + 1\n",
    "            else:\n",
    "                lis[i][j] = max(lis[i][j-1], lis[i-1][j])\n",
    "        \n",
    "    return lis[n-1][m-1]\n",
    "print(longest_substring('ABCDEF','FBDAMN'))"
   ]
  },
  {
   "cell_type": "code",
   "execution_count": 1,
   "metadata": {},
   "outputs": [
    {
     "name": "stdout",
     "output_type": "stream",
     "text": [
      "The length of LCS is 4\n"
     ]
    }
   ],
   "source": [
    "# Function to find length of Longest Common Subsequence of\n",
    "# sequences X[0..m-1] and Y[0..n-1]\n",
    "def LCSLength(X, Y, m, n):\n",
    "\n",
    "    # return if we have reached the end of either sequence\n",
    "    if m == 0 or n == 0:\n",
    "        return 0\n",
    "    # if last character of X and Y matches\n",
    "    if X[m - 1] == Y[n - 1]:\n",
    "        return LCSLength(X, Y, m - 1, n - 1) + 1\n",
    "    \n",
    "    # else if last character of X and Y don't match\n",
    "    return max(LCSLength(X, Y, m, n - 1), LCSLength(X, Y, m - 1, n))\n",
    "\n",
    "\n",
    "if __name__ == '__main__':\n",
    "\n",
    "    X = \"ABCBDAB\"\n",
    "    Y = \"BDCABA\"\n",
    "    print(\"The length of LCS is\", LCSLength(X, Y, len(X), len(Y)))\n"
   ]
  },
  {
   "cell_type": "code",
   "execution_count": null,
   "metadata": {},
   "outputs": [],
   "source": []
  },
  {
   "cell_type": "code",
   "execution_count": null,
   "metadata": {},
   "outputs": [],
   "source": []
  }
 ],
 "metadata": {
  "kernelspec": {
   "display_name": "Python 3 (ipykernel)",
   "language": "python",
   "name": "python3"
  },
  "language_info": {
   "codemirror_mode": {
    "name": "ipython",
    "version": 3
   },
   "file_extension": ".py",
   "mimetype": "text/x-python",
   "name": "python",
   "nbconvert_exporter": "python",
   "pygments_lexer": "ipython3",
   "version": "3.10.4"
  }
 },
 "nbformat": 4,
 "nbformat_minor": 2
}
