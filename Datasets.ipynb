{
 "cells": [
  {
   "cell_type": "code",
   "execution_count": 5,
   "id": "d95b4f45",
   "metadata": {},
   "outputs": [
    {
     "name": "stdout",
     "output_type": "stream",
     "text": [
      "   pixel_0_0  pixel_0_1  pixel_0_2  pixel_0_3  pixel_0_4  pixel_0_5  \\\n",
      "0        0.0        0.0        5.0       13.0        9.0        1.0   \n",
      "1        0.0        0.0        0.0       12.0       13.0        5.0   \n",
      "2        0.0        0.0        0.0        4.0       15.0       12.0   \n",
      "3        0.0        0.0        7.0       15.0       13.0        1.0   \n",
      "4        0.0        0.0        0.0        1.0       11.0        0.0   \n",
      "\n",
      "   pixel_0_6  pixel_0_7  pixel_1_0  pixel_1_1  ...  pixel_6_6  pixel_6_7  \\\n",
      "0        0.0        0.0        0.0        0.0  ...        0.0        0.0   \n",
      "1        0.0        0.0        0.0        0.0  ...        0.0        0.0   \n",
      "2        0.0        0.0        0.0        0.0  ...        5.0        0.0   \n",
      "3        0.0        0.0        0.0        8.0  ...        9.0        0.0   \n",
      "4        0.0        0.0        0.0        0.0  ...        0.0        0.0   \n",
      "\n",
      "   pixel_7_0  pixel_7_1  pixel_7_2  pixel_7_3  pixel_7_4  pixel_7_5  \\\n",
      "0        0.0        0.0        6.0       13.0       10.0        0.0   \n",
      "1        0.0        0.0        0.0       11.0       16.0       10.0   \n",
      "2        0.0        0.0        0.0        3.0       11.0       16.0   \n",
      "3        0.0        0.0        7.0       13.0       13.0        9.0   \n",
      "4        0.0        0.0        0.0        2.0       16.0        4.0   \n",
      "\n",
      "   pixel_7_6  pixel_7_7  \n",
      "0        0.0        0.0  \n",
      "1        0.0        0.0  \n",
      "2        9.0        0.0  \n",
      "3        0.0        0.0  \n",
      "4        0.0        0.0  \n",
      "\n",
      "[5 rows x 64 columns]\n"
     ]
    }
   ],
   "source": [
    "import pandas as pd \n",
    "from sklearn.datasets import load_digits\n",
    "data = load_digits()\n",
    "df = pd.DataFrame(data['data'], columns=data['feature_names'])\n",
    "print(df.head())\n"
   ]
  },
  {
   "cell_type": "code",
   "execution_count": 3,
   "id": "144fe3b0",
   "metadata": {},
   "outputs": [
    {
     "name": "stdout",
     "output_type": "stream",
     "text": [
      "fetch_20newsgroups()\n",
      "fetch_20newsgroups_vectorized()\n",
      "fetch_california_housing()\n",
      "fetch_covtype()\n",
      "fetch_kddcup99()\n",
      "fetch_lfw_pairs()\n",
      "fetch_lfw_people()\n",
      "fetch_olivetti_faces()\n",
      "fetch_openml()\n",
      "fetch_rcv1()\n",
      "fetch_species_distributions()\n",
      "load_boston()\n",
      "load_breast_cancer()\n",
      "load_diabetes()\n",
      "load_digits()\n",
      "load_files()\n",
      "load_iris()\n",
      "load_linnerud()\n",
      "load_sample_image()\n",
      "load_sample_images()\n",
      "load_svmlight_file()\n",
      "load_svmlight_files()\n",
      "load_wine()\n"
     ]
    }
   ],
   "source": [
    "from sklearn.datasets import *\n",
    "import inspect\n",
    "import sys\n",
    "\n",
    "dataset = []\n",
    "count = 0\n",
    "for name, obj in inspect.getmembers(sys.modules[__name__]):\n",
    "    if inspect.isfunction(obj) and (name.startswith('load_') or name.startswith('fetch_')):\n",
    "        dataset.append(name+\"()\")\n",
    "        \n",
    "for data in dataset:\n",
    "    print(data)\n",
    "    "
   ]
  },
  {
   "cell_type": "code",
   "execution_count": null,
   "id": "826f6860",
   "metadata": {},
   "outputs": [],
   "source": [
    "import statsmodels.api as sm\n",
    "data = sm.datasets.get_rdataset('iris', 'datasets')\n",
    "df = data.data\n",
    "print(df.head())\n"
   ]
  },
  {
   "cell_type": "code",
   "execution_count": null,
   "id": "4538cb26",
   "metadata": {},
   "outputs": [],
   "source": [
    "import statsmodels.api as sm\n",
    "\n",
    "print(sm.datasets.get_dataset_names())\n"
   ]
  },
  {
   "cell_type": "code",
   "execution_count": null,
   "id": "b2bd955e",
   "metadata": {},
   "outputs": [],
   "source": [
    "import statsmodels.api as sm\n",
    "\n",
    "if hasattr(sm.datasets, \"get_dataset_names\"):\n",
    "    print(sm.datasets.get_dataset_names())\n",
    "else:\n",
    "    print(\"The 'get_dataset_names' function is not available in this version of statsmodels.\")\n"
   ]
  },
  {
   "cell_type": "code",
   "execution_count": null,
   "id": "25da5be9",
   "metadata": {},
   "outputs": [],
   "source": [
    "import seaborn as sns\n",
    "df = sns.load_dataset('iris')\n",
    "print(df.head())\n"
   ]
  },
  {
   "cell_type": "code",
   "execution_count": null,
   "id": "c0ae5ea6",
   "metadata": {},
   "outputs": [],
   "source": [
    "print(sns.get_dataset_names())"
   ]
  },
  {
   "cell_type": "code",
   "execution_count": null,
   "id": "a2e079d3",
   "metadata": {},
   "outputs": [],
   "source": [
    "for dataset in sns.get_dataset_names():\n",
    "    df = sns.load_dataset(dataset)\n",
    "    print(df.head())\n",
    "    "
   ]
  },
  {
   "cell_type": "code",
   "execution_count": 6,
   "id": "430aa744",
   "metadata": {},
   "outputs": [],
   "source": [
    "#some known dataset links"
   ]
  },
  {
   "cell_type": "markdown",
   "id": "bfaaec82",
   "metadata": {},
   "source": [
    "Iris Dataset: https://archive.ics.uci.edu/ml/datasets/iris\n",
    "\n",
    "Boston Housing Dataset: https://archive.ics.uci.edu/ml/datasets/Housing\n",
    "\n",
    "MNIST Dataset: http://yann.lecun.com/exdb/mnist/\n",
    "\n",
    "CIFAR-10 Dataset: https://www.cs.toronto.edu/~kriz/cifar.html\n",
    "\n",
    "Wine Quality Dataset: https://archive.ics.uci.edu/ml/datasets/wine+quality\n",
    "\n",
    "Fashion-MNIST Dataset: https://github.com/zalandoresearch/fashion-mnist\n",
    "\n",
    "Adult Census Income Dataset: https://archive.ics.uci.edu/ml/datasets/adult\n",
    "\n",
    "Credit Card Fraud Dataset: https://www.kaggle.com/mlg-ulb/creditcardfraud\n",
    "\n",
    "Breast Cancer Wisconsin Dataset: https://archive.ics.uci.edu/ml/datasets/breast+cancer+wisconsin+(original)\n",
    "\n",
    "Heart Disease Dataset: https://archive.ics.uci.edu/ml/datasets/heart+Disease\n",
    "\n",
    "Stanford Sentiment Treebank: https://nlp.stanford.edu/sentiment/treebank.html\n",
    "\n",
    "Yelp Dataset: https://www.yelp.com/dataset\n",
    "\n",
    "New York City Taxi Trip Duration: https://www.kaggle.com/c/nyc-taxi-trip-duration/data\n",
    "\n",
    "Airbnb Dataset: http://insideairbnb.com/get-the-data.html\n",
    "\n",
    "Google Analytics Customer Revenue Prediction: https://www.kaggle.com/c/ga-customer-revenue-prediction/data\n",
    "\n",
    "YouTube-8M Dataset: https://research.google.com/youtube8m/\n",
    "\n",
    "ImageNet Dataset: http://image-net.org/\n",
    "\n",
    "Twitter Sentiment Analysis Dataset: http://thinknook.com/twitter-sentiment-analysis-training-corpus-dataset-2012-09-22/\n",
    "\n",
    "Amazon Reviews Dataset: https://registry.opendata.aws/amazon-reviews/\n",
    "\n",
    "Open Images Dataset: https://opensource.google/projects/open-images-dataset\n",
    "\n",
    "Titanic Dataset: https://www.kaggle.com/c/titanic/data\n",
    "\n",
    "House Prices Dataset: https://www.kaggle.com/c/house-prices-advanced-regression-techniques/data\n",
    "\n",
    "Customer Churn Dataset: https://www.kaggle.com/blastchar/telco-customer-churn\n",
    "\n",
    "Diabetes Dataset: https://www.kaggle.com/uciml/pima-indians-diabetes-database\n",
    "\n",
    "Parkinson's Disease Dataset: https://archive.ics.uci.edu/ml/datasets/Parkinsons\n",
    "\n",
    "Hotel Booking Demand Dataset: https://www.kaggle.com/jessemostipak/hotel-booking-demand\n",
    "\n",
    "Sentiment140 Dataset: http://help.sentiment140.com/for-students\n",
    "\n",
    "Road Accident Dataset: https://www.kaggle.com/tsiaras/uk-road-safety-accidents-and-vehicles\n",
    "\n",
    "Indian Premier League (IPL) Dataset: https://www.kaggle.com/manasgarg/ipl\n",
    "\n",
    "US Mass Shootings Dataset: https://www.kaggle.com/zusmani/us-mass-shootings-last-50-years\n",
    "\n",
    "Wine Reviews Dataset: https://www.kaggle.com/zynicide/wine-reviews\n",
    "\n",
    "Car Evaluation Dataset: https://archive.ics.uci.edu/ml/datasets/Car+Evaluation\n",
    "\n",
    "Stock Price Dataset: https://www.kaggle.com/ehallmar/daily-historical-stock-prices-1970-2018\n",
    "\n",
    "Mushroom Classification Dataset: https://www.kaggle.com/uciml/mushroom-classification\n",
    "\n",
    "FIFA World Cup Dataset: https://www.kaggle.com/abecklas/fifa-world-cup\n",
    "\n",
    "Forest Fires Dataset: https://www.kaggle.com/elikplim/forest-fires-data-set\n",
    "\n",
    "Google Play Store Apps Dataset: https://www.kaggle.com/lava18/google-play-store-apps\n",
    "\n",
    "Traffic Signs Recognition Dataset: https://www.kaggle.com/meowmeowmeowmeowmeow/gtsrb-german-traffic-sign\n",
    "\n",
    "Bike Sharing Dataset: https://www.kaggle.com/c/bike-sharing-demand/data\n",
    "\n",
    "Reddit Comments Dataset: https://www.kaggle.com/reddit/reddit-comments-may-2015"
   ]
  },
  {
   "cell_type": "raw",
   "id": "9a2f701a",
   "metadata": {},
   "source": [
    "There are many NLP datasets available for a variety of tasks. Here are some examples:\n",
    "\n",
    "Sentiment Analysis: IMDb movie reviews, Yelp restaurant reviews, Amazon product reviews, Twitter sentiment analysis dataset.\n",
    "\n",
    "Named Entity Recognition: CoNLL-2003, OntoNotes, Wikigold, ACE 2005, GermEval.\n",
    "\n",
    "Text Classification: 20 Newsgroups, Reuters News, AG News, BBC News, Yelp Review Polarity.\n",
    "\n",
    "Question Answering: SQuAD, MS MARCO, TriviaQA, BioASQ, SimpleQuestions.\n",
    "\n",
    "Machine Translation: WMT, IWSLT, MultiUN, TED Talks, Europarl.\n",
    "\n",
    "Text Summarization: CNN/Daily Mail, XSum, Gigaword, DUC, TAC.\n",
    "\n",
    "Language Modeling: Penn Treebank, WikiText, One Billion Word Benchmark, Enron Emails.\n",
    "\n",
    "Relation Extraction: SemEval 2010 Task 8, NYT Entity and Relation Recognition, BioNLP Shared Task."
   ]
  },
  {
   "cell_type": "raw",
   "id": "ebbf62fb",
   "metadata": {},
   "source": [
    "small dataset kaggle \n",
    "\n",
    "Iris Dataset - contains 150 samples of iris flowers, with 4 features each\n",
    "Wine Dataset - contains the results of a chemical analysis of wines grown in a specific area of Italy\n",
    "Breast Cancer Wisconsin (Diagnostic) Dataset - contains information on breast cancer tumors and classification labels\n",
    "Boston Housing Dataset - contains information on housing values in suburbs of Boston\n",
    "Seeds Dataset - contains measurements of geometrical properties of kernels belonging to three different varieties of wheat\n",
    "Diabetes Dataset - contains medical record data of 768 patients for predicting whether they will have diabetes or not\n",
    "Pima Indian Diabetes Dataset - contains medical record data of Pima Indian women for predicting diabetes onset\n",
    "Glass Dataset - contains measurements of refractive index and chemical composition of glass samples, classified by type\n",
    "Haberman's Survival Dataset - contains the survival status of patients who had undergone surgery for breast cancer\n",
    "Abalone Dataset - contains physical measurements of abalone and their age (number of rings)\n",
    "Heart Disease UCI - contains data on patients with heart disease and their diagnosis\n",
    "Student Performance in Exams - contains data on students' exam scores and demographic information\n",
    "Bank Marketing - contains data on a bank's marketing campaign and whether clients subscribed to a term deposit\n",
    "Mushroom Classification - contains data on the physical characteristics of mushrooms and whether they are edible or poisonous\n",
    "FIFA 19 complete player dataset - contains data on soccer players' attributes and ratings\n",
    "Human Resources Analytics - contains data on employee information and whether they left the company or not\n",
    "Historical Hourly Weather Data - contains hourly weather data from various cities around the world\n",
    "Video Game Sales - contains data on video game sales across various platforms\n",
    "New York City Airbnb Open Data - contains data on Airbnb rentals in New York City\n",
    "TMDB 5000 Movie Dataset - contains data on movies, including their budget, revenue, and ratings"
   ]
  },
  {
   "cell_type": "markdown",
   "id": "974e2dc0",
   "metadata": {},
   "source": [
    "perform eda on Video Game Sales kaggle dataset by plotting figures using matplotlib and pandas. derive meaningfull insight using those plots. also do data cleasning and processing at start if requried."
   ]
  },
  {
   "cell_type": "code",
   "execution_count": null,
   "id": "0facfbd3",
   "metadata": {},
   "outputs": [],
   "source": []
  }
 ],
 "metadata": {
  "kernelspec": {
   "display_name": "Python 3 (ipykernel)",
   "language": "python",
   "name": "python3"
  },
  "language_info": {
   "codemirror_mode": {
    "name": "ipython",
    "version": 3
   },
   "file_extension": ".py",
   "mimetype": "text/x-python",
   "name": "python",
   "nbconvert_exporter": "python",
   "pygments_lexer": "ipython3",
   "version": "3.10.4"
  }
 },
 "nbformat": 4,
 "nbformat_minor": 5
}
