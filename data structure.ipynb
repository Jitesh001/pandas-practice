{
 "cells": [
  {
   "cell_type": "markdown",
   "metadata": {},
   "source": [
    "# Stack implemention"
   ]
  },
  {
   "cell_type": "markdown",
   "metadata": {},
   "source": [
    "https://runestone.academy/runestone/books/published/pythonds/index.html"
   ]
  },
  {
   "cell_type": "code",
   "execution_count": 1,
   "metadata": {},
   "outputs": [],
   "source": [
    "class Stack():\n",
    "    def __init__(self):\n",
    "        self.items = []\n",
    "        \n",
    "    def __str__(self):\n",
    "        return str(self.items)\n",
    "        \n",
    "    def isempty(self):\n",
    "        return self.items == []\n",
    "    \n",
    "    def push(self, item):\n",
    "        return self.items.append(item)\n",
    "    \n",
    "    def pop(self):\n",
    "        return self.items.pop()\n",
    "    \n",
    "    def peek(self):\n",
    "        return self.items[len(self.items)-1]\n",
    "    \n",
    "    def size(self):\n",
    "        return len(self.items)\n",
    "        "
   ]
  },
  {
   "cell_type": "code",
   "execution_count": 6,
   "metadata": {},
   "outputs": [],
   "source": [
    "s = Stack()"
   ]
  },
  {
   "cell_type": "code",
   "execution_count": 7,
   "metadata": {},
   "outputs": [
    {
     "name": "stdout",
     "output_type": "stream",
     "text": [
      "True\n"
     ]
    }
   ],
   "source": [
    "print(s.isempty())"
   ]
  },
  {
   "cell_type": "code",
   "execution_count": 8,
   "metadata": {},
   "outputs": [
    {
     "name": "stdout",
     "output_type": "stream",
     "text": [
      "[1, 2, 3, 4]\n"
     ]
    }
   ],
   "source": [
    "s.push(1)\n",
    "s.push(2)\n",
    "s.push(3)\n",
    "s.push(4)\n",
    "print(s)"
   ]
  },
  {
   "cell_type": "code",
   "execution_count": 9,
   "metadata": {},
   "outputs": [
    {
     "name": "stdout",
     "output_type": "stream",
     "text": [
      "False\n",
      "4\n"
     ]
    }
   ],
   "source": [
    "print(s.isempty())\n",
    "print(s.size())"
   ]
  },
  {
   "cell_type": "code",
   "execution_count": 10,
   "metadata": {},
   "outputs": [
    {
     "name": "stdout",
     "output_type": "stream",
     "text": [
      "[1, 2, 3, 4]\n"
     ]
    }
   ],
   "source": [
    "print(s)"
   ]
  },
  {
   "cell_type": "code",
   "execution_count": 11,
   "metadata": {},
   "outputs": [
    {
     "name": "stdout",
     "output_type": "stream",
     "text": [
      "4\n"
     ]
    }
   ],
   "source": [
    "print(s.pop())"
   ]
  },
  {
   "cell_type": "code",
   "execution_count": 12,
   "metadata": {},
   "outputs": [
    {
     "name": "stdout",
     "output_type": "stream",
     "text": [
      "[1, 2, 3]\n"
     ]
    }
   ],
   "source": [
    "print(s)"
   ]
  },
  {
   "cell_type": "code",
   "execution_count": 9,
   "metadata": {},
   "outputs": [],
   "source": [
    "# Paranthesis matching"
   ]
  },
  {
   "cell_type": "code",
   "execution_count": 9,
   "metadata": {},
   "outputs": [],
   "source": [
    "def par_match(string):\n",
    "    index = 0\n",
    "    balanced = True\n",
    "    s = Stack()\n",
    "    while index < len(string) and balanced:\n",
    "        symbol = string[index]\n",
    "        if symbol == \"(\":\n",
    "            s.push(symbol)\n",
    "        else:\n",
    "            if s.isempty():\n",
    "                balanced = False\n",
    "            else:\n",
    "                s.pop()\n",
    "                \n",
    "        index += 1\n",
    "        \n",
    "    if s.isempty() and  balanced:\n",
    "        return True\n",
    "    else:\n",
    "        return False"
   ]
  },
  {
   "cell_type": "code",
   "execution_count": 10,
   "metadata": {},
   "outputs": [
    {
     "name": "stdout",
     "output_type": "stream",
     "text": [
      "True\n",
      "False\n"
     ]
    }
   ],
   "source": [
    "print(par_match(\"(((())))\"))\n",
    "print(par_match(\"(((())\"))"
   ]
  },
  {
   "cell_type": "code",
   "execution_count": 11,
   "metadata": {},
   "outputs": [],
   "source": [
    "# bracket matching"
   ]
  },
  {
   "cell_type": "code",
   "execution_count": 14,
   "metadata": {},
   "outputs": [],
   "source": [
    "def matched(opens, close):\n",
    "    opened = \"({[\"\n",
    "    closed = \")}]\"\n",
    "    return opened.index(opens) == closed.index(close)\n",
    "    \n",
    "\n",
    "def bracket_match(string):\n",
    "    s = Stack()\n",
    "    balanced = True\n",
    "    index = 0\n",
    "    while index < len(string) and balanced:\n",
    "        symbol = string[index]\n",
    "        if symbol in \"({[\":\n",
    "            s.push(symbol)\n",
    "        else:\n",
    "            if s.isempty():\n",
    "                balanced = False\n",
    "            else:\n",
    "                top = s.pop()\n",
    "                if not matched(top, symbol):\n",
    "                    balanced = False\n",
    "        index += 1\n",
    "        \n",
    "    if s.isempty() and balanced:\n",
    "        return True\n",
    "    else:\n",
    "        return False\n",
    "        \n"
   ]
  },
  {
   "cell_type": "code",
   "execution_count": 16,
   "metadata": {},
   "outputs": [
    {
     "name": "stdout",
     "output_type": "stream",
     "text": [
      "False\n",
      "True\n"
     ]
    }
   ],
   "source": [
    "print(bracket_match('([))]]'))\n",
    "print(bracket_match('[()]'))"
   ]
  },
  {
   "cell_type": "markdown",
   "metadata": {},
   "source": [
    "# Queue"
   ]
  },
  {
   "cell_type": "code",
   "execution_count": 14,
   "metadata": {},
   "outputs": [],
   "source": [
    "class Queue():\n",
    "    def __init__(self):\n",
    "        self.items = []\n",
    "        \n",
    "    def __str__(self):\n",
    "        return str(self.items)\n",
    "        \n",
    "    def isempty(self):\n",
    "        return self.items == []\n",
    "    \n",
    "    def enqueue(self,item):\n",
    "        self.items.insert(0,item)\n",
    "        \n",
    "    def dequeue(self):\n",
    "        return self.items.pop()\n",
    "        \n",
    "    def size(self):\n",
    "        return len(self.items)"
   ]
  },
  {
   "cell_type": "code",
   "execution_count": 15,
   "metadata": {},
   "outputs": [],
   "source": [
    "q = Queue()"
   ]
  },
  {
   "cell_type": "code",
   "execution_count": 16,
   "metadata": {},
   "outputs": [
    {
     "name": "stdout",
     "output_type": "stream",
     "text": [
      "True\n"
     ]
    }
   ],
   "source": [
    "print(q.isempty())"
   ]
  },
  {
   "cell_type": "code",
   "execution_count": 17,
   "metadata": {},
   "outputs": [
    {
     "name": "stdout",
     "output_type": "stream",
     "text": [
      "[4, 3, 2, 1, 0]\n"
     ]
    }
   ],
   "source": [
    "for i in range(5):\n",
    "    q.enqueue(i)\n",
    "    \n",
    "print(q)"
   ]
  },
  {
   "cell_type": "code",
   "execution_count": 18,
   "metadata": {},
   "outputs": [
    {
     "name": "stdout",
     "output_type": "stream",
     "text": [
      "0\n",
      "1\n",
      "2\n",
      "3\n",
      "4\n"
     ]
    }
   ],
   "source": [
    "for i in range(5):\n",
    "    print(q.dequeue())"
   ]
  },
  {
   "cell_type": "markdown",
   "metadata": {},
   "source": [
    "# Dequeue"
   ]
  },
  {
   "cell_type": "code",
   "execution_count": 19,
   "metadata": {},
   "outputs": [],
   "source": [
    "class Dequeue():\n",
    "    def __init__(self):\n",
    "        self.items = []\n",
    "        \n",
    "    def __str__(self):\n",
    "        return str(self.items)\n",
    "        \n",
    "    def isempty(self):\n",
    "        return self.items == []\n",
    "    \n",
    "    def add_front(self,item):\n",
    "        return self.items.insert(0, item)\n",
    "    \n",
    "    def remove_front(self):\n",
    "        return self.items.pop(0)\n",
    "    \n",
    "    def add_rear(self,item):\n",
    "        return self.items.append(item)\n",
    "        \n",
    "    def remove_rear(self):\n",
    "        return self.items.pop()\n",
    "    \n",
    "    def size(self):\n",
    "        return len(self.items)"
   ]
  },
  {
   "cell_type": "code",
   "execution_count": 20,
   "metadata": {},
   "outputs": [],
   "source": [
    "d = Dequeue()"
   ]
  },
  {
   "cell_type": "code",
   "execution_count": 21,
   "metadata": {},
   "outputs": [
    {
     "name": "stdout",
     "output_type": "stream",
     "text": [
      "True\n"
     ]
    }
   ],
   "source": [
    "print(d.isempty())"
   ]
  },
  {
   "cell_type": "code",
   "execution_count": 22,
   "metadata": {},
   "outputs": [],
   "source": [
    "for i in range(10):\n",
    "    if i%2 == 0:\n",
    "        d.add_front(i)\n",
    "    else:\n",
    "        d.add_rear(i)"
   ]
  },
  {
   "cell_type": "code",
   "execution_count": 23,
   "metadata": {},
   "outputs": [
    {
     "name": "stdout",
     "output_type": "stream",
     "text": [
      "[8, 6, 4, 2, 0, 1, 3, 5, 7, 9]\n"
     ]
    }
   ],
   "source": [
    "print(d)"
   ]
  },
  {
   "cell_type": "code",
   "execution_count": 24,
   "metadata": {},
   "outputs": [
    {
     "name": "stdout",
     "output_type": "stream",
     "text": [
      "[1, 3, 5, 7, 9, 0, 2, 4, 6, 8]\n"
     ]
    }
   ],
   "source": [
    "for i in range(0,10,2):\n",
    "    if i % 2 == 0:\n",
    "        d.remove_front()\n",
    "        d.add_rear(i)\n",
    "print(d)"
   ]
  },
  {
   "cell_type": "markdown",
   "metadata": {},
   "source": [
    "# Palindrome checkear using dqueue"
   ]
  },
  {
   "cell_type": "code",
   "execution_count": 25,
   "metadata": {},
   "outputs": [],
   "source": [
    "def pal_check(string):\n",
    "    dq = Dequeue()\n",
    "    for i in string:\n",
    "        dq.add_rear(i)\n",
    "    booln = True\n",
    "    for i in range(len(string)//2):\n",
    "        front = dq.remove_front()\n",
    "        rear  = dq.remove_rear()\n",
    "        if front == rear:\n",
    "            booln = booln*True\n",
    "        else:\n",
    "            booln = booln*False\n",
    "            \n",
    "    if booln == True:\n",
    "        return True\n",
    "    else:\n",
    "        return False    "
   ]
  },
  {
   "cell_type": "code",
   "execution_count": 26,
   "metadata": {},
   "outputs": [
    {
     "name": "stdout",
     "output_type": "stream",
     "text": [
      "True\n",
      "False\n"
     ]
    }
   ],
   "source": [
    "print(pal_check('ABCBA'))\n",
    "print(pal_check('inda'))"
   ]
  },
  {
   "cell_type": "markdown",
   "metadata": {},
   "source": [
    "# Cicular Queue "
   ]
  },
  {
   "cell_type": "code",
   "execution_count": 27,
   "metadata": {},
   "outputs": [],
   "source": [
    "class CircularQueue():\n",
    "    def __init__(self, size):\n",
    "        self.size = size\n",
    "        self.front = -1\n",
    "        self.rear = -1\n",
    "        self.queue = [None]*size\n",
    "        \n",
    "    def __str__(self):\n",
    "        return str(self.queue)\n",
    "    \n",
    "    def isempty(self):\n",
    "        return (self.front ==-1)\n",
    "            \n",
    "    def enqueue(self, item):\n",
    "        # queue is full then no item added\n",
    "        if (self.rear + 1) % self.size == self.front:\n",
    "            print(\"queue is full\")\n",
    "            \n",
    "        #queue is empty\n",
    "        elif (self.front ==-1):\n",
    "            self.front = 0\n",
    "            self.rear  = 0\n",
    "            self.queue[self.rear] = item\n",
    "        \n",
    "        # queue is partially filled\n",
    "        else:\n",
    "            self.rear = (self.rear + 1) % self.size \n",
    "            self.queue[self.rear] = item\n",
    "            \n",
    "    def dequeue(self):\n",
    "        # queue is empty we cant delet\n",
    "        if (self.front ==-1):\n",
    "            print(\"queue is empty\")\n",
    "            \n",
    "        # only one iten in queue\n",
    "        elif (self.front == self.rear):\n",
    "            temp = self.queue[self.front]\n",
    "            self.front = -1\n",
    "            self.rear = -1\n",
    "            return temp\n",
    "        \n",
    "        # queue is filled\n",
    "        else:\n",
    "            temp = self.queue[self.front] \n",
    "            self.front = (self.front + 1) % self.size \n",
    "            return temp\n",
    "           "
   ]
  },
  {
   "cell_type": "code",
   "execution_count": null,
   "metadata": {},
   "outputs": [],
   "source": []
  },
  {
   "cell_type": "code",
   "execution_count": 28,
   "metadata": {},
   "outputs": [
    {
     "name": "stdout",
     "output_type": "stream",
     "text": [
      "[14, 22, 13, -6, None]\n"
     ]
    }
   ],
   "source": [
    "ob = CircularQueue(5) \n",
    "ob.enqueue(14) \n",
    "ob.enqueue(22) \n",
    "ob.enqueue(13) \n",
    "ob.enqueue(-6) \n",
    "print(ob)"
   ]
  },
  {
   "cell_type": "code",
   "execution_count": 29,
   "metadata": {},
   "outputs": [
    {
     "name": "stdout",
     "output_type": "stream",
     "text": [
      "Deleted value =  14\n",
      "Deleted value =  22\n",
      "False\n",
      "[14, 22, 13, -6, None]\n"
     ]
    }
   ],
   "source": [
    "print (\"Deleted value = \", ob.dequeue()) \n",
    "print (\"Deleted value = \", ob.dequeue())\n",
    "print(ob.isempty())\n",
    "print(ob)"
   ]
  },
  {
   "cell_type": "markdown",
   "metadata": {},
   "source": [
    "# Dynamic array in python"
   ]
  },
  {
   "cell_type": "raw",
   "metadata": {},
   "source": [
    "Algorithm:\n",
    "1) import ctypes\n",
    "2) create DynamicArray class\n",
    "3) define length(=0) and capacity(=1) of array and define initial array A using make_array fnctn\n",
    "3) define make_array functn to create array of given capcity\n",
    "4) to append element in array resize array A using another duplicate array B, change the capacity to new capacity\n",
    "5) create an append funct\n",
    "6) now create another functn like getitem, len etc."
   ]
  },
  {
   "cell_type": "code",
   "execution_count": 30,
   "metadata": {},
   "outputs": [],
   "source": [
    "import ctypes\n",
    "\n",
    "class DynamicArray(object):\n",
    "    \n",
    "    def __init__(self):\n",
    "        self.n = 0\n",
    "        self.capacity = 1\n",
    "        self.A = self.make_array(self.capacity)\n",
    "        \n",
    "    def __str__(self):\n",
    "        return str(self.A)\n",
    "        \n",
    "    def __len__(self):\n",
    "        return self.n\n",
    "    \n",
    "    def make_array(self, new_cap):\n",
    "        return (new_cap * ctypes.py_object)() \n",
    "    \n",
    "    def resize(self, new_cap):\n",
    "        B = self.make_array(new_cap)\n",
    "        for i in range(self.n):\n",
    "            B[i] = self.A[i]\n",
    "        self.A = B\n",
    "        self.capacity = new_cap\n",
    "        \n",
    "    def append(self, item):\n",
    "        if self.n == self.capacity:\n",
    "            self.resize(2*self.capacity)\n",
    "            \n",
    "        self.A[self.n] = item\n",
    "        self.n += 1\n",
    "        \n",
    "    def get_item(self, index):\n",
    "        if not 0<= index < self.n:\n",
    "            return IndexError(\"Index out of bound\")\n",
    "        else:\n",
    "            return self.A[index]\n",
    "        "
   ]
  },
  {
   "cell_type": "code",
   "execution_count": 31,
   "metadata": {},
   "outputs": [
    {
     "name": "stdout",
     "output_type": "stream",
     "text": [
      "0\n"
     ]
    }
   ],
   "source": [
    "array = DynamicArray()\n",
    "print(len(array))"
   ]
  },
  {
   "cell_type": "code",
   "execution_count": 32,
   "metadata": {},
   "outputs": [],
   "source": [
    "array.append(1)\n",
    "array.append(2)\n",
    "array.append(3)"
   ]
  },
  {
   "cell_type": "raw",
   "metadata": {},
   "source": [
    "for i in range(len(array)):\n",
    "    print(array.get_item(i))"
   ]
  },
  {
   "cell_type": "markdown",
   "metadata": {},
   "source": [
    "### Linked list"
   ]
  },
  {
   "cell_type": "code",
   "execution_count": 33,
   "metadata": {},
   "outputs": [],
   "source": [
    "class Node:\n",
    "    def __init__(self, data, position = 0):\n",
    "        self.data = data\n",
    "        self.next = None\n",
    "        self.position = position\n",
    "    \n",
    "    def getData(self):\n",
    "        return self.data\n",
    "\n",
    "    def getNext(self):\n",
    "        return self.next\n",
    "\n",
    "    def setData(self,newdata):\n",
    "        self.data = newdata\n",
    "        return self.data\n",
    "\n",
    "    def setNext(self,newnext):\n",
    "        self.next = newnext"
   ]
  },
  {
   "cell_type": "code",
   "execution_count": 34,
   "metadata": {},
   "outputs": [
    {
     "name": "stdout",
     "output_type": "stream",
     "text": [
      "after forming Node :\n",
      "93\n",
      "initaily next is value :\n",
      "None\n",
      "set next data None to value\n",
      "12\n"
     ]
    }
   ],
   "source": [
    "temp = Node(93)\n",
    "print(\"after forming Node :\")\n",
    "print(temp.getData())\n",
    "print(\"initaily next is value :\")\n",
    "print(temp.getNext())\n",
    "print(\"set next data None to value\")\n",
    "temp.setNext(12)\n",
    "print(temp.getNext())"
   ]
  },
  {
   "cell_type": "markdown",
   "metadata": {},
   "source": [
    "### unorderd list (linked list)"
   ]
  },
  {
   "cell_type": "code",
   "execution_count": 32,
   "metadata": {},
   "outputs": [],
   "source": [
    "class UnorderedList:\n",
    "\n",
    "    def __init__(self):\n",
    "        self.head = None\n",
    "        \n",
    "    def printList(self):\n",
    "        current = self.head\n",
    "        if current == None:\n",
    "            return \"empty\"\n",
    "        while current:\n",
    "            print(current.data)\n",
    "            current = current.next\n",
    "    \n",
    "    def isEmpty(self):\n",
    "        return self.head == None\n",
    "    \n",
    "    def add(self,item):    # the added node become head \n",
    "        temp = Node(item)\n",
    "        temp.setNext(self.head)\n",
    "        self.head = temp\n",
    "    \n",
    "    def size(self):\n",
    "        current = self.head\n",
    "        count = 0\n",
    "        while current != None:\n",
    "            count += 1\n",
    "            current = current.getNext()\n",
    "        return count\n",
    "    \n",
    "    def search(self, item):\n",
    "        current = self.head\n",
    "        found = False\n",
    "        while current != None and not found:\n",
    "            if current.getData() == item:\n",
    "                found = True\n",
    "            else:\n",
    "                current = current.getNext()\n",
    "        return found\n",
    "    \n",
    "    def remove(self, item):\n",
    "        current = self.head\n",
    "        prev = None\n",
    "        found = False\n",
    "        while current != None and not found:\n",
    "            if current.getData() == item:\n",
    "                found = True\n",
    "            else:\n",
    "                prev = current\n",
    "                current = current.getNext()\n",
    "        if prev == None:\n",
    "            self.head = current.getNext()\n",
    "        else:\n",
    "            prev.setNext(current.getNext())\n",
    "            \n",
    "    def append(self, item):\n",
    "        current = self.head\n",
    "        if self.head == None:\n",
    "            self.head = Node(item)\n",
    "        else:\n",
    "            while current.getNext() != None:\n",
    "                current = current.getNext()\n",
    "                \n",
    "            current.setNext(Node(item))\n",
    "        \n",
    "            \n",
    "    def index(self,item):\n",
    "        current = self.head\n",
    "        index = 0\n",
    "        while current != None:\n",
    "            if current.getData() == item:\n",
    "                return index\n",
    "            else:\n",
    "                index +=1\n",
    "                current = current.getNext()\n",
    "        print(\"item not present in list\")\n",
    "        \n",
    "    def count(self, search_item):\n",
    "        cont = 0\n",
    "        current = self.head\n",
    "        while (current is not None):\n",
    "            if current.data == search_item:\n",
    "                cont = cont + 1\n",
    "            current  = current.next\n",
    "        return cont\n",
    "            \n",
    "    def insert(self,item,position):\n",
    "        if position==0:\n",
    "            self.add(item)\n",
    "        \n",
    "        elif position>self.size():\n",
    "            print(\"Position index is out of range\")\n",
    "        \n",
    "        elif position==self.size():\n",
    "            self.append(item)\n",
    "            \n",
    "        else:\n",
    "            temp = Node(item)\n",
    "            current = self.head\n",
    "            previous = None\n",
    "            current_position = 0\n",
    "            while current_position != position:\n",
    "                previous = current\n",
    "                current = current.getNext()\n",
    "                current_position += 1\n",
    "                \n",
    "            previous.next = temp\n",
    "            temp.next = current\n",
    "    \n",
    "    def insertAfter(self, prev_node, new_data):\n",
    "        current = self.head\n",
    "        prev = None\n",
    "        while current.data != prev_node:\n",
    "            prev = current\n",
    "            current = current.next\n",
    "        if prev == None:\n",
    "            print('empty list')\n",
    "            return \n",
    "        else:\n",
    "            new_node  = Node(new_data)\n",
    "            new_node.next = current.getNext()\n",
    "            current.next  = new_node\n",
    "            return\n",
    "            \n",
    "        \n",
    "    def pop(self):\n",
    "        current = self.head\n",
    "        prev = None\n",
    "        if current == None:\n",
    "            print(\"list is empty\")\n",
    "            return\n",
    "        while current.next != None:\n",
    "            prev = current\n",
    "            current = current.getNext()\n",
    "        prev.next = None\n",
    "        return current.data\n",
    "    \n",
    "    def popS(self, pos):\n",
    "        current = self.head\n",
    "        prev = None\n",
    "        if current == None:\n",
    "            print('empty list')\n",
    "            return\n",
    "        position = 0\n",
    "        if pos == position:\n",
    "            self.head = current.next\n",
    "            return\n",
    "        while position != pos :\n",
    "            position+= 1\n",
    "            prev = current\n",
    "            current = current.getNext()\n",
    "        prev.next = current.getNext()\n",
    "        return current.data\n",
    "    \n",
    "    def deleteList(self): \n",
    "        current = self.head \n",
    "        while current:\n",
    "            temp = current.next\n",
    "            del current.data \n",
    "            current = temp\n",
    "    \n",
    "    def reverse(self):\n",
    "        prev = None\n",
    "        current = self.head\n",
    "        while (current is not None):\n",
    "            next_item  = current.next\n",
    "            current.next = prev\n",
    "            prev = current\n",
    "            current = next_item\n",
    "        self.head = prev\n",
    "        \n",
    "    def SwapNodes(self, first , second):\n",
    "        \n",
    "        # both are same\n",
    "        if first == second:\n",
    "            return\n",
    "        \n",
    "        # search for first\n",
    "        prevF = None\n",
    "        currentF = self.head\n",
    "        while currentF != None and currentF.data != first:\n",
    "            prevF = currentF\n",
    "            currentF = currentF.next\n",
    "            \n",
    "        # search for second\n",
    "        prevS = None\n",
    "        currentS = self.head\n",
    "        while currentS != None and currentS.data != second:\n",
    "            prevS = currentS\n",
    "            currentS = currentS.next\n",
    "          \n",
    "        # both are absent\n",
    "        if currentF == None or currentS == None:\n",
    "            return\n",
    "        \n",
    "        # if first is not head\n",
    "        if prevF != None:         # not head\n",
    "            prevF.next = currentS\n",
    "        else:                     # if head\n",
    "            self.head = currentS  \n",
    "        \n",
    "        # if second is not head\n",
    "        if prevS != None: # not head\n",
    "            prevS.next = currentF\n",
    "        else:             # if head\n",
    "            self.head = currentF\n",
    "            \n",
    "        # Swap next pointers \n",
    "        temp = currentF.next\n",
    "        currentF.next = currentS.next\n",
    "        currentS.next = temp\n",
    "# pop and pop(pos)"
   ]
  },
  {
   "cell_type": "code",
   "execution_count": 33,
   "metadata": {},
   "outputs": [
    {
     "name": "stdout",
     "output_type": "stream",
     "text": [
      "append operation\n",
      "add operation\n",
      "insert operation\n",
      "90\n",
      "12\n",
      "29\n",
      "10\n",
      "23\n",
      "pop opertion\n",
      "the popped elemnt is:  23\n",
      "90\n",
      "12\n",
      "29\n",
      "10\n",
      "pop with position:  29\n",
      "90\n",
      "12\n",
      "10\n"
     ]
    }
   ],
   "source": [
    "lis = UnorderedList()\n",
    "print('append operation')\n",
    "lis.append(12)\n",
    "lis.append(29)\n",
    "lis.append(23)\n",
    "print(\"add operation\")\n",
    "lis.add(90)\n",
    "print(\"insert operation\")\n",
    "lis.insert(10,3)\n",
    "lis.printList()\n",
    "print('pop opertion')\n",
    "print(\"the popped elemnt is: \", lis.pop())\n",
    "lis.printList()\n",
    "print(\"pop with position: \", lis.popS(2))\n",
    "lis.printList()"
   ]
  },
  {
   "cell_type": "code",
   "execution_count": 34,
   "metadata": {},
   "outputs": [
    {
     "name": "stdout",
     "output_type": "stream",
     "text": [
      "49\n",
      "39\n",
      "10\n",
      "90\n",
      "11\n",
      "10\n",
      "insert 30 after 90\n",
      "49\n",
      "39\n",
      "10\n",
      "90\n",
      "30\n",
      "11\n",
      "10\n",
      "count 10\n",
      "2\n",
      "swapping of 39 and 11\n",
      "49\n",
      "11\n",
      "10\n",
      "90\n",
      "30\n",
      "39\n",
      "10\n",
      "reverse list\n",
      "10\n",
      "39\n",
      "30\n",
      "90\n",
      "10\n",
      "11\n",
      "49\n",
      "deletelist\n"
     ]
    }
   ],
   "source": [
    "temp = UnorderedList()\n",
    "temp.add(10)\n",
    "temp.add(11)\n",
    "temp.add(90)\n",
    "temp.add(10)\n",
    "temp.add(39)\n",
    "temp.add(49)\n",
    "temp.printList()\n",
    "print('insert 30 after 90')\n",
    "temp.insertAfter(90,30)\n",
    "temp.printList()\n",
    "print('count 10')\n",
    "print(temp.count(10))\n",
    "print('swapping of 39 and 11')\n",
    "temp.SwapNodes(39,11)\n",
    "temp.printList()\n",
    "print('reverse list')\n",
    "temp.reverse()\n",
    "temp.printList()\n",
    "print('deletelist')\n",
    "temp.deleteList()"
   ]
  },
  {
   "cell_type": "markdown",
   "metadata": {},
   "source": [
    "### Ordered list \n",
    "\n",
    "thery are arranged in increment order like [12,13,14,16,20,30]\n",
    "if we want to find 15 and we get 16 i.e greater than 15 so we have to stop searching operation.\n",
    "\n",
    "Assume we have the ordered list consisting of 17, 26, 54, 77, and 93 and we want to add the value 31. The add method must decide that the new item belongs between 26 and 54."
   ]
  },
  {
   "cell_type": "code",
   "execution_count": 35,
   "metadata": {},
   "outputs": [],
   "source": [
    "class OrderedList:\n",
    "\n",
    "    def __init__(self):\n",
    "        self.head = None\n",
    "        \n",
    "    def printList(self):\n",
    "        current = self.head\n",
    "        while current != None:\n",
    "            print(current.data)\n",
    "            current = current.getNext()\n",
    "    \n",
    "    def isEmpty(self):\n",
    "        return self.head == None\n",
    "    \n",
    "    def add(self, item):\n",
    "        current = self.head\n",
    "        prev = None\n",
    "        stop = False\n",
    "        while current != None and not stop:\n",
    "            if current.getData() > item:\n",
    "                stop = True\n",
    "            else:\n",
    "                prev = current\n",
    "                current = current.getNext()\n",
    "                \n",
    "        temp = Node(item)\n",
    "        if prev== None:\n",
    "            temp.setNext(self.head)\n",
    "            self.head = temp\n",
    "        else:\n",
    "            temp.setNext(current)\n",
    "            prev.setNext(temp)\n",
    "            \n",
    "    def size(self):\n",
    "        current = self.head\n",
    "        count = 0\n",
    "        while current != None:\n",
    "            count += 1\n",
    "            current = current.getNext()\n",
    "        return count\n",
    "    \n",
    "    def search(self, item):\n",
    "        current = self.head\n",
    "        found = False\n",
    "        stop = False\n",
    "        while current != None and not found and not stop:\n",
    "            if current.data == item:\n",
    "                found = True\n",
    "            else:\n",
    "                if current.getData() > item:\n",
    "                    stop = True\n",
    "                current = current.getNext()\n",
    "        return found\n",
    "    \n",
    "    def remove(self, item):\n",
    "        current = self.head\n",
    "        prev = None\n",
    "        found = False\n",
    "        while current != None and not found:\n",
    "            if current.getData() == item:\n",
    "                found = True\n",
    "            else:\n",
    "                prev = current\n",
    "                current = current.getNext()\n",
    "        if prev == None:\n",
    "            self.head = current.getNext()\n",
    "        else:\n",
    "            prev.setNext(current.getNext())\n",
    "            \n",
    "               \n",
    "    def index(self,item):\n",
    "        current = self.head\n",
    "        index = 0\n",
    "        while current != None:\n",
    "            if current.getData() == item:\n",
    "                return index\n",
    "            else:\n",
    "                index +=1\n",
    "                current = current.getNext()\n",
    "        print(\"item not present in list\")\n",
    "            \n",
    "            \n",
    "    def pop(self):\n",
    "        current = self.head\n",
    "        prev = None\n",
    "        if current == None:\n",
    "            print(\"list is empty\")\n",
    "            return\n",
    "        while current.next != None:\n",
    "            prev = current\n",
    "            current = current.getNext()\n",
    "        prev.next = None\n",
    "        return current.data\n",
    "    \n",
    "    def popS(self, pos):\n",
    "        current = self.head\n",
    "        prev = None\n",
    "        if current == None:\n",
    "            print('empty list')\n",
    "            return\n",
    "        position = 0\n",
    "        if pos == position:\n",
    "            self.head = current.next\n",
    "            return\n",
    "        while position != pos :\n",
    "            position+= 1\n",
    "            prev = current\n",
    "            current = current.getNext()\n",
    "        prev.next = current.getNext()\n",
    "        return current.data\n"
   ]
  },
  {
   "cell_type": "code",
   "execution_count": 36,
   "metadata": {},
   "outputs": [
    {
     "name": "stdout",
     "output_type": "stream",
     "text": [
      "before adding 12\n",
      "10\n",
      "11\n",
      "20\n",
      "32\n",
      "57\n",
      "74\n",
      "after adding 12\n",
      "10\n",
      "11\n",
      "12\n",
      "20\n",
      "32\n",
      "57\n",
      "74\n"
     ]
    }
   ],
   "source": [
    "temp = OrderedList()\n",
    "temp.add(10)\n",
    "temp.add(11)\n",
    "temp.add(20)\n",
    "temp.add(32)\n",
    "temp.add(57)\n",
    "temp.add(74)\n",
    "print('before adding 12')\n",
    "temp.printList()\n",
    "temp.add(12)\n",
    "print(\"after adding 12\")\n",
    "temp.printList()"
   ]
  },
  {
   "cell_type": "markdown",
   "metadata": {},
   "source": [
    "# binary Tree"
   ]
  },
  {
   "cell_type": "markdown",
   "metadata": {},
   "source": [
    "A tree whose elements have at most 2 children is called a binary tree. Since each element in a binary tree can have only 2 children, we typically name them the left and right child.\n",
    "\n",
    "A Binary Tree node contains following parts.\n",
    "\n",
    "1. Data\n",
    "2. Pointer to left child\n",
    "3. Pointer to right child"
   ]
  },
  {
   "cell_type": "code",
   "execution_count": 37,
   "metadata": {},
   "outputs": [],
   "source": [
    "class Queue(object):\n",
    "    def __init__(self):\n",
    "        self.items = []\n",
    "\n",
    "    def enqueue(self, item):\n",
    "        self.items.insert(0, item)\n",
    "\n",
    "    def dequeue(self):\n",
    "        if not self.is_empty():\n",
    "            return self.items.pop()\n",
    "\n",
    "    def is_empty(self):\n",
    "        return len(self.items) == 0\n",
    "\n",
    "    def peek(self):\n",
    "        if not self.is_empty():\n",
    "            return self.items[-1].value\n",
    "\n",
    "    def __len__(self):\n",
    "        return self.size()\n",
    "\n",
    "    def size(self):\n",
    "        return len(self.items)\n",
    "    \n",
    "\n",
    "class Stack(object):\n",
    "    def __init__(self):\n",
    "        self.items = []\n",
    "\n",
    "    def __len__(self):\n",
    "        return self.size()\n",
    "     \n",
    "    def size(self):\n",
    "        return len(self.items)\n",
    "\n",
    "    def push(self, item):\n",
    "        self.items.append(item)\n",
    "\n",
    "    def pop(self):  \n",
    "        if not self.is_empty():\n",
    "            return self.items.pop()\n",
    "\n",
    "    def peek(self):\n",
    "        if not self.is_empty():\n",
    "            return self.items[-1]\n",
    "\n",
    "    def is_empty(self):\n",
    "        return len(self.items) == 0\n",
    "\n",
    "    def __str__(self):\n",
    "        s = \"\"\n",
    "        for i in range(len(self.items)):\n",
    "            s += str(self.items[i].value) + \"-\"\n",
    "        return s"
   ]
  },
  {
   "cell_type": "code",
   "execution_count": 38,
   "metadata": {},
   "outputs": [
    {
     "name": "stdout",
     "output_type": "stream",
     "text": [
      "1-2-4-5-3-6-7-\n",
      "4-2-5-1-6-3-7-\n",
      "4-5-2-6-7-3-1-\n",
      "1-2-3-4-5-6-7-\n",
      "4-5-6-7-2-3-1-\n",
      "2\n",
      "7\n"
     ]
    }
   ],
   "source": [
    "# binary tree\n",
    "class Node:\n",
    "    def __init__(self,value):\n",
    "        self.value = value\n",
    "        self.left = None\n",
    "        self.right = None\n",
    "class BinaryTree:\n",
    "    def __init__(self, root):\n",
    "        self.root = Node(root)\n",
    "    \n",
    "    def print_tree(self, traversal_type):\n",
    "        if traversal_type == 'preorder':\n",
    "            return self.preorder(tree.root, \"\")\n",
    "        elif traversal_type == 'inorder':\n",
    "            return self.inorder(tree.root, \"\")\n",
    "        elif traversal_type == 'postorder':\n",
    "            return self.postorder(tree.root, \"\")\n",
    "        elif traversal_type == 'levelorder':\n",
    "            return self.levelorder(tree.root, \"\")\n",
    "        elif traversal_type == 'reverseorder':\n",
    "            return self.reverseorder(tree.root, \"\")\n",
    "        else:\n",
    "            print(\"traversal not supported\")\n",
    "            return False\n",
    "        \n",
    "    def preorder(self, start, tree_string):\n",
    "        if start:\n",
    "            tree_string += (str(start.value) + '-') #root\n",
    "            tree_string = self.preorder(start.left, tree_string) #left\n",
    "            tree_string= self.preorder(start.right,tree_string) #right\n",
    "        return tree_string\n",
    "    \n",
    "    def inorder(self, start, tree_string):\n",
    "        if start:\n",
    "            tree_string = self.inorder(start.left, tree_string) #left\n",
    "            tree_string += (str(start.value) + '-') #root\n",
    "            tree_string = self.inorder(start.right, tree_string) #right\n",
    "        return tree_string\n",
    "    \n",
    "    def postorder(self, start, tree_string):\n",
    "        if start:\n",
    "            tree_string = self.postorder(start.left, tree_string) #left\n",
    "            tree_string = self.postorder(start.right, tree_string) #right\n",
    "            tree_string += (str(start.value) + '-') #root\n",
    "        return tree_string\n",
    "    def levelorder(self, start, tree_string):\n",
    "        if start is None:\n",
    "            return\n",
    "        \n",
    "        queue = Queue()\n",
    "        queue.enqueue(start)\n",
    "        \n",
    "        while len(queue) > 0:\n",
    "            tree_string += str(queue.peek()) + '-'\n",
    "            node = queue.dequeue()\n",
    "            if node.left:\n",
    "                queue.enqueue(node.left)\n",
    "            if node.right:\n",
    "                queue.enqueue(node.right)\n",
    "        return tree_string\n",
    "    def reverseorder(self, start, tree_string):\n",
    "        if start is None:\n",
    "            return\n",
    "        \n",
    "        queue = Queue()\n",
    "        stack = Stack()\n",
    "        \n",
    "        queue.enqueue(start)\n",
    "        while len(queue) > 0:\n",
    "            node = queue.dequeue()\n",
    "            stack.push(node)\n",
    "            \n",
    "            if node.right:\n",
    "                queue.enqueue(node.right)\n",
    "            if node.left:\n",
    "                queue.enqueue(node.left)\n",
    "        \n",
    "        while len(stack) > 0:\n",
    "            node = stack.pop()\n",
    "            tree_string += str(node.value) + '-'\n",
    "            \n",
    "        return tree_string\n",
    "    \n",
    "    def height(self, node):\n",
    "        if node is None:\n",
    "            return -1\n",
    "        left_height = self.height(node.left)\n",
    "        right_height = self.height(node.right)\n",
    "        \n",
    "        return 1 + max(left_height, right_height)\n",
    "    \n",
    "    def size(self):\n",
    "        if self.root is None:\n",
    "            return 0\n",
    "        stack = Stack()\n",
    "        stack.push(self.root)\n",
    "        \n",
    "        size = 1\n",
    "        while stack:\n",
    "            node = stack.pop()\n",
    "            if node.left:\n",
    "                size += 1\n",
    "                stack.push(node.left)\n",
    "            if node.right:\n",
    "                size += 1\n",
    "                stack.push(node.right)\n",
    "        return size\n",
    "    \n",
    "tree = BinaryTree(1)\n",
    "tree.root.left = Node(2)\n",
    "tree.root.right = Node(3)\n",
    "tree.root.left.left = Node(4)\n",
    "tree.root.left.right = Node(5)\n",
    "tree.root.right.left = Node(6)\n",
    "tree.root.right.right = Node(7)\n",
    "print(tree.print_tree('preorder')) #preorder\n",
    "print(tree.print_tree('inorder'))  #inorder\n",
    "print(tree.print_tree('postorder')) #postorder\n",
    "print(tree.print_tree('levelorder'))#levelorder\n",
    "print(tree.print_tree('reverseorder'))\n",
    "print(tree.height(tree.root))       #height\n",
    "print(tree.size())"
   ]
  },
  {
   "cell_type": "markdown",
   "metadata": {},
   "source": [
    "### binary search tree"
   ]
  },
  {
   "cell_type": "markdown",
   "metadata": {},
   "source": [
    "Binary Search Tree is a node-based binary tree data structure which has the following properties:\n",
    "\n",
    "1. The left subtree of a node contains only nodes with keys lesser than the node’s key.\n",
    "2. The right subtree of a node contains only nodes with keys greater than the node’s key.\n",
    "3. The left and right subtree each must also be a binary search tree."
   ]
  },
  {
   "cell_type": "code",
   "execution_count": 52,
   "metadata": {},
   "outputs": [
    {
     "name": "stdout",
     "output_type": "stream",
     "text": [
      "True\n"
     ]
    }
   ],
   "source": [
    "# binary search tree\n",
    "class Node(object):\n",
    "    def __init__(self, value):\n",
    "        self.value = value\n",
    "        self.left = None\n",
    "        self.right = None\n",
    "\n",
    "\n",
    "class BST(object):\n",
    "    def __init__(self, root):\n",
    "        self.root = Node(root)\n",
    "\n",
    "    def insert(self, new_val):\n",
    "        self.insert_helper(self.root, new_val)\n",
    "\n",
    "    def insert_helper(self, current, new_val):\n",
    "        if current.value < new_val:\n",
    "            if current.right:\n",
    "                self.insert_helper(current.right, new_val)\n",
    "            else:\n",
    "                current.right = Node(new_val)\n",
    "        else:\n",
    "            if current.left:\n",
    "                self.insert_helper(current.left, new_val)\n",
    "            else:\n",
    "                current.left = Node(new_val)\n",
    "\n",
    "    def search(self, find_val):\n",
    "        return self.search_helper(self.root, find_val)\n",
    "\n",
    "    def search_helper(self, current, find_val):\n",
    "        if current:\n",
    "            if current.value == find_val:\n",
    "                return True\n",
    "            elif current.value < find_val:\n",
    "                return self.search_helper(current.right, find_val)\n",
    "            else:\n",
    "                return self.search_helper(current.left, find_val)\n",
    "            \n",
    "bst = BST(10)\n",
    "bst.insert(4)\n",
    "bst.insert(6)\n",
    "bst.insert(15)\n",
    "bst.insert(11)\n",
    "bst.insert(16)\n",
    "print(bst.search(10))"
   ]
  },
  {
   "cell_type": "markdown",
   "metadata": {},
   "source": [
    "## Max Heap :\n",
    "\n",
    "1. A max-heap is a complete binary tree in which the value in each internal node is greater than or equal to the values in the children of that node.\n",
    "\n",
    "2. Mapping the elements of a heap into an array is trivial: if a node is stored a index k, then its left child is stored at index 2k+1 and its right child at index 2k+2"
   ]
  },
  {
   "cell_type": "code",
   "execution_count": 39,
   "metadata": {},
   "outputs": [
    {
     "name": "stdout",
     "output_type": "stream",
     "text": [
      "[11, 8, 7, 0, 6, 2, 5]\n"
     ]
    }
   ],
   "source": [
    "def max_heapify(A,i):\n",
    "    l = left(i)\n",
    "    r = right(i)\n",
    "    if l < len(A) and A[l] > A[i]:\n",
    "        largest = l\n",
    "    else:\n",
    "        largest = i\n",
    "    if r < len(A) and A[r] > A[largest]:\n",
    "        largest = r\n",
    "    if largest != i:\n",
    "        A[i], A[largest] = A[largest], A[i]\n",
    "        max_heapify(A, largest)\n",
    "\n",
    "\n",
    "def left(i):\n",
    "    return 2 * i + 1\n",
    "\n",
    "\n",
    "def right(i):\n",
    "    return 2 * i + 2\n",
    "\n",
    "\n",
    "def build_max_heap(A):\n",
    "    n = int((len(A) // 2)-1)\n",
    "    for i in range(n, -1,-1):\n",
    "        max_heapify(A, i)\n",
    "\n",
    "\n",
    "A = [11,6,5,0,8,2,7]\n",
    "build_max_heap(A)\n",
    "print(A)"
   ]
  },
  {
   "cell_type": "markdown",
   "metadata": {},
   "source": [
    "## MINI HEAP\n",
    "https://www.youtube.com/watch?v=TK48r1Dlo4k&pbjreload=101"
   ]
  },
  {
   "cell_type": "code",
   "execution_count": 40,
   "metadata": {},
   "outputs": [
    {
     "name": "stdout",
     "output_type": "stream",
     "text": [
      "[11, 6, 5, 0, 8, 2, 7]\n"
     ]
    }
   ],
   "source": [
    "def max_heapify(A,i):\n",
    "    l = left(i)\n",
    "    r = right(i)\n",
    "    if l > len(A) and A[l] < A[i]:\n",
    "        largest = l\n",
    "    else:\n",
    "        largest = i\n",
    "    if r > len(A) and A[r] < A[largest]:\n",
    "        largest = r\n",
    "    if largest != i:\n",
    "        A[i], A[largest] = A[largest], A[i]\n",
    "        max_heapify(A, largest)\n",
    "\n",
    "\n",
    "def left(i):\n",
    "    return 2 * i + 1\n",
    "\n",
    "\n",
    "def right(i):\n",
    "    return 2 * i + 2\n",
    "\n",
    "\n",
    "def build_max_heap(A):\n",
    "    n = int((len(A) // 2)-1)\n",
    "    for i in range(n, -1,-1):\n",
    "        max_heapify(A, i)\n",
    "\n",
    "\n",
    "A = [11,6,5,0,8,2,7]\n",
    "build_max_heap(A)\n",
    "print(A)"
   ]
  },
  {
   "cell_type": "code",
   "execution_count": null,
   "metadata": {},
   "outputs": [],
   "source": []
  },
  {
   "cell_type": "code",
   "execution_count": null,
   "metadata": {},
   "outputs": [],
   "source": [
    "\n",
    "edit\n",
    "play_arrow\n",
    "\n",
    "brightness_4\n",
    "# Python Program to find distance between \n",
    "# n1 and n2 using one traversal\n",
    " \n",
    "class Node:\n",
    "    def __init__(self, data):\n",
    "        self.data = data\n",
    "        self.right = None\n",
    "        self.left = None\n",
    " \n",
    "def pathToNode(root, path, k):\n",
    " \n",
    "    # base case handling\n",
    "    if root is None:\n",
    "        return False\n",
    " \n",
    "     # append the node value in path\n",
    "    path.append(root.data)\n",
    "  \n",
    "    # See if the k is same as root's data\n",
    "    if root.data == k :\n",
    "        return True\n",
    "  \n",
    "    # Check if k is found in left or right \n",
    "    # sub-tree\n",
    "    if ((root.left != None and pathToNode(root.left, path, k)) or\n",
    "            (root.right!= None and pathToNode(root.right, path, k))):\n",
    "        return True\n",
    "  \n",
    "    # If not present in subtree rooted with root, \n",
    "    # remove root from path and return False \n",
    "    path.pop()\n",
    "    return False\n",
    " \n",
    "def distance(root, data1, data2):\n",
    "    if root:\n",
    "        # store path corresponding to node: data1\n",
    "        path1 = []\n",
    "        pathToNode(root, path1, data1)\n",
    " \n",
    "        # store path corresponding to node: data2\n",
    "        path2 = []\n",
    "        pathToNode(root, path2, data2)\n",
    " \n",
    "        # iterate through the paths to find the \n",
    "        # common path length\n",
    "        i=0\n",
    "        while i<len(path1) and i<len(path2):\n",
    "            # get out as soon as the path differs \n",
    "            # or any path's length get exhausted\n",
    "            if path1[i] != path2[i]:\n",
    "                break\n",
    "            i = i+1\n",
    " \n",
    "        # get the path length by deducting the \n",
    "        # intersecting path length (or till LCA)\n",
    "        return (len(path1)+len(path2)-2*i)\n",
    "    else:\n",
    "        return 0"
   ]
  },
  {
   "cell_type": "code",
   "execution_count": null,
   "metadata": {},
   "outputs": [],
   "source": []
  }
 ],
 "metadata": {
  "kernelspec": {
   "display_name": "Python 3 (ipykernel)",
   "language": "python",
   "name": "python3"
  },
  "language_info": {
   "codemirror_mode": {
    "name": "ipython",
    "version": 3
   },
   "file_extension": ".py",
   "mimetype": "text/x-python",
   "name": "python",
   "nbconvert_exporter": "python",
   "pygments_lexer": "ipython3",
   "version": "3.10.4"
  }
 },
 "nbformat": 4,
 "nbformat_minor": 2
}
