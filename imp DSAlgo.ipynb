{
 "cells": [
  {
   "cell_type": "code",
   "execution_count": 4,
   "id": "46875825",
   "metadata": {},
   "outputs": [
    {
     "name": "stdout",
     "output_type": "stream",
     "text": [
      "[3, 4, 12, 27, 35, 45]\n"
     ]
    }
   ],
   "source": [
    "#insertion sort\n",
    "arr = [4,3,27, 45, 12, 35]\n",
    "\n",
    "for i in range(1, len(arr)):\n",
    "    val = arr[i]\n",
    "    index = i\n",
    "    while index > 0 and arr[index-1] > val:\n",
    "        arr[index] =  arr[index-1]\n",
    "        index -= 1\n",
    "    arr[index] = val\n",
    "\n",
    "print(arr)"
   ]
  },
  {
   "cell_type": "code",
   "execution_count": 11,
   "id": "c4b07e18",
   "metadata": {},
   "outputs": [
    {
     "name": "stdout",
     "output_type": "stream",
     "text": [
      "[3, 4, 12, 27, 35, 45]\n"
     ]
    }
   ],
   "source": [
    "#merge sort\n",
    "arr1 = [4,3,27, 45, 12, 35]\n",
    "\n",
    "def mergesort(arr):\n",
    "    if len(arr) > 1:\n",
    "        mid = len(arr)//2\n",
    "        larr = arr[:mid]\n",
    "        rarr = arr[mid:]\n",
    "    \n",
    "        #recursively divide arrays\n",
    "        mergesort(larr)\n",
    "        mergesort(rarr)\n",
    "\n",
    "        i, j, k = 0, 0, 0\n",
    "\n",
    "        #for both array \n",
    "        while i < len(larr) and j < len(rarr):\n",
    "            if larr[i] < rarr[j]:\n",
    "                arr[k] = larr[i]\n",
    "                i+=1\n",
    "            else:\n",
    "                arr[k] = rarr[j]\n",
    "                j+=1\n",
    "            k+=1\n",
    "\n",
    "        #only left arr\n",
    "        while i<len(larr):\n",
    "            arr[k] = larr[i]\n",
    "            i+=1\n",
    "            k+=1\n",
    "\n",
    "        #only right arr\n",
    "        while j<len(rarr):\n",
    "            arr[k]=rarr[j]\n",
    "            j+=1\n",
    "            k+=1\n",
    "    \n",
    "    return arr\n",
    "\n",
    "print(mergesort(arr1))"
   ]
  },
  {
   "cell_type": "code",
   "execution_count": 24,
   "id": "5913c7b6",
   "metadata": {},
   "outputs": [
    {
     "name": "stdout",
     "output_type": "stream",
     "text": [
      "[3, 4, 12, 27, 35, 45]\n"
     ]
    }
   ],
   "source": [
    "#selection sort \n",
    "\n",
    "arr = [4,3,27, 45, 12, 35]\n",
    "\n",
    "for index in range(len(arr)-1):\n",
    "    mini = arr[index]\n",
    "    for i in range(index+1, len(arr)):\n",
    "        if arr[i] < mini:\n",
    "            mini = arr[i]\n",
    "            c = i\n",
    "   \n",
    "    temp = arr[index]\n",
    "    arr[index] = mini\n",
    "    arr[c]= temp\n",
    "\n",
    "print(arr)"
   ]
  },
  {
   "cell_type": "code",
   "execution_count": 25,
   "id": "a69a08ac",
   "metadata": {},
   "outputs": [
    {
     "name": "stdout",
     "output_type": "stream",
     "text": [
      "[3, 4, 12, 27, 35, 45]\n"
     ]
    }
   ],
   "source": [
    "#bubble sort\n",
    "\n",
    "arr1 = [4,3,27, 45, 12, 35]\n",
    "for limit in range(len(arr)-1, 0, -1):\n",
    "    for i in range(limit):\n",
    "        if arr[i] > arr[i+1]:\n",
    "            temp = arr[i]\n",
    "            arr[i] = arr[i+1]\n",
    "            arr[i+1] = temp\n",
    "print(arr)"
   ]
  },
  {
   "cell_type": "code",
   "execution_count": 31,
   "id": "32e0528b",
   "metadata": {},
   "outputs": [
    {
     "name": "stdout",
     "output_type": "stream",
     "text": [
      "True 2\n"
     ]
    }
   ],
   "source": [
    "#seq search  O(n)\n",
    "\n",
    "arr = [4,3,27, 45, 12, 35]\n",
    "look = 27\n",
    "\n",
    "found = False\n",
    "index = 0\n",
    "\n",
    "while index < len(arr) and not found:\n",
    "    if arr[index] == look:\n",
    "        found = True\n",
    "        break\n",
    "    else:\n",
    "        index+=1\n",
    "        \n",
    "print(found, index)"
   ]
  },
  {
   "cell_type": "code",
   "execution_count": 33,
   "id": "3d30e22b",
   "metadata": {},
   "outputs": [
    {
     "name": "stdout",
     "output_type": "stream",
     "text": [
      "True 2\n"
     ]
    }
   ],
   "source": [
    "#binary search O(log(n))\n",
    "\n",
    "\n",
    "arr = [4,3,27, 45, 12, 35]\n",
    "look = 27\n",
    "\n",
    "found = False\n",
    "first = 0\n",
    "last = len(arr)-1\n",
    "\n",
    "while first<=last and not found:\n",
    "    midpoint = (first+last)//2\n",
    "    if look == arr[midpoint]:\n",
    "        found = True\n",
    "        found_index = midpoint\n",
    "        break\n",
    "    else:\n",
    "        if look < arr[midpoint]:\n",
    "            last = midpoint -1\n",
    "        else:\n",
    "            first = midpoint + 1\n",
    "\n",
    "print(found, found_index)"
   ]
  },
  {
   "cell_type": "code",
   "execution_count": 62,
   "id": "d486db43",
   "metadata": {},
   "outputs": [],
   "source": [
    "from selenium import webdriver\n",
    "from selenium.webdriver.chrome.service import Service\n",
    "from selenium.webdriver.common.by import By\n",
    "from selenium.webdriver.support.select import Select"
   ]
  },
  {
   "cell_type": "code",
   "execution_count": 61,
   "id": "b2cd9fbb",
   "metadata": {},
   "outputs": [],
   "source": [
    "servObj = Service('F:\\Python\\Jupyter notebook\\Drivers\\chromedriver.exe')\n",
    "driver = webdriver.Chrome(service=servObj)\n",
    "driver.get('https://practice.automationtesting.in/')\n",
    "\n",
    "#driver.find_element(By.NAME, 's').send_keys('sample')\n",
    "#driver.find_element(By.ID, 's').send_keys('sample')\n",
    "#driver.find_element(By.CLASS_NAME, 's').send_keys('sample')\n",
    "#driver.find_element(By.LINK_TEXT, 'Shop').click()\n",
    "# links = driver.find_elements(By.TAG_NAME, 'a')\n",
    "# print(len(links))\n",
    "\n",
    "#driver.find_element(By.CSS_SELECTOR, '#menu-item-40').click()\n",
    "#driver.find_element(By.CSS_SELECTOR, 'input[name=EMAIL]').send_keys('sample')\n",
    "\n",
    "#driver.find_element(By.XPATH, '//input[@name=\"EMAIL\"]').send_keys('sample')\n",
    "#driver.find_element(By.XPATH, '//input[contains(@title, \"arch\")]').send_keys('sample')\n",
    "#driver.find_element(By.XPATH, '//input[starts-with(@title, \"Sea\")]').send_keys('sample')\n",
    "#driver.find_element(By.XPATH, \"//a[@text()='Read More']\").click()\n",
    "\n",
    "search_but = driver.find_element(By.ID, \"s\")\n",
    "# print(search_but.is_displayed())\n",
    "# print(search_but.is_enabled())\n",
    "# search_but.send_keys('shop')\n",
    "# search_but.submit()"
   ]
  },
  {
   "cell_type": "code",
   "execution_count": null,
   "id": "dde73c3c",
   "metadata": {},
   "outputs": [],
   "source": [
    "driver.get('https://www.imdb.com/chart/top/')\n",
    "\n",
    "#all_child = driver.find_elements(By.XPATH, \"//a[text()='The Shawshank Redemption']/ancestor::tr/child::td\")\n"
   ]
  },
  {
   "cell_type": "code",
   "execution_count": 70,
   "id": "3873f94f",
   "metadata": {},
   "outputs": [
    {
     "name": "stdout",
     "output_type": "stream",
     "text": [
      "I am a JS prompt\n"
     ]
    }
   ],
   "source": [
    "import time\n",
    "serv_obj = Service('F:\\Python\\Jupyter notebook\\Drivers\\chromedriver.exe')\n",
    "driver = webdriver.Chrome(service = serv_obj)\n",
    "driver.get('https://the-internet.herokuapp.com/javascript_alerts')\n",
    "\n",
    "driver.find_element(By.XPATH, '//*[@id=\"content\"]/div/ul/li[3]/button').click()\n",
    "\n",
    "alert = driver.switch_to.alert\n",
    "print(alert.text)\n",
    "alert.accept()"
   ]
  },
  {
   "cell_type": "code",
   "execution_count": null,
   "id": "a01b7a68",
   "metadata": {},
   "outputs": [],
   "source": []
  },
  {
   "cell_type": "code",
   "execution_count": null,
   "id": "4dacab70",
   "metadata": {},
   "outputs": [],
   "source": []
  },
  {
   "cell_type": "code",
   "execution_count": null,
   "id": "0e7ec08f",
   "metadata": {},
   "outputs": [],
   "source": []
  },
  {
   "cell_type": "code",
   "execution_count": null,
   "id": "b32c5b37",
   "metadata": {},
   "outputs": [],
   "source": []
  },
  {
   "cell_type": "code",
   "execution_count": null,
   "id": "7870fd04",
   "metadata": {},
   "outputs": [],
   "source": []
  },
  {
   "cell_type": "code",
   "execution_count": null,
   "id": "6e6d7c08",
   "metadata": {},
   "outputs": [],
   "source": []
  },
  {
   "cell_type": "code",
   "execution_count": null,
   "id": "75a2f09c",
   "metadata": {},
   "outputs": [],
   "source": []
  },
  {
   "cell_type": "code",
   "execution_count": null,
   "id": "63910891",
   "metadata": {},
   "outputs": [],
   "source": []
  }
 ],
 "metadata": {
  "kernelspec": {
   "display_name": "Python 3 (ipykernel)",
   "language": "python",
   "name": "python3"
  },
  "language_info": {
   "codemirror_mode": {
    "name": "ipython",
    "version": 3
   },
   "file_extension": ".py",
   "mimetype": "text/x-python",
   "name": "python",
   "nbconvert_exporter": "python",
   "pygments_lexer": "ipython3",
   "version": "3.10.4"
  }
 },
 "nbformat": 4,
 "nbformat_minor": 5
}
