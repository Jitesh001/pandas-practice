{
 "cells": [
  {
   "cell_type": "code",
   "execution_count": 1,
   "id": "52fd528b",
   "metadata": {},
   "outputs": [],
   "source": [
    "#ecolab sample code"
   ]
  },
  {
   "cell_type": "code",
   "execution_count": 9,
   "id": "57fdb62a",
   "metadata": {},
   "outputs": [],
   "source": [
    "#check encoding of files\n",
    "\n",
    "import os\n",
    "import subprocess\n",
    "\n",
    "# SRCFILEDIR = \"/opt/inforapps/infaetl/Informatica10/server/infa_shared/SrcFiles/Accelerated/Field_Org\"\n",
    "SRCFILEDIR = os.path.dirname(\"F:\\Python\\Jupyter notebook\\pyNotebooks\\rawText\")\n",
    "os.chdir(SRCFILEDIR)\n",
    "\n",
    "for f in os.listdir():\n",
    "    if f.endswith(\".txt\"):\n",
    "        encoding = subprocess.check_output([\"file\", \"-b\", \"--mime-encoding\", f]).decode().strip()\n",
    "\n",
    "        if encoding not in [\"utf-8\", \"us-ascii\", \"binary\"]:\n",
    "            subprocess.run([\"iconv\", \"-f\", encoding, \"-t\", \"utf-8\", f, \"-o\", \"out.txt\"])\n",
    "            os.remove(f)\n",
    "            os.rename(\"out.txt\", f)\n",
    "        else:\n",
    "            print(encoding)"
   ]
  },
  {
   "cell_type": "code",
   "execution_count": 11,
   "id": "ee127b2b",
   "metadata": {},
   "outputs": [],
   "source": [
    "# send email \n",
    "import subprocess\n",
    "# Initialize variables\n",
    "current_cnt = 0\n",
    "MDM_DB = \"<database_name>\"\n",
    "\n",
    "# Connect to the database\n",
    "print(\"=====================================================================================\")\n",
    "print(f\"Connecting to {MDM_DB} database...\")\n",
    "print(\"=====================================================================================\")\n",
    "subprocess.run([\"db2\", f\"CONNECT TO {MDM_DB} USER <username> USING <password>\"], check=True)\n",
    "\n",
    "# Execute the script\n",
    "print(\"=====================================================================================\")\n",
    "print(\"Script - Started\")\n",
    "print(\"=====================================================================================\")\n",
    "\n",
    "# Get the count of records from the database and save it in a CSV file\n",
    "with open(\"/opt/inforapps/infaetl/Informatica10/server/infa_shared/TgtFiles/test.csv\", \"w\") as csv_file:\n",
    "    csv_file.write(\"GLOGSYS,COUNT\\n\")\n",
    "    subprocess.run([\"db2\", \"-x\", \"select GLOGSYS,',',count(1) from ecglmdm.customer_account_lndg_ap group by GLOGSYS\"], \n",
    "                   stdout=csv_file, check=True)\n",
    "\n",
    "# Send email if the count of records is greater than 10000\n",
    "subprocess.run([\"mail\", \"-a\", \"/opt/inforapps/infaetl/Informatica10/server/infa_shared/TgtFiles/test.csv\", \"-s\", \"Customer Delta has >10000 records for at least 1 source\", \"muralikrishna.vengalatturu@ecolab.com\"], check=True)\n",
    "\n",
    "# Print current count\n",
    "print(\"=====================================================================================\")\n",
    "print(f\"Current Count is {current_cnt}\")\n",
    "print(\"=====================================================================================\")\n",
    "\n",
    "# Disconnect from the database\n",
    "print(\"=====================================================================================\")\n",
    "print(f\"Disconnecting from {MDM_DB} database...\")\n",
    "print(\"=====================================================================================\")\n",
    "subprocess.run([\"db2\", \"DISCONNECT\"], check=True)\n",
    "\n",
    "# Script execution completed\n",
    "print(\"=====================================================================================\")\n",
    "print(\"Script execution - Completed\")\n",
    "print(\"=====================================================================================\")"
   ]
  },
  {
   "cell_type": "code",
   "execution_count": 1,
   "id": "ff74c454",
   "metadata": {},
   "outputs": [],
   "source": [
    "import subprocess\n",
    "import os"
   ]
  },
  {
   "cell_type": "code",
   "execution_count": 2,
   "id": "253ac2eb",
   "metadata": {},
   "outputs": [
    {
     "data": {
      "text/plain": [
       "CompletedProcess(args='dir', returncode=0)"
      ]
     },
     "execution_count": 2,
     "metadata": {},
     "output_type": "execute_result"
    }
   ],
   "source": [
    "subprocess.run(\"dir\", shell=True)"
   ]
  },
  {
   "cell_type": "code",
   "execution_count": 3,
   "id": "842ab13d",
   "metadata": {},
   "outputs": [
    {
     "data": {
      "text/plain": [
       "'F:\\\\Tech_Projects\\\\Jupyter notebook\\\\pyNotebooks'"
      ]
     },
     "execution_count": 3,
     "metadata": {},
     "output_type": "execute_result"
    }
   ],
   "source": [
    "#get current dir\n",
    "os.getcwd()"
   ]
  },
  {
   "cell_type": "code",
   "execution_count": 22,
   "id": "75a7cb3c",
   "metadata": {},
   "outputs": [],
   "source": [
    "#change dir\n",
    "os.chdir(\"F:\\Python\")"
   ]
  },
  {
   "cell_type": "code",
   "execution_count": 23,
   "id": "378b8ce5",
   "metadata": {},
   "outputs": [
    {
     "data": {
      "text/plain": [
       "'F:\\\\Python'"
      ]
     },
     "execution_count": 23,
     "metadata": {},
     "output_type": "execute_result"
    }
   ],
   "source": [
    "os.getcwd()"
   ]
  },
  {
   "cell_type": "code",
   "execution_count": 28,
   "id": "a3af57b4",
   "metadata": {},
   "outputs": [],
   "source": [
    "#join two dir or make new dir and add in parent, will just create path in text form\n",
    "new_dir = os.path.join(os.getcwd(), 'sample_folder')\n",
    "#parent, child"
   ]
  },
  {
   "cell_type": "code",
   "execution_count": 29,
   "id": "b1ac042a",
   "metadata": {},
   "outputs": [],
   "source": [
    "#create actual dir\n",
    "os.mkdir(new_dir)"
   ]
  },
  {
   "cell_type": "code",
   "execution_count": 32,
   "id": "0e0107eb",
   "metadata": {},
   "outputs": [
    {
     "data": {
      "text/plain": [
       "'F:\\\\Python'"
      ]
     },
     "execution_count": 32,
     "metadata": {},
     "output_type": "execute_result"
    }
   ],
   "source": [
    "os.getcwd()"
   ]
  },
  {
   "cell_type": "code",
   "execution_count": 34,
   "id": "c18eb8f0",
   "metadata": {},
   "outputs": [],
   "source": [
    "# os.makedirs is used if any directory misssing in path, it will be created indirectly"
   ]
  },
  {
   "cell_type": "code",
   "execution_count": 44,
   "id": "597d28de",
   "metadata": {},
   "outputs": [],
   "source": [
    "os.makedirs('F:\\\\Python\\sampC\\sampA\\sampD\\SampB')"
   ]
  },
  {
   "cell_type": "code",
   "execution_count": 45,
   "id": "bf6425a6",
   "metadata": {},
   "outputs": [],
   "source": [
    "#os.remove() method in Python is used to remove or delete a file in path, cannot delete dir"
   ]
  },
  {
   "cell_type": "code",
   "execution_count": 46,
   "id": "66ee0645",
   "metadata": {},
   "outputs": [],
   "source": [
    "os.remove('F:\\Python\\sampC\\sampA.txt')"
   ]
  },
  {
   "cell_type": "code",
   "execution_count": 48,
   "id": "f13d1eb2",
   "metadata": {},
   "outputs": [
    {
     "ename": "PermissionError",
     "evalue": "[WinError 5] Access is denied: 'F:\\\\Python\\\\sampC\\\\sampA'",
     "output_type": "error",
     "traceback": [
      "\u001b[1;31m---------------------------------------------------------------------------\u001b[0m",
      "\u001b[1;31mPermissionError\u001b[0m                           Traceback (most recent call last)",
      "Input \u001b[1;32mIn [48]\u001b[0m, in \u001b[0;36m<cell line: 1>\u001b[1;34m()\u001b[0m\n\u001b[1;32m----> 1\u001b[0m \u001b[43mos\u001b[49m\u001b[38;5;241;43m.\u001b[39;49m\u001b[43mremove\u001b[49m\u001b[43m(\u001b[49m\u001b[38;5;124;43m'\u001b[39;49m\u001b[38;5;124;43mF:\u001b[39;49m\u001b[38;5;124;43m\\\u001b[39;49m\u001b[38;5;124;43mPython\u001b[39;49m\u001b[38;5;124;43m\\\u001b[39;49m\u001b[38;5;124;43msampC\u001b[39;49m\u001b[38;5;124;43m\\\u001b[39;49m\u001b[38;5;124;43msampA\u001b[39;49m\u001b[38;5;124;43m'\u001b[39;49m\u001b[43m)\u001b[49m\n",
      "\u001b[1;31mPermissionError\u001b[0m: [WinError 5] Access is denied: 'F:\\\\Python\\\\sampC\\\\sampA'"
     ]
    }
   ],
   "source": [
    "os.remove('F:\\Python\\sampC\\sampA')\n",
    "#will give error while deleting dir"
   ]
  },
  {
   "cell_type": "code",
   "execution_count": 49,
   "id": "b3002aaf",
   "metadata": {},
   "outputs": [],
   "source": [
    "#os.rmdir() method in Python is used to remove or delete an empty directory. if file is present in dir gives error"
   ]
  },
  {
   "cell_type": "code",
   "execution_count": 51,
   "id": "fda6db07",
   "metadata": {},
   "outputs": [
    {
     "ename": "OSError",
     "evalue": "[WinError 145] The directory is not empty: 'F:\\\\Python\\\\sampC\\\\sampA\\\\sampD'",
     "output_type": "error",
     "traceback": [
      "\u001b[1;31m---------------------------------------------------------------------------\u001b[0m",
      "\u001b[1;31mOSError\u001b[0m                                   Traceback (most recent call last)",
      "Input \u001b[1;32mIn [51]\u001b[0m, in \u001b[0;36m<cell line: 1>\u001b[1;34m()\u001b[0m\n\u001b[1;32m----> 1\u001b[0m \u001b[43mos\u001b[49m\u001b[38;5;241;43m.\u001b[39;49m\u001b[43mrmdir\u001b[49m\u001b[43m(\u001b[49m\u001b[38;5;124;43m'\u001b[39;49m\u001b[38;5;124;43mF:\u001b[39;49m\u001b[38;5;124;43m\\\u001b[39;49m\u001b[38;5;124;43mPython\u001b[39;49m\u001b[38;5;124;43m\\\u001b[39;49m\u001b[38;5;124;43msampC\u001b[39;49m\u001b[38;5;124;43m\\\u001b[39;49m\u001b[38;5;124;43msampA\u001b[39;49m\u001b[38;5;124;43m\\\u001b[39;49m\u001b[38;5;124;43msampD\u001b[39;49m\u001b[38;5;124;43m'\u001b[39;49m\u001b[43m)\u001b[49m\n",
      "\u001b[1;31mOSError\u001b[0m: [WinError 145] The directory is not empty: 'F:\\\\Python\\\\sampC\\\\sampA\\\\sampD'"
     ]
    }
   ],
   "source": [
    "os.rmdir('F:\\Python\\sampC\\sampA\\sampD')\n",
    "# if gives error file might present in dir path"
   ]
  },
  {
   "cell_type": "code",
   "execution_count": 55,
   "id": "74eccfad",
   "metadata": {},
   "outputs": [
    {
     "ename": "OSError",
     "evalue": "[WinError 145] The directory is not empty: 'F:\\\\Python\\\\sampC'",
     "output_type": "error",
     "traceback": [
      "\u001b[1;31m---------------------------------------------------------------------------\u001b[0m",
      "\u001b[1;31mOSError\u001b[0m                                   Traceback (most recent call last)",
      "Input \u001b[1;32mIn [55]\u001b[0m, in \u001b[0;36m<cell line: 1>\u001b[1;34m()\u001b[0m\n\u001b[1;32m----> 1\u001b[0m \u001b[43mos\u001b[49m\u001b[38;5;241;43m.\u001b[39;49m\u001b[43mrmdir\u001b[49m\u001b[43m(\u001b[49m\u001b[38;5;124;43m'\u001b[39;49m\u001b[38;5;124;43mF:\u001b[39;49m\u001b[38;5;124;43m\\\u001b[39;49m\u001b[38;5;124;43mPython\u001b[39;49m\u001b[38;5;124;43m\\\u001b[39;49m\u001b[38;5;124;43msampC\u001b[39;49m\u001b[38;5;124;43m'\u001b[39;49m\u001b[43m)\u001b[49m\n",
      "\u001b[1;31mOSError\u001b[0m: [WinError 145] The directory is not empty: 'F:\\\\Python\\\\sampC'"
     ]
    }
   ],
   "source": [
    "os.rmdir('F:\\Python\\sampC')\n",
    "# if gives error file might present in dir path or dir is not empty having no end"
   ]
  },
  {
   "cell_type": "code",
   "execution_count": 58,
   "id": "fb23bd10",
   "metadata": {},
   "outputs": [],
   "source": [
    "os.rmdir('F:\\Python\\sampC\\sampA\\sampD\\SampB')"
   ]
  },
  {
   "cell_type": "code",
   "execution_count": 59,
   "id": "3fc2a34e",
   "metadata": {},
   "outputs": [],
   "source": [
    "# above is complete direcotry having no file content in between so not giving an error"
   ]
  },
  {
   "cell_type": "code",
   "execution_count": 60,
   "id": "be863d99",
   "metadata": {},
   "outputs": [],
   "source": [
    "#os.name: This function gives the name of the operating system dependent"
   ]
  },
  {
   "cell_type": "code",
   "execution_count": 61,
   "id": "854496e9",
   "metadata": {},
   "outputs": [
    {
     "data": {
      "text/plain": [
       "'nt'"
      ]
     },
     "execution_count": 61,
     "metadata": {},
     "output_type": "execute_result"
    }
   ],
   "source": [
    "os.name"
   ]
  },
  {
   "cell_type": "code",
   "execution_count": 64,
   "id": "88e7e8f6",
   "metadata": {},
   "outputs": [],
   "source": [
    "#os.error is an alias for built-in OSError exception. "
   ]
  },
  {
   "cell_type": "code",
   "execution_count": 65,
   "id": "8fd48b50",
   "metadata": {},
   "outputs": [
    {
     "data": {
      "text/plain": [
       "OSError"
      ]
     },
     "execution_count": 65,
     "metadata": {},
     "output_type": "execute_result"
    }
   ],
   "source": [
    "os.error"
   ]
  },
  {
   "cell_type": "code",
   "execution_count": 10,
   "id": "ba014b8a",
   "metadata": {},
   "outputs": [
    {
     "data": {
      "text/plain": [
       "'F:\\\\Python\\\\Jupyter notebook\\\\pyNotebooks'"
      ]
     },
     "execution_count": 10,
     "metadata": {},
     "output_type": "execute_result"
    }
   ],
   "source": [
    "os.getcwd()"
   ]
  },
  {
   "cell_type": "code",
   "execution_count": 11,
   "id": "a4af370a",
   "metadata": {},
   "outputs": [],
   "source": [
    "os.chdir('F:\\Python')"
   ]
  },
  {
   "cell_type": "code",
   "execution_count": 30,
   "id": "2e20e93b",
   "metadata": {},
   "outputs": [],
   "source": [
    "import os\n",
    "fd = \"GFG.txt\"\n",
    "  \n",
    "# popen() is similar to open()\n",
    "file = open(fd, 'w') #if file is present it will overwrite it\n",
    "file.write(\"New content\")\n",
    "file.close()\n"
   ]
  },
  {
   "cell_type": "code",
   "execution_count": 23,
   "id": "74632363",
   "metadata": {},
   "outputs": [
    {
     "data": {
      "text/plain": [
       "5"
      ]
     },
     "execution_count": 23,
     "metadata": {},
     "output_type": "execute_result"
    }
   ],
   "source": [
    "file = os.popen(fd, 'w') #write and open if file is already present\n",
    "file.write(\"Hello\")\n",
    "# popen() provides a pipe/gateway and accesses the file directly"
   ]
  },
  {
   "cell_type": "code",
   "execution_count": 27,
   "id": "3462e8df",
   "metadata": {},
   "outputs": [
    {
     "name": "stdout",
     "output_type": "stream",
     "text": [
      "New content\n"
     ]
    },
    {
     "ename": "TypeError",
     "evalue": "'_io.TextIOWrapper' object cannot be interpreted as an integer",
     "output_type": "error",
     "traceback": [
      "\u001b[1;31m---------------------------------------------------------------------------\u001b[0m",
      "\u001b[1;31mTypeError\u001b[0m                                 Traceback (most recent call last)",
      "Input \u001b[1;32mIn [27]\u001b[0m, in \u001b[0;36m<cell line: 7>\u001b[1;34m()\u001b[0m\n\u001b[0;32m      5\u001b[0m text \u001b[38;5;241m=\u001b[39m file\u001b[38;5;241m.\u001b[39mread()\n\u001b[0;32m      6\u001b[0m \u001b[38;5;28mprint\u001b[39m(text)\n\u001b[1;32m----> 7\u001b[0m \u001b[43mos\u001b[49m\u001b[38;5;241;43m.\u001b[39;49m\u001b[43mclose\u001b[49m\u001b[43m(\u001b[49m\u001b[43mfile\u001b[49m\u001b[43m)\u001b[49m\n",
      "\u001b[1;31mTypeError\u001b[0m: '_io.TextIOWrapper' object cannot be interpreted as an integer"
     ]
    }
   ],
   "source": [
    "import os\n",
    "  \n",
    "fd = \"GFG.txt\"\n",
    "file = open(fd, 'r')\n",
    "text = file.read()\n",
    "print(text)\n",
    "os.close(file)"
   ]
  },
  {
   "cell_type": "code",
   "execution_count": 28,
   "id": "77b5ef55",
   "metadata": {},
   "outputs": [],
   "source": [
    "# os.rename() rename file name"
   ]
  },
  {
   "cell_type": "code",
   "execution_count": 31,
   "id": "2702836b",
   "metadata": {},
   "outputs": [],
   "source": [
    "os.rename(fd, 'new_name.txt')"
   ]
  },
  {
   "cell_type": "code",
   "execution_count": 32,
   "id": "85f978ef",
   "metadata": {},
   "outputs": [],
   "source": [
    "# os.path.exists(): This method will check whether a file exists or not by passing the name of the file as a parameter"
   ]
  },
  {
   "cell_type": "code",
   "execution_count": 33,
   "id": "abfa79c2",
   "metadata": {},
   "outputs": [
    {
     "data": {
      "text/plain": [
       "True"
      ]
     },
     "execution_count": 33,
     "metadata": {},
     "output_type": "execute_result"
    }
   ],
   "source": [
    "os.path.exists('F:\\Python\\sampCsampA')"
   ]
  },
  {
   "cell_type": "code",
   "execution_count": 34,
   "id": "012ae8ec",
   "metadata": {},
   "outputs": [
    {
     "data": {
      "text/plain": [
       "False"
      ]
     },
     "execution_count": 34,
     "metadata": {},
     "output_type": "execute_result"
    }
   ],
   "source": [
    "os.path.exists('F:\\Python\\sampCsampA\\sampD')"
   ]
  },
  {
   "cell_type": "code",
   "execution_count": 35,
   "id": "26cdc82e",
   "metadata": {},
   "outputs": [
    {
     "data": {
      "text/plain": [
       "False"
      ]
     },
     "execution_count": 35,
     "metadata": {},
     "output_type": "execute_result"
    }
   ],
   "source": [
    "os.path.exists('F:\\Python\\abc.txt')"
   ]
  },
  {
   "cell_type": "code",
   "execution_count": 36,
   "id": "9493fb02",
   "metadata": {},
   "outputs": [],
   "source": [
    "# os.path.getsize(): In this method, python will give us the size of the file in bytes."
   ]
  },
  {
   "cell_type": "code",
   "execution_count": 39,
   "id": "bc9dc6d6",
   "metadata": {},
   "outputs": [
    {
     "data": {
      "text/plain": [
       "0"
      ]
     },
     "execution_count": 39,
     "metadata": {},
     "output_type": "execute_result"
    }
   ],
   "source": [
    "os.path.getsize('F:\\Python\\sampCsampA')"
   ]
  },
  {
   "cell_type": "code",
   "execution_count": 50,
   "id": "34211275",
   "metadata": {},
   "outputs": [
    {
     "data": {
      "text/plain": [
       "4096"
      ]
     },
     "execution_count": 50,
     "metadata": {},
     "output_type": "execute_result"
    }
   ],
   "source": [
    "os.path.getsize('F:\\Python') #wont work for file dir"
   ]
  },
  {
   "cell_type": "code",
   "execution_count": 49,
   "id": "00bcbaf6",
   "metadata": {},
   "outputs": [
    {
     "data": {
      "text/plain": [
       "False"
      ]
     },
     "execution_count": 49,
     "metadata": {},
     "output_type": "execute_result"
    }
   ],
   "source": [
    "os.path.exists('F:\\Python\\new_name.txt') #wont work for file dir"
   ]
  },
  {
   "cell_type": "code",
   "execution_count": 1,
   "id": "dced8fa1",
   "metadata": {},
   "outputs": [],
   "source": [
    "#subprocess module"
   ]
  },
  {
   "cell_type": "code",
   "execution_count": 2,
   "id": "b8b66314",
   "metadata": {},
   "outputs": [],
   "source": [
    "import subprocess"
   ]
  },
  {
   "cell_type": "code",
   "execution_count": 5,
   "id": "c18a4a80",
   "metadata": {},
   "outputs": [],
   "source": [
    "a = subprocess.run(\"dir\", capture_output = True, shell=True)"
   ]
  },
  {
   "cell_type": "code",
   "execution_count": 20,
   "id": "db0435ad",
   "metadata": {},
   "outputs": [
    {
     "data": {
      "text/plain": [
       "b\" Volume in drive F is STUDY\\r\\n Volume Serial Number is 1C8F-AF8D\\r\\n\\r\\n Directory of F:\\\\Python\\\\Jupyter notebook\\\\pyNotebooks\\r\\n\\r\\n03/03/2023  03:05 PM    <DIR>          .\\r\\n02/27/2023  04:28 PM    <DIR>          ..\\r\\n03/03/2023  11:12 AM    <DIR>          .ipynb_checkpoints\\r\\n06/05/2022  09:08 PM           264,811 EDA on India's Census 2011.ipynb\\r\\n03/03/2023  01:34 PM                 3 GFG.txt\\r\\n06/05/2022  09:08 PM           379,434 Loan Eligibility Prediction.ipynb\\r\\n06/06/2022  10:42 AM         3,131,890 NLP on Financial News.ipynb\\r\\n02/26/2023  08:49 PM            32,952 Numpy.ipynb\\r\\n02/24/2023  08:36 PM            96,743 Pandas Revision.ipynb\\r\\n02/25/2023  07:21 PM           110,082 parking data.ipynb\\r\\n02/26/2023  11:06 PM             5,911 Python Stuff.ipynb\\r\\n02/23/2023  09:32 PM            13,924 SqlitePlusPython.ipynb\\r\\n03/03/2023  03:05 PM            15,168 Untitled.ipynb\\r\\n02/23/2023  11:23 PM         3,354,427 WebScraping Python.ipynb\\r\\n02/25/2023  08:42 PM           141,853 zomato_data.ipynb\\r\\n              12 File(s)      7,547,198 bytes\\r\\n               3 Dir(s)  322,541,932,544 bytes free\\r\\n\""
      ]
     },
     "execution_count": 20,
     "metadata": {},
     "output_type": "execute_result"
    }
   ],
   "source": [
    "a.stdout"
   ]
  },
  {
   "cell_type": "code",
   "execution_count": 19,
   "id": "321d8fcf",
   "metadata": {},
   "outputs": [
    {
     "data": {
      "text/plain": [
       "\" Volume in drive F is STUDY\\r\\n Volume Serial Number is 1C8F-AF8D\\r\\n\\r\\n Directory of F:\\\\Python\\\\Jupyter notebook\\\\pyNotebooks\\r\\n\\r\\n03/03/2023  03:05 PM    <DIR>          .\\r\\n02/27/2023  04:28 PM    <DIR>          ..\\r\\n03/03/2023  11:12 AM    <DIR>          .ipynb_checkpoints\\r\\n06/05/2022  09:08 PM           264,811 EDA on India's Census 2011.ipynb\\r\\n03/03/2023  01:34 PM                 3 GFG.txt\\r\\n06/05/2022  09:08 PM           379,434 Loan Eligibility Prediction.ipynb\\r\\n06/06/2022  10:42 AM         3,131,890 NLP on Financial News.ipynb\\r\\n02/26/2023  08:49 PM            32,952 Numpy.ipynb\\r\\n02/24/2023  08:36 PM            96,743 Pandas Revision.ipynb\\r\\n02/25/2023  07:21 PM           110,082 parking data.ipynb\\r\\n02/26/2023  11:06 PM             5,911 Python Stuff.ipynb\\r\\n02/23/2023  09:32 PM            13,924 SqlitePlusPython.ipynb\\r\\n03/03/2023  03:05 PM            15,168 Untitled.ipynb\\r\\n02/23/2023  11:23 PM         3,354,427 WebScraping Python.ipynb\\r\\n02/25/2023  08:42 PM           141,853 zomato_data.ipynb\\r\\n              12 File(s)      7,547,198 bytes\\r\\n               3 Dir(s)  322,541,932,544 bytes free\\r\\n\""
      ]
     },
     "execution_count": 19,
     "metadata": {},
     "output_type": "execute_result"
    }
   ],
   "source": [
    "a.stdout.decode()"
   ]
  },
  {
   "cell_type": "code",
   "execution_count": 9,
   "id": "ac5184da",
   "metadata": {},
   "outputs": [
    {
     "data": {
      "text/plain": [
       "'dir'"
      ]
     },
     "execution_count": 9,
     "metadata": {},
     "output_type": "execute_result"
    }
   ],
   "source": [
    "a.args"
   ]
  },
  {
   "cell_type": "code",
   "execution_count": 10,
   "id": "32a25ff3",
   "metadata": {},
   "outputs": [
    {
     "data": {
      "text/plain": [
       "0"
      ]
     },
     "execution_count": 10,
     "metadata": {},
     "output_type": "execute_result"
    }
   ],
   "source": [
    "a.returncode"
   ]
  },
  {
   "cell_type": "code",
   "execution_count": 21,
   "id": "32d20ad2",
   "metadata": {},
   "outputs": [],
   "source": [
    "a = subprocess.run(\"dir\", capture_output = True, shell=True, text=True)"
   ]
  },
  {
   "cell_type": "code",
   "execution_count": 22,
   "id": "19be6bdd",
   "metadata": {},
   "outputs": [
    {
     "data": {
      "text/plain": [
       "' Volume in drive F is STUDY\\n Volume Serial Number is 1C8F-AF8D\\n\\n Directory of F:\\\\Python\\n\\n03/03/2023  04:53 PM    <DIR>          .\\n02/23/2023  07:12 PM    <DIR>          Django-Project\\n02/27/2023  04:28 PM    <DIR>          Jupyter notebook\\n03/03/2023  01:41 PM                11 new_name.txt\\n11/07/2022  12:02 PM    <DIR>          PySpark\\n03/03/2023  03:05 PM                95 pythoncode.py\\n03/03/2023  12:45 PM            13,450 python_handson.docx\\n02/22/2023  12:13 PM    <DIR>          RESTApis\\n03/03/2023  01:20 PM    <DIR>          sampC\\n03/03/2023  01:44 PM    <DIR>          sampCsampA\\n03/03/2023  01:02 PM    <DIR>          sample_folder\\n03/03/2023  03:05 PM                82 shell.py\\n               4 File(s)         13,638 bytes\\n               8 Dir(s)  322,541,928,448 bytes free\\n'"
      ]
     },
     "execution_count": 22,
     "metadata": {},
     "output_type": "execute_result"
    }
   ],
   "source": [
    "a.stdout"
   ]
  },
  {
   "cell_type": "code",
   "execution_count": 23,
   "id": "63260d50",
   "metadata": {},
   "outputs": [
    {
     "data": {
      "text/plain": [
       "' Volume in drive F is STUDY\\n Volume Serial Number is 1C8F-AF8D\\n\\n Directory of F:\\\\Python\\n\\n03/03/2023  04:53 PM    <DIR>          .\\n02/23/2023  07:12 PM    <DIR>          Django-Project\\n02/27/2023  04:28 PM    <DIR>          Jupyter notebook\\n03/03/2023  01:41 PM                11 new_name.txt\\n11/07/2022  12:02 PM    <DIR>          PySpark\\n03/03/2023  03:05 PM                95 pythoncode.py\\n03/03/2023  12:45 PM            13,450 python_handson.docx\\n02/22/2023  12:13 PM    <DIR>          RESTApis\\n03/03/2023  01:20 PM    <DIR>          sampC\\n03/03/2023  01:44 PM    <DIR>          sampCsampA\\n03/03/2023  01:02 PM    <DIR>          sample_folder\\n03/03/2023  03:05 PM                82 shell.py\\n               4 File(s)         13,638 bytes\\n               8 Dir(s)  322,541,924,352 bytes free\\n'"
      ]
     },
     "execution_count": 23,
     "metadata": {},
     "output_type": "execute_result"
    }
   ],
   "source": [
    "a = subprocess.run(\"dir\", stdout=subprocess.PIPE , shell=True, text=True)\n",
    "#stdout=subprocess.PIPE == capture_output = True\n",
    "a.stdout"
   ]
  },
  {
   "cell_type": "code",
   "execution_count": 14,
   "id": "1d247822",
   "metadata": {},
   "outputs": [
    {
     "data": {
      "text/plain": [
       "'F:\\\\Python'"
      ]
     },
     "execution_count": 14,
     "metadata": {},
     "output_type": "execute_result"
    }
   ],
   "source": [
    "import os\n",
    "os.chdir('F:\\\\Python')\n",
    "os.getcwd()"
   ]
  },
  {
   "cell_type": "code",
   "execution_count": 17,
   "id": "f7c9adf5",
   "metadata": {},
   "outputs": [],
   "source": [
    "b = subprocess.run(\"del del.txt\", capture_output=True, shell=True)"
   ]
  },
  {
   "cell_type": "code",
   "execution_count": 24,
   "id": "7d1ff2f6",
   "metadata": {},
   "outputs": [],
   "source": [
    "#write output to text file "
   ]
  },
  {
   "cell_type": "code",
   "execution_count": 26,
   "id": "d034f206",
   "metadata": {},
   "outputs": [],
   "source": [
    "with open('output.txt', 'w') as f:\n",
    "    p1 = subprocess.run(\"dir\", stdout=f, shell=True, text=True)"
   ]
  },
  {
   "cell_type": "code",
   "execution_count": 29,
   "id": "7d667a1e",
   "metadata": {},
   "outputs": [],
   "source": [
    "#how to check error or code/command is valid"
   ]
  },
  {
   "cell_type": "code",
   "execution_count": 28,
   "id": "3bf98efa",
   "metadata": {},
   "outputs": [],
   "source": [
    "com = subprocess.run(\"dir F:\\\\Python\\abc\", capture_output = True, shell=True, text=True)"
   ]
  },
  {
   "cell_type": "code",
   "execution_count": 32,
   "id": "350876d1",
   "metadata": {},
   "outputs": [
    {
     "data": {
      "text/plain": [
       "1"
      ]
     },
     "execution_count": 32,
     "metadata": {},
     "output_type": "execute_result"
    }
   ],
   "source": [
    "com.returncode #1 means code fails"
   ]
  },
  {
   "cell_type": "code",
   "execution_count": 33,
   "id": "8ea154a6",
   "metadata": {},
   "outputs": [
    {
     "data": {
      "text/plain": [
       "'File Not Found\\n'"
      ]
     },
     "execution_count": 33,
     "metadata": {},
     "output_type": "execute_result"
    }
   ],
   "source": [
    "com.stderr #get err"
   ]
  },
  {
   "cell_type": "code",
   "execution_count": 34,
   "id": "34295f80",
   "metadata": {},
   "outputs": [],
   "source": [
    "#if you want python to throw an exception add \"check\" parameter"
   ]
  },
  {
   "cell_type": "code",
   "execution_count": 35,
   "id": "c2faec3f",
   "metadata": {},
   "outputs": [
    {
     "ename": "CalledProcessError",
     "evalue": "Command 'dir F:\\Python\u0007bc' returned non-zero exit status 1.",
     "output_type": "error",
     "traceback": [
      "\u001b[1;31m---------------------------------------------------------------------------\u001b[0m",
      "\u001b[1;31mCalledProcessError\u001b[0m                        Traceback (most recent call last)",
      "Input \u001b[1;32mIn [35]\u001b[0m, in \u001b[0;36m<cell line: 1>\u001b[1;34m()\u001b[0m\n\u001b[1;32m----> 1\u001b[0m com \u001b[38;5;241m=\u001b[39m \u001b[43msubprocess\u001b[49m\u001b[38;5;241;43m.\u001b[39;49m\u001b[43mrun\u001b[49m\u001b[43m(\u001b[49m\u001b[38;5;124;43m\"\u001b[39;49m\u001b[38;5;124;43mdir F:\u001b[39;49m\u001b[38;5;130;43;01m\\\\\u001b[39;49;00m\u001b[38;5;124;43mPython\u001b[39;49m\u001b[38;5;130;43;01m\\a\u001b[39;49;00m\u001b[38;5;124;43mbc\u001b[39;49m\u001b[38;5;124;43m\"\u001b[39;49m\u001b[43m,\u001b[49m\u001b[43m \u001b[49m\u001b[43mcapture_output\u001b[49m\u001b[43m \u001b[49m\u001b[38;5;241;43m=\u001b[39;49m\u001b[43m \u001b[49m\u001b[38;5;28;43;01mTrue\u001b[39;49;00m\u001b[43m,\u001b[49m\u001b[43m \u001b[49m\u001b[43mshell\u001b[49m\u001b[38;5;241;43m=\u001b[39;49m\u001b[38;5;28;43;01mTrue\u001b[39;49;00m\u001b[43m,\u001b[49m\u001b[43m \u001b[49m\u001b[43mtext\u001b[49m\u001b[38;5;241;43m=\u001b[39;49m\u001b[38;5;28;43;01mTrue\u001b[39;49;00m\u001b[43m,\u001b[49m\u001b[43m \u001b[49m\u001b[43mcheck\u001b[49m\u001b[38;5;241;43m=\u001b[39;49m\u001b[38;5;28;43;01mTrue\u001b[39;49;00m\u001b[43m)\u001b[49m\n",
      "File \u001b[1;32m~\\AppData\\Local\\Programs\\Python\\Python310\\lib\\subprocess.py:524\u001b[0m, in \u001b[0;36mrun\u001b[1;34m(input, capture_output, timeout, check, *popenargs, **kwargs)\u001b[0m\n\u001b[0;32m    522\u001b[0m     retcode \u001b[38;5;241m=\u001b[39m process\u001b[38;5;241m.\u001b[39mpoll()\n\u001b[0;32m    523\u001b[0m     \u001b[38;5;28;01mif\u001b[39;00m check \u001b[38;5;129;01mand\u001b[39;00m retcode:\n\u001b[1;32m--> 524\u001b[0m         \u001b[38;5;28;01mraise\u001b[39;00m CalledProcessError(retcode, process\u001b[38;5;241m.\u001b[39margs,\n\u001b[0;32m    525\u001b[0m                                  output\u001b[38;5;241m=\u001b[39mstdout, stderr\u001b[38;5;241m=\u001b[39mstderr)\n\u001b[0;32m    526\u001b[0m \u001b[38;5;28;01mreturn\u001b[39;00m CompletedProcess(process\u001b[38;5;241m.\u001b[39margs, retcode, stdout, stderr)\n",
      "\u001b[1;31mCalledProcessError\u001b[0m: Command 'dir F:\\Python\u0007bc' returned non-zero exit status 1."
     ]
    }
   ],
   "source": [
    "com = subprocess.run(\"dir F:\\\\Python\\abc\", capture_output = True, shell=True, text=True, check=True)"
   ]
  },
  {
   "cell_type": "code",
   "execution_count": 36,
   "id": "3168e9fe",
   "metadata": {},
   "outputs": [],
   "source": [
    "com = subprocess.run(\"dir F:\\\\Python\\abc\", shell=True, stderr=subprocess.DEVNULL)"
   ]
  },
  {
   "cell_type": "code",
   "execution_count": 38,
   "id": "0f15ae2a",
   "metadata": {},
   "outputs": [],
   "source": [
    "com.stderr #will gives no error as 'stderr' is set as NONE"
   ]
  },
  {
   "cell_type": "code",
   "execution_count": 42,
   "id": "31c10589",
   "metadata": {},
   "outputs": [
    {
     "data": {
      "text/plain": [
       "'What is the cat equivalent command in windows? \\nThe type command is a Windows cat equivalent that works on command-line prompt and a Windows PowerShell. You can also use GC-Content cmdlet as an alias for the cat command in windows.'"
      ]
     },
     "execution_count": 42,
     "metadata": {},
     "output_type": "execute_result"
    }
   ],
   "source": [
    "com2 =  subprocess.run(\"type new_name.txt\", shell=True, capture_output=True, text=True)\n",
    "com2.stdout"
   ]
  },
  {
   "cell_type": "code",
   "execution_count": 45,
   "id": "08ca5187",
   "metadata": {},
   "outputs": [
    {
     "data": {
      "text/plain": [
       "'2:The type command is a Windows cat equivalent that works on command-line prompt and a Windows PowerShell. You can also use GC-Content cmdlet as an alias for the cat command in windows.'"
      ]
     },
     "execution_count": 45,
     "metadata": {},
     "output_type": "execute_result"
    }
   ],
   "source": [
    "#using one command output as input to another command\n",
    "#find 'works' word in which line number\n",
    "com3 =  subprocess.run('findstr /n \"works\" new_name.txt', shell=True, capture_output=True, text=True, input=com2.stdout)\n",
    "com3.stdout"
   ]
  },
  {
   "cell_type": "code",
   "execution_count": 56,
   "id": "60dc0303",
   "metadata": {},
   "outputs": [
    {
     "data": {
      "text/plain": [
       "' Volume in drive F is STUDY\\n Volume Serial Number is 1C8F-AF8D\\n\\n Directory of F:\\\\Python\\n\\n03/03/2023  05:06 PM    <DIR>          .\\n02/23/2023  07:12 PM    <DIR>          Django-Project\\n02/27/2023  04:28 PM    <DIR>          Jupyter notebook\\n03/03/2023  05:59 PM               232 new_name.txt\\n03/03/2023  05:06 PM               863 output.txt\\n11/07/2022  12:02 PM    <DIR>          PySpark\\n03/03/2023  03:05 PM                95 pythoncode.py\\n03/03/2023  12:45 PM            13,450 python_handson.docx\\n02/22/2023  12:13 PM    <DIR>          RESTApis\\n03/03/2023  01:20 PM    <DIR>          sampC\\n03/03/2023  01:44 PM    <DIR>          sampCsampA\\n03/03/2023  01:02 PM    <DIR>          sample_folder\\n03/03/2023  03:05 PM                82 shell.py\\n               5 File(s)         14,722 bytes\\n               8 Dir(s)  322,541,891,584 bytes free\\n'"
      ]
     },
     "execution_count": 56,
     "metadata": {},
     "output_type": "execute_result"
    }
   ],
   "source": [
    "#u can also use list form to provide shell command\n",
    "com3 =  subprocess.run(['dir', 'F:\\\\Python'], shell=True, capture_output=True, text=True)\n",
    "com3.stdout"
   ]
  },
  {
   "cell_type": "code",
   "execution_count": 1,
   "id": "1ac70faa",
   "metadata": {},
   "outputs": [],
   "source": [
    "import subprocess"
   ]
  },
  {
   "cell_type": "code",
   "execution_count": 2,
   "id": "4b82f9ec",
   "metadata": {},
   "outputs": [],
   "source": [
    "import os\n",
    "os.chdir('F:\\Python')"
   ]
  },
  {
   "cell_type": "code",
   "execution_count": 5,
   "id": "e97acf58",
   "metadata": {},
   "outputs": [],
   "source": [
    "com = subprocess.check_output('dir F:\\Python', shell=True)\n",
    "#check_output -> directly gives output in text form"
   ]
  },
  {
   "cell_type": "code",
   "execution_count": 6,
   "id": "caeef84b",
   "metadata": {},
   "outputs": [
    {
     "data": {
      "text/plain": [
       "b' Volume in drive F is STUDY\\r\\n Volume Serial Number is 1C8F-AF8D\\r\\n\\r\\n Directory of F:\\\\Python\\r\\n\\r\\n03/03/2023  05:06 PM    <DIR>          .\\r\\n02/23/2023  07:12 PM    <DIR>          Django-Project\\r\\n02/27/2023  04:28 PM    <DIR>          Jupyter notebook\\r\\n03/03/2023  05:59 PM               232 new_name.txt\\r\\n03/03/2023  05:06 PM               863 output.txt\\r\\n11/07/2022  12:02 PM    <DIR>          PySpark\\r\\n03/03/2023  03:05 PM                95 pythoncode.py\\r\\n03/03/2023  12:45 PM            13,450 python_handson.docx\\r\\n02/22/2023  12:13 PM    <DIR>          RESTApis\\r\\n03/03/2023  01:20 PM    <DIR>          sampC\\r\\n03/03/2023  01:44 PM    <DIR>          sampCsampA\\r\\n03/03/2023  01:02 PM    <DIR>          sample_folder\\r\\n03/03/2023  03:05 PM                82 shell.py\\r\\n               5 File(s)         14,722 bytes\\r\\n               8 Dir(s)  322,541,887,488 bytes free\\r\\n'"
      ]
     },
     "execution_count": 6,
     "metadata": {},
     "output_type": "execute_result"
    }
   ],
   "source": [
    "com"
   ]
  },
  {
   "cell_type": "code",
   "execution_count": 7,
   "id": "c1bdd33a",
   "metadata": {},
   "outputs": [],
   "source": [
    "#use of 'decode' function in python"
   ]
  },
  {
   "cell_type": "code",
   "execution_count": 4,
   "id": "f938dc12",
   "metadata": {},
   "outputs": [
    {
     "name": "stdout",
     "output_type": "stream",
     "text": [
      "The encoded string in base64 format is : \n",
      "b'\\xff\\xfeg\\x00e\\x00e\\x00k\\x00s\\x00f\\x00o\\x00r\\x00g\\x00e\\x00e\\x00k\\x00s\\x00'\n",
      "The decoded string is : \n",
      "geeksforgeeks\n"
     ]
    }
   ],
   "source": [
    "# initializing string \n",
    "str1 = \"geeksforgeeks\"\n",
    "   \n",
    "# encoding string \n",
    "str_enc = str1.encode(encoding='utf16')\n",
    "   \n",
    "# printing the encoded string\n",
    "print (\"The encoded string in base64 format is : \",)\n",
    "print (str_enc )\n",
    "   \n",
    "# printing the original decoded string \n",
    "print (\"The decoded string is : \",)\n",
    "print (str_enc.decode('utf16', 'strict'))"
   ]
  },
  {
   "cell_type": "code",
   "execution_count": 14,
   "id": "5f1d94a0",
   "metadata": {},
   "outputs": [],
   "source": [
    "# os.environ in Python is a mapping object that represents the user’s environmental variables. \n",
    "# It returns a dictionary having user’s environmental variable as key and their values as value."
   ]
  },
  {
   "cell_type": "code",
   "execution_count": 13,
   "id": "b5ea3e36",
   "metadata": {},
   "outputs": [
    {
     "data": {
      "text/plain": [
       "environ{'ALLUSERSPROFILE': 'C:\\\\ProgramData',\n",
       "        'APPDATA': 'C:\\\\Users\\\\Jitesh\\\\AppData\\\\Roaming',\n",
       "        'CLASSPATH': '.;C:\\\\PROGRA~1\\\\IBM\\\\SQLLIB\\\\java\\\\db2java.zip;C:\\\\PROGRA~1\\\\IBM\\\\SQLLIB\\\\java\\\\db2jcc4.jar;C:\\\\PROGRA~1\\\\IBM\\\\SQLLIB\\\\java\\\\sqlj4.zip;C:\\\\PROGRA~1\\\\IBM\\\\SQLLIB\\\\java\\\\db2jcc_license_cisuz.jar;C:\\\\PROGRA~1\\\\IBM\\\\SQLLIB\\\\java\\\\db2jcc_license_cu.jar;C:\\\\PROGRA~1\\\\IBM\\\\SQLLIB\\\\bin;C:\\\\PROGRA~1\\\\IBM\\\\SQLLIB\\\\java\\\\common.jar',\n",
       "        'COMMONPROGRAMFILES': 'C:\\\\Program Files\\\\Common Files',\n",
       "        'COMMONPROGRAMFILES(X86)': 'C:\\\\Program Files (x86)\\\\Common Files',\n",
       "        'COMMONPROGRAMW6432': 'C:\\\\Program Files\\\\Common Files',\n",
       "        'COMPUTERNAME': 'LAPTOP-NSJRG4QI',\n",
       "        'COMSPEC': 'C:\\\\WINDOWS\\\\system32\\\\cmd.exe',\n",
       "        'DRIVERDATA': 'C:\\\\Windows\\\\System32\\\\Drivers\\\\DriverData',\n",
       "        'HADOOP_PATH': 'C:\\\\Hadoop',\n",
       "        'HOMEDRIVE': 'C:',\n",
       "        'HOMEPATH': '\\\\Users\\\\Jitesh',\n",
       "        'INCLUDE': 'C:\\\\PROGRA~1\\\\IBM\\\\SQLLIB\\\\INCLUDE;C:\\\\PROGRA~1\\\\IBM\\\\SQLLIB\\\\LIB',\n",
       "        'JAVA_HOME': 'C:\\\\Program Files\\\\Java\\\\jdk-11.0.17\\\\bin',\n",
       "        'LIB': ';C:\\\\PROGRA~1\\\\IBM\\\\SQLLIB\\\\LIB',\n",
       "        'LOCALAPPDATA': 'C:\\\\Users\\\\Jitesh\\\\AppData\\\\Local',\n",
       "        'LOGONSERVER': '\\\\\\\\LAPTOP-NSJRG4QI',\n",
       "        'NUMBER_OF_PROCESSORS': '8',\n",
       "        'ONEDRIVE': 'C:\\\\Users\\\\Jitesh\\\\OneDrive',\n",
       "        'ONEDRIVECONSUMER': 'C:\\\\Users\\\\Jitesh\\\\OneDrive',\n",
       "        'ONLINESERVICES': 'Online Services',\n",
       "        'OS': 'Windows_NT',\n",
       "        'PATH': 'C:\\\\Program Files\\\\Common Files\\\\Oracle\\\\Java\\\\javapath;C:\\\\Informatica\\\\9.6.1\\\\java\\\\jre\\\\bin\\\\server;C:\\\\Informatica\\\\9.6.1\\\\tools\\\\odbcdrv;C:\\\\Informatica\\\\9.6.1\\\\tools\\\\jdbcdrv;C:\\\\Informatica\\\\9.6.1\\\\tools\\\\datadirect;C:\\\\Program Files (x86)\\\\Common Files\\\\Oracle\\\\Java\\\\javapath;C:\\\\oraclexe\\\\app\\\\oracle\\\\product\\\\11.2.0\\\\server\\\\bin;C:\\\\WINDOWS\\\\system32;C:\\\\WINDOWS;C:\\\\WINDOWS\\\\System32\\\\Wbem;C:\\\\WINDOWS\\\\System32\\\\WindowsPowerShell\\\\v1.0\\\\;C:\\\\WINDOWS\\\\System32\\\\OpenSSH\\\\;C:\\\\Program Files\\\\wkhtmltopdf\\\\bin;C:\\\\Program Files\\\\MongoDB\\\\Server\\\\4.4\\\\bin;C:\\\\Users\\\\Jitesh\\\\Downloads\\\\spark-3.3.0-bin-hadoop2\\\\spark-3.3.0-bin-hadoop2\\\\bin;C:\\\\Hadoop\\\\bin;C:\\\\Program Files\\\\Git\\\\cmd;C:\\\\Program Files\\\\MySQL\\\\MySQL Server 8.0\\\\bin;C:\\\\Program Files\\\\ibm\\\\gsk8\\\\lib64;C:\\\\Program Files (x86)\\\\ibm\\\\gsk8\\\\lib;C:\\\\PROGRA~1\\\\IBM\\\\SQLLIB\\\\BIN;C:\\\\PROGRA~1\\\\IBM\\\\SQLLIB\\\\FUNCTION;C:\\\\PROGRA~1\\\\IBM\\\\SQLLIB\\\\SAMPLES\\\\REPL;C:\\\\Program Files\\\\MySQL\\\\MySQL Shell 8.0\\\\bin\\\\;C:\\\\Users\\\\Jitesh\\\\AppData\\\\Local\\\\Programs\\\\Python\\\\Python310\\\\Scripts\\\\;C:\\\\Users\\\\Jitesh\\\\AppData\\\\Local\\\\Programs\\\\Python\\\\Python310\\\\;C:\\\\Users\\\\Jitesh\\\\AppData\\\\Local\\\\Microsoft\\\\WindowsApps;C:\\\\Users\\\\Jitesh\\\\AppData\\\\Local\\\\Programs\\\\Microsoft VS Code\\\\bin;C:\\\\Program Files\\\\wkhtmltopdf\\\\bin;C:\\\\Users\\\\Jitesh\\\\AppData\\\\Local\\\\Programs\\\\Python\\\\Python310\\\\wkhtmltopdf\\\\bin;',\n",
       "        'PATHEXT': '.COM;.EXE;.BAT;.CMD;.VBS;.VBE;.JS;.JSE;.WSF;.WSH;.MSC',\n",
       "        'PLATFORMCODE': 'KV',\n",
       "        'PROCESSOR_ARCHITECTURE': 'AMD64',\n",
       "        'PROCESSOR_IDENTIFIER': 'Intel64 Family 6 Model 142 Stepping 11, GenuineIntel',\n",
       "        'PROCESSOR_LEVEL': '6',\n",
       "        'PROCESSOR_REVISION': '8e0b',\n",
       "        'PROGRAMDATA': 'C:\\\\ProgramData',\n",
       "        'PROGRAMFILES': 'C:\\\\Program Files',\n",
       "        'PROGRAMFILES(X86)': 'C:\\\\Program Files (x86)',\n",
       "        'PROGRAMW6432': 'C:\\\\Program Files',\n",
       "        'PROMPT': '$P$G',\n",
       "        'PSMODULEPATH': 'C:\\\\Program Files\\\\WindowsPowerShell\\\\Modules;C:\\\\WINDOWS\\\\system32\\\\WindowsPowerShell\\\\v1.0\\\\Modules',\n",
       "        'PUBLIC': 'C:\\\\Users\\\\Public',\n",
       "        'REGIONCODE': 'APJ',\n",
       "        'SESSIONNAME': 'Console',\n",
       "        'SPARK HOME': 'C:\\\\Users\\\\Jitesh\\\\Downloads\\\\spark-3.3.0-bin-hadoop2\\\\spark-3.3.0-bin-hadoop2',\n",
       "        'SYSTEMDRIVE': 'C:',\n",
       "        'SYSTEMROOT': 'C:\\\\WINDOWS',\n",
       "        'TEMP': 'C:\\\\Users\\\\Jitesh\\\\AppData\\\\Local\\\\Temp',\n",
       "        'TMP': 'C:\\\\Users\\\\Jitesh\\\\AppData\\\\Local\\\\Temp',\n",
       "        'USERDOMAIN': 'LAPTOP-NSJRG4QI',\n",
       "        'USERDOMAIN_ROAMINGPROFILE': 'LAPTOP-NSJRG4QI',\n",
       "        'USERNAME': 'Jitesh',\n",
       "        'USERPROFILE': 'C:\\\\Users\\\\Jitesh',\n",
       "        'WINDIR': 'C:\\\\WINDOWS',\n",
       "        'ZES_ENABLE_SYSMAN': '1',\n",
       "        'PYDEVD_USE_FRAME_EVAL': 'NO',\n",
       "        'JPY_INTERRUPT_EVENT': '2580',\n",
       "        'IPY_INTERRUPT_EVENT': '2580',\n",
       "        'JPY_PARENT_PID': '2256',\n",
       "        'TERM': 'xterm-color',\n",
       "        'CLICOLOR': '1',\n",
       "        'PAGER': 'cat',\n",
       "        'GIT_PAGER': 'cat',\n",
       "        'MPLBACKEND': 'module://matplotlib_inline.backend_inline'}"
      ]
     },
     "execution_count": 13,
     "metadata": {},
     "output_type": "execute_result"
    }
   ],
   "source": [
    "os.environ"
   ]
  },
  {
   "cell_type": "code",
   "execution_count": 16,
   "id": "4d17292b",
   "metadata": {},
   "outputs": [
    {
     "data": {
      "text/plain": [
       "'LAPTOP-NSJRG4QI'"
      ]
     },
     "execution_count": 16,
     "metadata": {},
     "output_type": "execute_result"
    }
   ],
   "source": [
    "USERDOMAIN = os.environ['USERDOMAIN']\n",
    "USERDOMAIN"
   ]
  },
  {
   "cell_type": "code",
   "execution_count": 17,
   "id": "4121461b",
   "metadata": {},
   "outputs": [
    {
     "data": {
      "text/plain": [
       "'LAPTOP-NSJRG4QI'"
      ]
     },
     "execution_count": 17,
     "metadata": {},
     "output_type": "execute_result"
    }
   ],
   "source": [
    "os.environ.get('USERDOMAIN')"
   ]
  },
  {
   "cell_type": "code",
   "execution_count": 19,
   "id": "2a1a41ec",
   "metadata": {},
   "outputs": [],
   "source": [
    "# os.path.basename(path) : It is used to return the basename of the file . \n",
    "# This function basically return the file name from the path given."
   ]
  },
  {
   "cell_type": "code",
   "execution_count": 18,
   "id": "31304f74",
   "metadata": {},
   "outputs": [
    {
     "name": "stdout",
     "output_type": "stream",
     "text": [
      "Documents\n"
     ]
    }
   ],
   "source": [
    "path = '/home/User/Documents'\n",
    "basename = os.path.basename(path)\n",
    " \n",
    "# Print the base name \n",
    "print(basename)"
   ]
  },
  {
   "cell_type": "code",
   "execution_count": 20,
   "id": "beb22574",
   "metadata": {},
   "outputs": [],
   "source": [
    "#  os.path.dirname(path) : It is used to return the directory name from the path given. \n",
    "#     This function returns the name from the path except the path name. "
   ]
  },
  {
   "cell_type": "code",
   "execution_count": 23,
   "id": "ec540dca",
   "metadata": {},
   "outputs": [
    {
     "name": "stdout",
     "output_type": "stream",
     "text": [
      "/baz/foo\n"
     ]
    }
   ],
   "source": [
    "# dirname function\n",
    "import os\n",
    "out = os.path.dirname(\"/baz/foo/mo\")\n",
    "print(out)"
   ]
  },
  {
   "cell_type": "code",
   "execution_count": 25,
   "id": "8ff3e04b",
   "metadata": {},
   "outputs": [],
   "source": [
    "# os.path.isabs(path) : It specifies whether the path is absolute or not. In Unix system absolute path means path begins \n",
    "# with the slash(‘/’) "
   ]
  },
  {
   "cell_type": "code",
   "execution_count": 28,
   "id": "f1fda110",
   "metadata": {},
   "outputs": [
    {
     "name": "stdout",
     "output_type": "stream",
     "text": [
      "False\n",
      "True\n"
     ]
    }
   ],
   "source": [
    "# isabs function\n",
    "import os\n",
    "out = os.path.isabs(\"baz/foo\")\n",
    "print(out)\n",
    "\n",
    "out = os.path.isabs(\"/baz/foo\")\n",
    "print(out)"
   ]
  },
  {
   "cell_type": "code",
   "execution_count": 29,
   "id": "41180692",
   "metadata": {},
   "outputs": [],
   "source": [
    "# os.path.isdir(path) : This function specifies whether the path is existing directory or not. "
   ]
  },
  {
   "cell_type": "code",
   "execution_count": 31,
   "id": "c141cfb2",
   "metadata": {},
   "outputs": [
    {
     "name": "stdout",
     "output_type": "stream",
     "text": [
      "True\n",
      "False\n"
     ]
    }
   ],
   "source": [
    "# isdir function\n",
    "import os\n",
    "out = os.path.isdir(\"C:\\\\Users\")\n",
    "print(out)\n",
    "out = os.path.isdir(\"baz/foo\")\n",
    "print(out)"
   ]
  },
  {
   "cell_type": "code",
   "execution_count": 32,
   "id": "bb6bc1e4",
   "metadata": {},
   "outputs": [],
   "source": [
    "# os.path.isfile(path) : This function specifies whether the path is existing file or not."
   ]
  },
  {
   "cell_type": "code",
   "execution_count": 34,
   "id": "296fa223",
   "metadata": {},
   "outputs": [
    {
     "name": "stdout",
     "output_type": "stream",
     "text": [
      "True\n"
     ]
    }
   ],
   "source": [
    "import os\n",
    "out = os.path.isfile(\"F:\\Python\\shell.py\")\n",
    "print(out)"
   ]
  },
  {
   "cell_type": "code",
   "execution_count": 36,
   "id": "2370b90e",
   "metadata": {},
   "outputs": [
    {
     "name": "stdout",
     "output_type": "stream",
     "text": [
      "82\n"
     ]
    }
   ],
   "source": [
    "out = os.path.getsize(\"F:\\Python\\shell.py\")\n",
    "print(out)"
   ]
  },
  {
   "cell_type": "code",
   "execution_count": 10,
   "id": "06c23529",
   "metadata": {},
   "outputs": [],
   "source": [
    "# shutil moduele"
   ]
  },
  {
   "cell_type": "code",
   "execution_count": 11,
   "id": "575889ef",
   "metadata": {},
   "outputs": [],
   "source": [
    "import shutil"
   ]
  },
  {
   "cell_type": "code",
   "execution_count": 13,
   "id": "d8c6cbcf",
   "metadata": {},
   "outputs": [],
   "source": [
    "import os \n",
    "os.chdir('F:\\Python\\sample_folder')"
   ]
  },
  {
   "cell_type": "code",
   "execution_count": 15,
   "id": "b7126436",
   "metadata": {},
   "outputs": [],
   "source": [
    "#shutil.copy - copy content from one file to other"
   ]
  },
  {
   "cell_type": "code",
   "execution_count": 14,
   "id": "5d95febc",
   "metadata": {},
   "outputs": [
    {
     "data": {
      "text/plain": [
       "'output.txt'"
      ]
     },
     "execution_count": 14,
     "metadata": {},
     "output_type": "execute_result"
    }
   ],
   "source": [
    "shutil.copy('sample.txt', 'output.txt') "
   ]
  },
  {
   "cell_type": "code",
   "execution_count": 20,
   "id": "7e26a125",
   "metadata": {},
   "outputs": [],
   "source": [
    "#if dest is directory it copies entire file to dir"
   ]
  },
  {
   "cell_type": "code",
   "execution_count": 19,
   "id": "a03906a9",
   "metadata": {},
   "outputs": [
    {
     "data": {
      "text/plain": [
       "'F:\\\\Python\\\\sample_folder\\\\abc.txt'"
      ]
     },
     "execution_count": 19,
     "metadata": {},
     "output_type": "execute_result"
    }
   ],
   "source": [
    "shutil.copy('F:\\Python\\\\abc.txt', 'F:\\Python\\sample_folder') "
   ]
  },
  {
   "cell_type": "code",
   "execution_count": 26,
   "id": "a46252d6",
   "metadata": {},
   "outputs": [],
   "source": [
    "#os.copy2 - copies metadata of files"
   ]
  },
  {
   "cell_type": "code",
   "execution_count": 22,
   "id": "1cceeb68",
   "metadata": {},
   "outputs": [
    {
     "data": {
      "text/plain": [
       "os.stat_result(st_mode=33206, st_ino=844424930156034, st_dev=479178637, st_nlink=1, st_uid=0, st_gid=0, st_size=326, st_atime=1678034899, st_mtime=1678034894, st_ctime=1677915962)"
      ]
     },
     "execution_count": 22,
     "metadata": {},
     "output_type": "execute_result"
    }
   ],
   "source": [
    "metadata = os.stat('output.txt')\n",
    "metadata"
   ]
  },
  {
   "cell_type": "code",
   "execution_count": 24,
   "id": "7f00c6fe",
   "metadata": {},
   "outputs": [
    {
     "data": {
      "text/plain": [
       "'abc.txt'"
      ]
     },
     "execution_count": 24,
     "metadata": {},
     "output_type": "execute_result"
    }
   ],
   "source": [
    "shutil.copy2('output.txt', 'abc.txt')"
   ]
  },
  {
   "cell_type": "code",
   "execution_count": 25,
   "id": "a70b0fea",
   "metadata": {},
   "outputs": [
    {
     "data": {
      "text/plain": [
       "os.stat_result(st_mode=33206, st_ino=844424930156040, st_dev=479178637, st_nlink=1, st_uid=0, st_gid=0, st_size=326, st_atime=1678035214, st_mtime=1678034894, st_ctime=1678035067)"
      ]
     },
     "execution_count": 25,
     "metadata": {},
     "output_type": "execute_result"
    }
   ],
   "source": [
    "metadata = os.stat('abc.txt')\n",
    "metadata"
   ]
  },
  {
   "cell_type": "code",
   "execution_count": 27,
   "id": "ed722f11",
   "metadata": {},
   "outputs": [],
   "source": [
    "# shutil.copyfile() method in Python is used to copy the content of the source file to the destination file. \n",
    "# The metadata of the file is not copied. Source and destination must represent a file and destination must be writable."
   ]
  },
  {
   "cell_type": "code",
   "execution_count": 29,
   "id": "6fa704aa",
   "metadata": {},
   "outputs": [],
   "source": [
    "# shutil.copytree() method recursively copies an entire directory tree rooted at source (src) to the destination directory. \n",
    "# The destination directory, named by (dst) must not already exist. It will be created during copying."
   ]
  },
  {
   "cell_type": "code",
   "execution_count": 30,
   "id": "afeffa28",
   "metadata": {},
   "outputs": [],
   "source": [
    "os.chdir('F:\\Python')"
   ]
  },
  {
   "cell_type": "code",
   "execution_count": 35,
   "id": "cb5cde2b",
   "metadata": {},
   "outputs": [
    {
     "data": {
      "text/plain": [
       "'F:\\\\Python\\\\sampC\\\\abc'"
      ]
     },
     "execution_count": 35,
     "metadata": {},
     "output_type": "execute_result"
    }
   ],
   "source": [
    "shutil.copytree('sampC', 'F:\\Python\\sampC\\\\abc')"
   ]
  },
  {
   "cell_type": "code",
   "execution_count": 36,
   "id": "e00aa9ac",
   "metadata": {},
   "outputs": [],
   "source": [
    "# shutil.rmtree() is used to delete an entire directory tree, \n",
    "# the path must point to a directory (but not a symbolic link to a directory).\n"
   ]
  },
  {
   "cell_type": "code",
   "execution_count": 37,
   "id": "a2b89869",
   "metadata": {},
   "outputs": [],
   "source": [
    "shutil.rmtree('F:\\Python\\sampC\\\\abc')"
   ]
  },
  {
   "cell_type": "code",
   "execution_count": 38,
   "id": "e4f83ba0",
   "metadata": {},
   "outputs": [],
   "source": [
    "# shutil.which() This method can be used to find a file on a computer which is present on the PATH."
   ]
  },
  {
   "cell_type": "code",
   "execution_count": 45,
   "id": "67fb5dd6",
   "metadata": {},
   "outputs": [
    {
     "name": "stdout",
     "output_type": "stream",
     "text": [
      "None\n"
     ]
    }
   ],
   "source": [
    "abc = shutil.which('shell.py')\n",
    "print(abc)"
   ]
  },
  {
   "cell_type": "code",
   "execution_count": 44,
   "id": "3f0c78f4",
   "metadata": {},
   "outputs": [
    {
     "data": {
      "text/plain": [
       "'F:\\\\Python'"
      ]
     },
     "execution_count": 44,
     "metadata": {},
     "output_type": "execute_result"
    }
   ],
   "source": [
    "os.getcwd()"
   ]
  },
  {
   "cell_type": "code",
   "execution_count": 46,
   "id": "eb59b813",
   "metadata": {},
   "outputs": [],
   "source": [
    "#datetime module"
   ]
  },
  {
   "cell_type": "code",
   "execution_count": 2,
   "id": "a8378666",
   "metadata": {},
   "outputs": [],
   "source": [
    "from datetime import datetime, timedelta"
   ]
  },
  {
   "cell_type": "code",
   "execution_count": 6,
   "id": "ea39e6f3",
   "metadata": {},
   "outputs": [
    {
     "data": {
      "text/plain": [
       "datetime.datetime(2023, 3, 5, 22, 11, 1, 514943)"
      ]
     },
     "execution_count": 6,
     "metadata": {},
     "output_type": "execute_result"
    }
   ],
   "source": [
    "datetime.today()"
   ]
  },
  {
   "cell_type": "code",
   "execution_count": 4,
   "id": "a732ea4a",
   "metadata": {},
   "outputs": [
    {
     "data": {
      "text/plain": [
       "'03052023'"
      ]
     },
     "execution_count": 4,
     "metadata": {},
     "output_type": "execute_result"
    }
   ],
   "source": [
    "datetime.today().strftime('%m%d%Y')"
   ]
  },
  {
   "cell_type": "code",
   "execution_count": 7,
   "id": "bea207c5",
   "metadata": {},
   "outputs": [
    {
     "data": {
      "text/plain": [
       "datetime.datetime(2023, 3, 5, 22, 11, 10, 980068)"
      ]
     },
     "execution_count": 7,
     "metadata": {},
     "output_type": "execute_result"
    }
   ],
   "source": [
    "datetime.now()"
   ]
  },
  {
   "cell_type": "code",
   "execution_count": 9,
   "id": "f0766ff6",
   "metadata": {},
   "outputs": [
    {
     "data": {
      "text/plain": [
       "'03052023 221138'"
      ]
     },
     "execution_count": 9,
     "metadata": {},
     "output_type": "execute_result"
    }
   ],
   "source": [
    "datetime.now().strftime('%m%d%Y %H%M%S')"
   ]
  },
  {
   "cell_type": "code",
   "execution_count": 50,
   "id": "37230731",
   "metadata": {},
   "outputs": [],
   "source": [
    "#The name tar in tar files stands for Tape Archive Files. Tar files are archive files to keep many files in a single file.\n",
    "#Tar files are used for the distribution of open-source software. Generally, tar files have .tar extension \n",
    "#but when they are compressed with other utilities like gzip then they have an extension tar.gz."
   ]
  },
  {
   "cell_type": "code",
   "execution_count": 51,
   "id": "e9f3def2",
   "metadata": {},
   "outputs": [],
   "source": [
    "import tarfile\n",
    "fileobj = tarfile.open('sampletar', 'w')\n",
    "fileobj.add('sample.txt')\n",
    "fileobj.close()"
   ]
  },
  {
   "cell_type": "code",
   "execution_count": 55,
   "id": "54a172c4",
   "metadata": {},
   "outputs": [],
   "source": [
    "#check if file is tarfile"
   ]
  },
  {
   "cell_type": "code",
   "execution_count": 52,
   "id": "3a839a8a",
   "metadata": {},
   "outputs": [
    {
     "data": {
      "text/plain": [
       "True"
      ]
     },
     "execution_count": 52,
     "metadata": {},
     "output_type": "execute_result"
    }
   ],
   "source": [
    "tarfile.is_tarfile('sampletar')"
   ]
  },
  {
   "cell_type": "code",
   "execution_count": 56,
   "id": "a3669db3",
   "metadata": {},
   "outputs": [],
   "source": [
    "#get list of files in tarfile"
   ]
  },
  {
   "cell_type": "code",
   "execution_count": 54,
   "id": "dc4b40ed",
   "metadata": {},
   "outputs": [
    {
     "data": {
      "text/plain": [
       "['sample.txt']"
      ]
     },
     "execution_count": 54,
     "metadata": {},
     "output_type": "execute_result"
    }
   ],
   "source": [
    "fileobj = tarfile.open('sampletar', 'r')\n",
    "fileobj.getnames()"
   ]
  },
  {
   "cell_type": "code",
   "execution_count": 57,
   "id": "f2ab5653",
   "metadata": {},
   "outputs": [],
   "source": [
    "#extract specific file from tar file"
   ]
  },
  {
   "cell_type": "code",
   "execution_count": 60,
   "id": "1e94348e",
   "metadata": {},
   "outputs": [
    {
     "name": "stdout",
     "output_type": "stream",
     "text": [
      "b'fold command in Linux wraps each line in an -input file to fit a specified width and prints it to the standard output. \\r\\nBy default, it wraps lines at a maximum width of 80 columns but this is configurable. \\r\\nTo fold input using the fold command pass a file or standard input to the command input.\\r\\ninput input input\\r\\nlastline'\n"
     ]
    }
   ],
   "source": [
    "samp =  fileobj.extractfile('sample.txt')\n",
    "print(samp.read())"
   ]
  },
  {
   "cell_type": "code",
   "execution_count": 61,
   "id": "8a0ae73e",
   "metadata": {},
   "outputs": [],
   "source": [
    "#The extractall() method takes the name of the output folder as its argument and extracts the entire \n",
    "#content of the tar file into the folder in our working directory.\n"
   ]
  },
  {
   "cell_type": "code",
   "execution_count": 62,
   "id": "81d76af8",
   "metadata": {},
   "outputs": [],
   "source": [
    "fileobj.extractall(\"extracted_tar_folder\")"
   ]
  },
  {
   "cell_type": "code",
   "execution_count": 63,
   "id": "45ba310e",
   "metadata": {},
   "outputs": [],
   "source": [
    "fileobj.close()"
   ]
  },
  {
   "cell_type": "code",
   "execution_count": 66,
   "id": "33898b12",
   "metadata": {},
   "outputs": [],
   "source": [
    "# you want to archive a dir sampC/abc.txt to a tar.gz file, but you rather want the tree root in the archive begins \n",
    "# by a.git/ but not  sampC/abc.txt"
   ]
  },
  {
   "cell_type": "code",
   "execution_count": 70,
   "id": "a2dcbad8",
   "metadata": {},
   "outputs": [],
   "source": [
    "archive = tarfile.open(\"b.git.tar.gz\", \"w|gz\")\n",
    "archive.add(\"sampC/abc.txt\", arcname=\"a.git\")\n",
    "archive.close()"
   ]
  },
  {
   "cell_type": "code",
   "execution_count": null,
   "id": "0fe56d68",
   "metadata": {},
   "outputs": [],
   "source": []
  },
  {
   "cell_type": "code",
   "execution_count": null,
   "id": "4a19f524",
   "metadata": {},
   "outputs": [],
   "source": []
  },
  {
   "cell_type": "code",
   "execution_count": null,
   "id": "7ef8496f",
   "metadata": {},
   "outputs": [],
   "source": []
  },
  {
   "cell_type": "code",
   "execution_count": null,
   "id": "3b2471d5",
   "metadata": {},
   "outputs": [],
   "source": []
  },
  {
   "cell_type": "code",
   "execution_count": null,
   "id": "4069e2c2",
   "metadata": {},
   "outputs": [],
   "source": []
  },
  {
   "cell_type": "code",
   "execution_count": null,
   "id": "91dab696",
   "metadata": {},
   "outputs": [],
   "source": []
  },
  {
   "cell_type": "code",
   "execution_count": null,
   "id": "e5e05346",
   "metadata": {},
   "outputs": [],
   "source": []
  },
  {
   "cell_type": "code",
   "execution_count": null,
   "id": "ac17791f",
   "metadata": {},
   "outputs": [],
   "source": []
  },
  {
   "cell_type": "code",
   "execution_count": null,
   "id": "8609afea",
   "metadata": {},
   "outputs": [],
   "source": []
  }
 ],
 "metadata": {
  "kernelspec": {
   "display_name": "Python 3 (ipykernel)",
   "language": "python",
   "name": "python3"
  },
  "language_info": {
   "codemirror_mode": {
    "name": "ipython",
    "version": 3
   },
   "file_extension": ".py",
   "mimetype": "text/x-python",
   "name": "python",
   "nbconvert_exporter": "python",
   "pygments_lexer": "ipython3",
   "version": "3.10.4"
  }
 },
 "nbformat": 4,
 "nbformat_minor": 5
}
