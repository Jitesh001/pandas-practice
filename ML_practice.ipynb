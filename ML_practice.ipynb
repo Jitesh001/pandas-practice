{
 "cells": [
  {
   "cell_type": "code",
   "execution_count": 3,
   "id": "4c0bcd14",
   "metadata": {},
   "outputs": [
    {
     "ename": "SyntaxError",
     "evalue": "invalid non-printable character U+00A0 (1083521222.py, line 9)",
     "output_type": "error",
     "traceback": [
      "\u001b[1;36m  Input \u001b[1;32mIn [3]\u001b[1;36m\u001b[0m\n\u001b[1;33m    kn = KNeighborsClassifier(n_neighbors=1)\u001b[0m\n\u001b[1;37m                                            ^\u001b[0m\n\u001b[1;31mSyntaxError\u001b[0m\u001b[1;31m:\u001b[0m invalid non-printable character U+00A0\n"
     ]
    }
   ],
   "source": [
    "# KNN classification algorithm\n",
    "from sklearn.datasets import load_iris\n",
    "from sklearn.neighbors import KNeighborsClassifier\n",
    "import numpy as np\n",
    "from sklearn.model_selection import train_test_split\n",
    "\n",
    "iris_dataset=load_iris()\n",
    "A_train, A_test, B_train, B_test = train_test_split(iris_dataset[\"data\"], iris_dataset[\"target\"], random_state=0)\n",
    "kn = KNeighborsClassifier(n_neighbors=1) \n",
    "kn.fit(A_train, B_train)\n",
    "\n",
    "A_new = np.array([[8, 2.5, 1, 1.2]])\n",
    "prediction = kn.predict(A_new)\n",
    "print(\"Predicted target value: {}\\n\".format(prediction))\n",
    "print(\"Predicted feature name: {}\\n\".format(iris_dataset[\"target_names\"][prediction]))\n",
    "print(\"Test score: {:.2f}\".format(kn.score(A_test, B_test)))\n"
   ]
  },
  {
   "cell_type": "code",
   "execution_count": 4,
   "id": "1e0f06d3",
   "metadata": {},
   "outputs": [],
   "source": [
    "from sklearn import datasets\n",
    "from sklearn.metrics import confusion_matrix\n",
    "from sklearn.model_selection import train_test_split\n",
    "# Stacking the Iris dataset\n",
    "iris = datasets.load_iris()\n",
    "# A -> features and B -> label\n",
    "A = iris.data\n",
    "B = iris.target\n",
    "# Breaking A and B into train and test data\n",
    "A_train, A_test, B_train, B_test = train_test_split(A, B, random_state = 0)\n",
    "# Training a linear SVM classifier\n",
    "from sklearn.svm import SVC\n",
    "svm_model_linear = SVC(kernel = 'linear', C = 1).fit(A_train, B_train)\n",
    "svm_predictions = svm_model_linear.predict(A_test)\n",
    "# Model accuracy for A_test\n",
    "accuracy = svm_model_linear.score(A_test, B_test)\n",
    "# Creating a confusion matrix\n",
    "cm = confusion_matrix(B_test, svm_predictions)"
   ]
  },
  {
   "cell_type": "code",
   "execution_count": 6,
   "id": "6a052dc1",
   "metadata": {},
   "outputs": [
    {
     "name": "stdout",
     "output_type": "stream",
     "text": [
      "[[13  0  0]\n",
      " [ 0 15  1]\n",
      " [ 0  0  9]]\n"
     ]
    }
   ],
   "source": [
    "print(cm)"
   ]
  },
  {
   "cell_type": "code",
   "execution_count": 9,
   "id": "979c2238",
   "metadata": {},
   "outputs": [
    {
     "ename": "AttributeError",
     "evalue": "'dict' object has no attribute 'get_values'",
     "output_type": "error",
     "traceback": [
      "\u001b[1;31m---------------------------------------------------------------------------\u001b[0m",
      "\u001b[1;31mAttributeError\u001b[0m                            Traceback (most recent call last)",
      "Input \u001b[1;32mIn [9]\u001b[0m, in \u001b[0;36m<cell line: 2>\u001b[1;34m()\u001b[0m\n\u001b[0;32m      1\u001b[0m dic \u001b[38;5;241m=\u001b[39m {\u001b[38;5;241m1\u001b[39m:\u001b[38;5;241m2\u001b[39m, \u001b[38;5;241m3\u001b[39m:\u001b[38;5;241m4\u001b[39m}\n\u001b[1;32m----> 2\u001b[0m \u001b[38;5;28mprint\u001b[39m(\u001b[43mdic\u001b[49m\u001b[38;5;241;43m.\u001b[39;49m\u001b[43mget_values\u001b[49m())\n",
      "\u001b[1;31mAttributeError\u001b[0m: 'dict' object has no attribute 'get_values'"
     ]
    }
   ],
   "source": [
    "dic = {1:2, 3:4}\n",
    "print(dic.get_values())"
   ]
  },
  {
   "cell_type": "code",
   "execution_count": null,
   "id": "680850f7",
   "metadata": {},
   "outputs": [],
   "source": []
  },
  {
   "cell_type": "code",
   "execution_count": 5,
   "id": "fd12fb21",
   "metadata": {},
   "outputs": [
    {
     "ename": "SyntaxError",
     "evalue": "invalid non-printable character U+00A0 (4008212744.py, line 7)",
     "output_type": "error",
     "traceback": [
      "\u001b[1;36m  Input \u001b[1;32mIn [5]\u001b[1;36m\u001b[0m\n\u001b[1;33m    \u001b[0m\n\u001b[1;37m    ^\u001b[0m\n\u001b[1;31mSyntaxError\u001b[0m\u001b[1;31m:\u001b[0m invalid non-printable character U+00A0\n"
     ]
    }
   ],
   "source": [
    "# import pandas as pd \n",
    "# import numpy as np \n",
    "# import matplotlib.pyplot as plt \n",
    "# dataset = pd.read_csv('...\\\\User_Data.csv')\n",
    "# # input \n",
    "# x = dataset.iloc[:, [2, 3]].values \n",
    "  \n",
    "# # output \n",
    "# y = dataset.iloc[:, 4].values \n",
    "# plitting the dataset to train and test. 75% of data is used for training the model and 25% of it is used to test the performance of our model.\n",
    "# from sklearn.cross_validation import train_test_split \n",
    "# xtrain, xtest, ytrain, ytest = train_test_split( \n",
    "#         x, y, test_size = 0.25, random_state = 0) \n",
    "\n",
    "# from sklearn.preprocessing import StandardScaler \n",
    "# sc_x = StandardScaler() \n",
    "# xtrain = sc_x.fit_transform(xtrain)  \n",
    "# xtest = sc_x.transform(xtest) \n",
    "  \n",
    "# print (xtrain[0:10, :]) \n",
    "# from sklearn.linear_model import LogisticRegression \n",
    "# classifier = LogisticRegression(random_state = 0) \n",
    "# classifier.fit(xtrain, ytrain) \n",
    "\n",
    "# y_pred = classifier.predict(xtest)\n",
    "\n",
    "# from sklearn.metrics import confusion_matrix \n",
    "# cm = confusion_matrix(ytest, y_pred) \n",
    "  \n",
    "# print (\"Confusion Matrix : \\n\", cm)\n",
    "\n",
    "# from sklearn.metrics import accuracy_score \n",
    "# print (\"Accuracy : \", accuracy_score(ytest, y_pred)) \n"
   ]
  },
  {
   "cell_type": "code",
   "execution_count": null,
   "id": "0b5fa6e4",
   "metadata": {},
   "outputs": [],
   "source": []
  }
 ],
 "metadata": {
  "kernelspec": {
   "display_name": "Python 3 (ipykernel)",
   "language": "python",
   "name": "python3"
  },
  "language_info": {
   "codemirror_mode": {
    "name": "ipython",
    "version": 3
   },
   "file_extension": ".py",
   "mimetype": "text/x-python",
   "name": "python",
   "nbconvert_exporter": "python",
   "pygments_lexer": "ipython3",
   "version": "3.10.4"
  }
 },
 "nbformat": 4,
 "nbformat_minor": 5
}
