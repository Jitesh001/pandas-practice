{
 "cells": [
  {
   "cell_type": "code",
   "execution_count": 1,
   "id": "a6c569c4",
   "metadata": {},
   "outputs": [],
   "source": [
    "#file handling in python"
   ]
  },
  {
   "cell_type": "code",
   "execution_count": 16,
   "id": "f8f4dce7",
   "metadata": {},
   "outputs": [
    {
     "name": "stdout",
     "output_type": "stream",
     "text": [
      "<class '_io.TextIOWrapper'>\n"
     ]
    }
   ],
   "source": [
    "file = open('sample.txt', 'w')\n",
    "print(type(file))"
   ]
  },
  {
   "cell_type": "code",
   "execution_count": 17,
   "id": "15ca52f7",
   "metadata": {},
   "outputs": [
    {
     "data": {
      "text/plain": [
       "56"
      ]
     },
     "execution_count": 17,
     "metadata": {},
     "output_type": "execute_result"
    }
   ],
   "source": [
    "file.write(\"Harry Potter is a series of seven fantasy novels written\")"
   ]
  },
  {
   "cell_type": "code",
   "execution_count": 18,
   "id": "c5e1a82e",
   "metadata": {},
   "outputs": [
    {
     "name": "stdout",
     "output_type": "stream",
     "text": [
      "<_io.TextIOWrapper name='sample.txt' mode='w' encoding='cp65001'>\n"
     ]
    }
   ],
   "source": [
    "print(file)"
   ]
  },
  {
   "cell_type": "code",
   "execution_count": 19,
   "id": "8bf5472a",
   "metadata": {},
   "outputs": [
    {
     "ename": "UnsupportedOperation",
     "evalue": "not readable",
     "output_type": "error",
     "traceback": [
      "\u001b[1;31m---------------------------------------------------------------------------\u001b[0m",
      "\u001b[1;31mUnsupportedOperation\u001b[0m                      Traceback (most recent call last)",
      "Input \u001b[1;32mIn [19]\u001b[0m, in \u001b[0;36m<cell line: 1>\u001b[1;34m()\u001b[0m\n\u001b[1;32m----> 1\u001b[0m \u001b[38;5;28mprint\u001b[39m(\u001b[43mfile\u001b[49m\u001b[38;5;241;43m.\u001b[39;49m\u001b[43mread\u001b[49m\u001b[43m(\u001b[49m\u001b[43m)\u001b[49m)\n",
      "\u001b[1;31mUnsupportedOperation\u001b[0m: not readable"
     ]
    }
   ],
   "source": [
    "print(file.read())"
   ]
  },
  {
   "cell_type": "code",
   "execution_count": 20,
   "id": "ac4d67ca",
   "metadata": {},
   "outputs": [],
   "source": [
    "file.close()"
   ]
  },
  {
   "cell_type": "code",
   "execution_count": 21,
   "id": "d887eb26",
   "metadata": {},
   "outputs": [],
   "source": [
    "f1 = open('raw.txt','w') #write"
   ]
  },
  {
   "cell_type": "code",
   "execution_count": 22,
   "id": "990bdea6",
   "metadata": {},
   "outputs": [
    {
     "data": {
      "text/plain": [
       "5"
      ]
     },
     "execution_count": 22,
     "metadata": {},
     "output_type": "execute_result"
    }
   ],
   "source": [
    "f1.write(\"something\")\n",
    "f1.write(\"hello\")"
   ]
  },
  {
   "cell_type": "code",
   "execution_count": 23,
   "id": "5b370141",
   "metadata": {},
   "outputs": [
    {
     "data": {
      "text/plain": [
       "5"
      ]
     },
     "execution_count": 23,
     "metadata": {},
     "output_type": "execute_result"
    }
   ],
   "source": [
    "f1 = open('raw.txt', 'a')\n",
    "f1.write('ready')"
   ]
  },
  {
   "cell_type": "code",
   "execution_count": 34,
   "id": "77a28565",
   "metadata": {},
   "outputs": [],
   "source": [
    "f1 = open('raw.txt','r') #write"
   ]
  },
  {
   "cell_type": "code",
   "execution_count": 35,
   "id": "9a379cb2",
   "metadata": {},
   "outputs": [
    {
     "name": "stdout",
     "output_type": "stream",
     "text": [
      "1\n",
      "somethinghelloready\n"
     ]
    }
   ],
   "source": [
    "for data in f1:\n",
    "    print(1)\n",
    "    print(data)"
   ]
  },
  {
   "cell_type": "code",
   "execution_count": 36,
   "id": "ad4137f1",
   "metadata": {},
   "outputs": [],
   "source": [
    "f1.close()"
   ]
  },
  {
   "cell_type": "code",
   "execution_count": 37,
   "id": "470deb0d",
   "metadata": {},
   "outputs": [],
   "source": [
    "#oop"
   ]
  },
  {
   "cell_type": "code",
   "execution_count": 38,
   "id": "1f5c6878",
   "metadata": {},
   "outputs": [
    {
     "name": "stdout",
     "output_type": "stream",
     "text": [
      "15GB 8GBRam\n",
      "15GB 8GBRam\n"
     ]
    }
   ],
   "source": [
    "class Computer:\n",
    "    \n",
    "    def config(self):\n",
    "        print('15GB', '8GBRam')\n",
    "        \n",
    "comp1 = Computer()\n",
    "\n",
    "Computer.config(comp1)\n",
    "comp1.config()"
   ]
  },
  {
   "cell_type": "code",
   "execution_count": 39,
   "id": "75b45adc",
   "metadata": {},
   "outputs": [
    {
     "name": "stdout",
     "output_type": "stream",
     "text": [
      "I am computer\n",
      "i5\n",
      "8\n"
     ]
    }
   ],
   "source": [
    "class Computer:\n",
    "    \n",
    "    def __init__(self, cpu, ram):\n",
    "        self.cpu = cpu\n",
    "        self.ram = ram\n",
    "        \n",
    "    def config(self):\n",
    "        print(\"I am computer\")\n",
    "        \n",
    "comp1 = Computer('i5', 8)\n",
    "\n",
    "comp1.config()\n",
    "print(comp1.cpu)\n",
    "print(comp1.ram)"
   ]
  },
  {
   "cell_type": "code",
   "execution_count": 40,
   "id": "852e24bb",
   "metadata": {},
   "outputs": [],
   "source": [
    "#unit testing"
   ]
  },
  {
   "cell_type": "code",
   "execution_count": 22,
   "id": "c45acad3",
   "metadata": {},
   "outputs": [],
   "source": [
    "#setUp and tearDown functs will be called start and end of the test functions to make sure the prerequsites\n",
    "#https://docs.python.org/3/library/unittest.html"
   ]
  },
  {
   "cell_type": "code",
   "execution_count": 24,
   "id": "31993c38",
   "metadata": {},
   "outputs": [
    {
     "name": "stderr",
     "output_type": "stream",
     "text": [
      "..F.......\n",
      "======================================================================\n",
      "FAIL: test1 (__main__.testClass)\n",
      "----------------------------------------------------------------------\n",
      "Traceback (most recent call last):\n",
      "  File \"C:\\Users\\Jitesh\\AppData\\Local\\Temp\\ipykernel_27984\\3118950161.py\", line 22, in test1\n",
      "    self.assertEqual(result, 32)\n",
      "AssertionError: 30 != 32\n",
      "\n",
      "----------------------------------------------------------------------\n",
      "Ran 10 tests in 0.013s\n",
      "\n",
      "FAILED (failures=1)\n"
     ]
    },
    {
     "name": "stdout",
     "output_type": "stream",
     "text": [
      "2\n",
      "1\n",
      "set up called\n",
      "test1 is called\n",
      "Tear down called\n",
      "set up called\n",
      "test2 is called\n",
      "Tear down called\n",
      "set up called\n",
      "test1 is called\n",
      "Tear down called\n",
      "set up called\n",
      "test2 is called\n",
      "Tear down called\n",
      "Hello\n",
      "World\n"
     ]
    }
   ],
   "source": [
    "import unittest\n",
    "def sum(a, b):\n",
    "    return a+b\n",
    "    \n",
    "class testClass(unittest.TestCase):\n",
    "    \n",
    "    def setUp(self):\n",
    "        print('set up called')\n",
    "        #arrange\n",
    "        self.a=10\n",
    "        self.b=20\n",
    "        \n",
    "    def tearDown(self):\n",
    "        print('Tear down called')\n",
    "        \n",
    "    #this will fail\n",
    "    def test1(self):\n",
    "        print('test1 is called')\n",
    "        #act\n",
    "        result = sum(self.a, self.b)\n",
    "        #assert\n",
    "        self.assertEqual(result, 32)\n",
    "        \n",
    "    #this will succeed\n",
    "    def test2(self):\n",
    "        print('test2 is called')\n",
    "        #act\n",
    "        result = sum(self.b, self.a)\n",
    "        #assert\n",
    "        self.assertEqual(result, 30)\n",
    "\n",
    "    \n",
    "if __name__ == '__main__':\n",
    "    unittest.main(argv=['first-arg-is-ignored'], exit=False)"
   ]
  },
  {
   "cell_type": "code",
   "execution_count": 26,
   "id": "284dad0d",
   "metadata": {},
   "outputs": [
    {
     "name": "stderr",
     "output_type": "stream",
     "text": [
      ".........\n",
      "----------------------------------------------------------------------\n",
      "Ran 9 tests in 0.009s\n",
      "\n",
      "OK\n"
     ]
    },
    {
     "name": "stdout",
     "output_type": "stream",
     "text": [
      "2\n",
      "1\n",
      "test1 is called\n",
      "set up called\n",
      "test1 is called\n",
      "Tear down called\n",
      "set up called\n",
      "test2 is called\n",
      "Tear down called\n",
      "Hello\n",
      "World\n"
     ]
    }
   ],
   "source": [
    "import unittest\n",
    "def divide(a, b):\n",
    "    if b==0:\n",
    "        raise ValueError('cant divide by 0')\n",
    "    return a/b\n",
    "    \n",
    "class testClass(unittest.TestCase):\n",
    "\n",
    "    #this will fail\n",
    "    def test1(self):\n",
    "        print('test1 is called')\n",
    "        self.assertEqual(divide(20,10), 2)\n",
    "        #self.assertRaises(ValueError, divide, 2, 0)\n",
    "        with self.assertRaises(ValueError):\n",
    "            divide(2,0)\n",
    "    \n",
    "if __name__ == '__main__':\n",
    "    unittest.main(argv=['first-arg-is-ignored'], exit=False)"
   ]
  },
  {
   "cell_type": "code",
   "execution_count": 27,
   "id": "67ed993f",
   "metadata": {},
   "outputs": [],
   "source": [
    "import unittest\n",
    "def divide(a, b):\n",
    "    if b==0:\n",
    "        raise ValueError('cant divide by 0')\n",
    "    return a/b\n",
    "    \n",
    "class testClass(unittest.TestCase):\n",
    "    @classmethod\n",
    "    def setUpClass(cls):\n",
    "        print('set up class...')\n",
    "    \n",
    "    @classmethod\n",
    "    def tearDownClass(cls):\n",
    "        print('tear down class...')\n",
    "        \n",
    "    def setUp(self):\n",
    "        print('set up method')\n",
    "        self.a=10\n",
    "        self.b=5\n",
    "    \n",
    "    def tearDown(self):\n",
    "        print('tear down method') \n",
    "\n",
    "    def test1(self):\n",
    "        print('test1 is called')\n",
    "        self.assertEqual(divide(self.a,self.b), 2)\n",
    "        #self.assertRaises(ValueError, divide, 2, 0)\n",
    "        with self.assertRaises(ValueError):\n",
    "            divide(2,0)\n",
    "    \n",
    "if __name__ == '__main__':\n",
    "    unittest.main()"
   ]
  },
  {
   "cell_type": "code",
   "execution_count": 29,
   "id": "a07c060c",
   "metadata": {},
   "outputs": [],
   "source": [
    "#Asynchronous REST API integrations and error handling"
   ]
  },
  {
   "cell_type": "code",
   "execution_count": 28,
   "id": "f4383a89",
   "metadata": {},
   "outputs": [],
   "source": []
  },
  {
   "cell_type": "code",
   "execution_count": 32,
   "id": "a2b86c6f",
   "metadata": {},
   "outputs": [
    {
     "ename": "RuntimeError",
     "evalue": "asyncio.run() cannot be called from a running event loop",
     "output_type": "error",
     "traceback": [
      "\u001b[1;31m---------------------------------------------------------------------------\u001b[0m",
      "\u001b[1;31mRuntimeError\u001b[0m                              Traceback (most recent call last)",
      "Input \u001b[1;32mIn [32]\u001b[0m, in \u001b[0;36m<cell line: 8>\u001b[1;34m()\u001b[0m\n\u001b[0;32m      5\u001b[0m     \u001b[38;5;28mprint\u001b[39m(\u001b[38;5;124m'\u001b[39m\u001b[38;5;124mstuff\u001b[39m\u001b[38;5;124m'\u001b[39m)\n\u001b[0;32m      7\u001b[0m \u001b[38;5;66;03m#create event loop to run method\u001b[39;00m\n\u001b[1;32m----> 8\u001b[0m \u001b[43masyncio\u001b[49m\u001b[38;5;241;43m.\u001b[39;49m\u001b[43mrun\u001b[49m\u001b[43m(\u001b[49m\u001b[43mmethod1\u001b[49m\u001b[43m(\u001b[49m\u001b[43m)\u001b[49m\u001b[43m)\u001b[49m\n",
      "File \u001b[1;32m~\\AppData\\Local\\Programs\\Python\\Python310\\lib\\asyncio\\runners.py:33\u001b[0m, in \u001b[0;36mrun\u001b[1;34m(main, debug)\u001b[0m\n\u001b[0;32m      9\u001b[0m \u001b[38;5;124;03m\"\"\"Execute the coroutine and return the result.\u001b[39;00m\n\u001b[0;32m     10\u001b[0m \n\u001b[0;32m     11\u001b[0m \u001b[38;5;124;03mThis function runs the passed coroutine, taking care of\u001b[39;00m\n\u001b[1;32m   (...)\u001b[0m\n\u001b[0;32m     30\u001b[0m \u001b[38;5;124;03m    asyncio.run(main())\u001b[39;00m\n\u001b[0;32m     31\u001b[0m \u001b[38;5;124;03m\"\"\"\u001b[39;00m\n\u001b[0;32m     32\u001b[0m \u001b[38;5;28;01mif\u001b[39;00m events\u001b[38;5;241m.\u001b[39m_get_running_loop() \u001b[38;5;129;01mis\u001b[39;00m \u001b[38;5;129;01mnot\u001b[39;00m \u001b[38;5;28;01mNone\u001b[39;00m:\n\u001b[1;32m---> 33\u001b[0m     \u001b[38;5;28;01mraise\u001b[39;00m \u001b[38;5;167;01mRuntimeError\u001b[39;00m(\n\u001b[0;32m     34\u001b[0m         \u001b[38;5;124m\"\u001b[39m\u001b[38;5;124masyncio.run() cannot be called from a running event loop\u001b[39m\u001b[38;5;124m\"\u001b[39m)\n\u001b[0;32m     36\u001b[0m \u001b[38;5;28;01mif\u001b[39;00m \u001b[38;5;129;01mnot\u001b[39;00m coroutines\u001b[38;5;241m.\u001b[39miscoroutine(main):\n\u001b[0;32m     37\u001b[0m     \u001b[38;5;28;01mraise\u001b[39;00m \u001b[38;5;167;01mValueError\u001b[39;00m(\u001b[38;5;124m\"\u001b[39m\u001b[38;5;124ma coroutine was expected, got \u001b[39m\u001b[38;5;132;01m{!r}\u001b[39;00m\u001b[38;5;124m\"\u001b[39m\u001b[38;5;241m.\u001b[39mformat(main))\n",
      "\u001b[1;31mRuntimeError\u001b[0m: asyncio.run() cannot be called from a running event loop"
     ]
    }
   ],
   "source": [
    "import asyncio\n",
    "\n",
    "#async method returns coroutine object\n",
    "async def method1():\n",
    "    print('stuff')\n",
    "\n",
    "#create event loop to run method\n",
    "asyncio.run(method1())"
   ]
  },
  {
   "cell_type": "code",
   "execution_count": 34,
   "id": "16dfff31",
   "metadata": {},
   "outputs": [
    {
     "ename": "RuntimeError",
     "evalue": "asyncio.run() cannot be called from a running event loop",
     "output_type": "error",
     "traceback": [
      "\u001b[1;31m---------------------------------------------------------------------------\u001b[0m",
      "\u001b[1;31mRuntimeError\u001b[0m                              Traceback (most recent call last)",
      "Input \u001b[1;32mIn [34]\u001b[0m, in \u001b[0;36m<cell line: 14>\u001b[1;34m()\u001b[0m\n\u001b[0;32m     11\u001b[0m     \u001b[38;5;28;01mawait\u001b[39;00m asyncio\u001b[38;5;241m.\u001b[39msleep(\u001b[38;5;241m1\u001b[39m) \u001b[38;5;66;03m#wait for 1 sec\u001b[39;00m\n\u001b[0;32m     13\u001b[0m \u001b[38;5;66;03m#create event loop to run method\u001b[39;00m\n\u001b[1;32m---> 14\u001b[0m \u001b[43masyncio\u001b[49m\u001b[38;5;241;43m.\u001b[39;49m\u001b[43mrun\u001b[49m\u001b[43m(\u001b[49m\u001b[43mmethod1\u001b[49m\u001b[43m(\u001b[49m\u001b[43m)\u001b[49m\u001b[43m)\u001b[49m\n",
      "File \u001b[1;32m~\\AppData\\Local\\Programs\\Python\\Python310\\lib\\asyncio\\runners.py:33\u001b[0m, in \u001b[0;36mrun\u001b[1;34m(main, debug)\u001b[0m\n\u001b[0;32m      9\u001b[0m \u001b[38;5;124;03m\"\"\"Execute the coroutine and return the result.\u001b[39;00m\n\u001b[0;32m     10\u001b[0m \n\u001b[0;32m     11\u001b[0m \u001b[38;5;124;03mThis function runs the passed coroutine, taking care of\u001b[39;00m\n\u001b[1;32m   (...)\u001b[0m\n\u001b[0;32m     30\u001b[0m \u001b[38;5;124;03m    asyncio.run(main())\u001b[39;00m\n\u001b[0;32m     31\u001b[0m \u001b[38;5;124;03m\"\"\"\u001b[39;00m\n\u001b[0;32m     32\u001b[0m \u001b[38;5;28;01mif\u001b[39;00m events\u001b[38;5;241m.\u001b[39m_get_running_loop() \u001b[38;5;129;01mis\u001b[39;00m \u001b[38;5;129;01mnot\u001b[39;00m \u001b[38;5;28;01mNone\u001b[39;00m:\n\u001b[1;32m---> 33\u001b[0m     \u001b[38;5;28;01mraise\u001b[39;00m \u001b[38;5;167;01mRuntimeError\u001b[39;00m(\n\u001b[0;32m     34\u001b[0m         \u001b[38;5;124m\"\u001b[39m\u001b[38;5;124masyncio.run() cannot be called from a running event loop\u001b[39m\u001b[38;5;124m\"\u001b[39m)\n\u001b[0;32m     36\u001b[0m \u001b[38;5;28;01mif\u001b[39;00m \u001b[38;5;129;01mnot\u001b[39;00m coroutines\u001b[38;5;241m.\u001b[39miscoroutine(main):\n\u001b[0;32m     37\u001b[0m     \u001b[38;5;28;01mraise\u001b[39;00m \u001b[38;5;167;01mValueError\u001b[39;00m(\u001b[38;5;124m\"\u001b[39m\u001b[38;5;124ma coroutine was expected, got \u001b[39m\u001b[38;5;132;01m{!r}\u001b[39;00m\u001b[38;5;124m\"\u001b[39m\u001b[38;5;241m.\u001b[39mformat(main))\n",
      "\u001b[1;31mRuntimeError\u001b[0m: asyncio.run() cannot be called from a running event loop"
     ]
    }
   ],
   "source": [
    "import asyncio\n",
    "\n",
    "#async method returns coroutine object\n",
    "async def method1():\n",
    "    print('method1 running')\n",
    "    await test()\n",
    "    \n",
    "\n",
    "async def test():\n",
    "    print('testing')\n",
    "    await asyncio.sleep(1) #wait for 1 sec\n",
    "    \n",
    "#create event loop to run method\n",
    "asyncio.run(method1())"
   ]
  },
  {
   "cell_type": "code",
   "execution_count": 35,
   "id": "c8922242",
   "metadata": {},
   "outputs": [],
   "source": [
    "import asyncio\n",
    "\n",
    "async def fetch_data():\n",
    "    print('fetching data')\n",
    "    await asyncio.sleep(2)\n",
    "    print('done fetching')\n",
    "    return {'data':1}\n",
    "    \n",
    "async def test_func():\n",
    "    for i in range(10):\n",
    "        print(i)\n",
    "        await asyncio.sleep(0.5)\n",
    "    \n",
    "async def main():\n",
    "    task1 = asyncio.create_task(fetch_data())\n",
    "    task2 = asyncio.create_task(test_func())\n",
    "    await task2\n",
    "    val = await task1\n",
    "    print(val)\n",
    "    \n",
    "    \n",
    "asyncio.run(main())"
   ]
  },
  {
   "cell_type": "code",
   "execution_count": 38,
   "id": "eedc27f1",
   "metadata": {},
   "outputs": [],
   "source": [
    "#Multithreading\n",
    "#threads are python objects of threading.Thread() class"
   ]
  },
  {
   "cell_type": "code",
   "execution_count": 45,
   "id": "e7eec0d0",
   "metadata": {},
   "outputs": [
    {
     "name": "stdout",
     "output_type": "stream",
     "text": [
      "<_MainThread(MainThread, started 25224)>\n"
     ]
    }
   ],
   "source": [
    "import threading\n",
    "print(threading.current_thread())"
   ]
  },
  {
   "cell_type": "code",
   "execution_count": 46,
   "id": "7bfc3736",
   "metadata": {},
   "outputs": [],
   "source": [
    "#2 ways to create thread\n",
    "#1. using thread class\n",
    "#2. extending thread class"
   ]
  },
  {
   "cell_type": "code",
   "execution_count": 60,
   "id": "3c64e4c9",
   "metadata": {},
   "outputs": [],
   "source": [
    "from threading import Thread, current_thread"
   ]
  },
  {
   "cell_type": "code",
   "execution_count": 65,
   "id": "0d963533",
   "metadata": {},
   "outputs": [
    {
     "name": "stdout",
     "output_type": "stream",
     "text": [
      "Thread-17 (func1)Saheb\n",
      "Saheb\n",
      "Saheb\n",
      "Saheb\n",
      "Saheb\n",
      "MainThread\n",
      "\n",
      "Jitesh\n",
      "Jitesh\n",
      "Jitesh\n",
      "Jitesh\n",
      "Jitesh\n"
     ]
    }
   ],
   "source": [
    "def func1(n):\n",
    "    print(current_thread().name)\n",
    "    for i in range(n):\n",
    "        print('Jitesh')\n",
    "\n",
    "task1 = Thread(target=func1, args=(5,))\n",
    "task1.start()\n",
    "\n",
    "for i in range(5):\n",
    "    print('Saheb')\n",
    "print(current_thread().name)"
   ]
  },
  {
   "cell_type": "code",
   "execution_count": 67,
   "id": "c9b699cb",
   "metadata": {},
   "outputs": [
    {
     "name": "stdout",
     "output_type": "stream",
     "text": [
      "thread\n",
      "thread\n",
      "thread\n",
      "thread\n",
      "thread\n",
      "thread2\n",
      "thread2\n",
      "thread2\n",
      "thread2\n",
      "thread2\n",
      "thread3\n",
      "thread3\n",
      "thread3\n",
      "thread3\n",
      "thread3\n"
     ]
    }
   ],
   "source": [
    "class example:\n",
    "    \n",
    "    def func(self, n):\n",
    "        for i in range(n):\n",
    "            print('thread')\n",
    "    \n",
    "    @classmethod\n",
    "    def func2(self, n):\n",
    "        for i in range(n):\n",
    "            print('thread2')\n",
    "    \n",
    "    @staticmethod\n",
    "    def func3(n):\n",
    "        for i in range(n):\n",
    "            print('thread3')\n",
    "    \n",
    "e1 = example()\n",
    "t1 = Thread(target=e1.func, args=(5,))\n",
    "t2 = Thread(target=example.func2, args=(5,))\n",
    "t3 = Thread(target=e1.func3, args=(5,))\n",
    "\n",
    "t1.start()\n",
    "t2.start()\n",
    "t3.start()"
   ]
  },
  {
   "cell_type": "code",
   "execution_count": 68,
   "id": "80d19db3",
   "metadata": {},
   "outputs": [],
   "source": [
    "#2nd way"
   ]
  },
  {
   "cell_type": "code",
   "execution_count": 73,
   "id": "edab53d5",
   "metadata": {},
   "outputs": [
    {
     "name": "stdout",
     "output_type": "stream",
     "text": [
      "constructor called\n",
      "thread\n",
      "thread\n",
      "thread\n",
      "thread\n",
      "thread\n"
     ]
    }
   ],
   "source": [
    "class myclass(Thread):\n",
    "    \n",
    "    def __init__(self,n):\n",
    "        self.n = n\n",
    "        print('constructor called')\n",
    "        Thread.__init__(self)\n",
    "        \n",
    "    def myfunc(self):\n",
    "        for i in range(self.n):\n",
    "            print('thread')\n",
    "    \n",
    "    #inheristed from Thread class\n",
    "    def run(self):\n",
    "        self.myfunc()\n",
    "        \n",
    "t1 = myclass(5)\n",
    "t1.start()\n",
    "        "
   ]
  },
  {
   "cell_type": "code",
   "execution_count": null,
   "id": "cbcae6ce",
   "metadata": {},
   "outputs": [],
   "source": []
  },
  {
   "cell_type": "code",
   "execution_count": 74,
   "id": "9ac1bee6",
   "metadata": {},
   "outputs": [],
   "source": [
    "#Python Regex"
   ]
  },
  {
   "cell_type": "code",
   "execution_count": 41,
   "id": "b86a7b7a",
   "metadata": {},
   "outputs": [],
   "source": [
    "import re"
   ]
  },
  {
   "cell_type": "code",
   "execution_count": 42,
   "id": "0298cc20",
   "metadata": {},
   "outputs": [],
   "source": [
    "txt = \"The rain in Spain\""
   ]
  },
  {
   "cell_type": "code",
   "execution_count": 43,
   "id": "5f3f4d80",
   "metadata": {},
   "outputs": [
    {
     "name": "stdout",
     "output_type": "stream",
     "text": [
      "<re.Match object; span=(0, 17), match='The rain in Spain'>\n"
     ]
    }
   ],
   "source": [
    "x = re.search(\"^The.*n$\", txt)\n",
    "print(x)"
   ]
  },
  {
   "cell_type": "code",
   "execution_count": 44,
   "id": "a729b22f",
   "metadata": {},
   "outputs": [
    {
     "name": "stdout",
     "output_type": "stream",
     "text": [
      "['The']\n"
     ]
    }
   ],
   "source": [
    "x = re.findall(r'T[a-z]{2}', txt)\n",
    "print(x)"
   ]
  },
  {
   "cell_type": "code",
   "execution_count": 45,
   "id": "db3b6136",
   "metadata": {},
   "outputs": [
    {
     "name": "stdout",
     "output_type": "stream",
     "text": [
      "['rai', 'Spai']\n"
     ]
    }
   ],
   "source": [
    "x = re.findall(\"[A-Za-z]*ai\", txt)\n",
    "print(x)"
   ]
  },
  {
   "cell_type": "code",
   "execution_count": 49,
   "id": "baa1cc45",
   "metadata": {},
   "outputs": [
    {
     "name": "stdout",
     "output_type": "stream",
     "text": [
      "The first white-space character is located in position: 3 ending at 4\n"
     ]
    }
   ],
   "source": [
    "x = re.search(\"\\s\", txt)\n",
    "print(\"The first white-space character is located in position:\", x.start(), 'ending at', x.end())"
   ]
  },
  {
   "cell_type": "code",
   "execution_count": 50,
   "id": "d312a743",
   "metadata": {},
   "outputs": [
    {
     "name": "stdout",
     "output_type": "stream",
     "text": [
      "['The', 'rain', 'in', 'Spain']\n"
     ]
    }
   ],
   "source": [
    "x = re.split(\"\\s\", txt)\n",
    "print(x)"
   ]
  },
  {
   "cell_type": "code",
   "execution_count": 93,
   "id": "c06ec1d9",
   "metadata": {},
   "outputs": [
    {
     "name": "stdout",
     "output_type": "stream",
     "text": [
      "The9rain9in9Spain\n"
     ]
    }
   ],
   "source": [
    "x = re.sub(\"\\s\", \"9\", txt)\n",
    "print(x)"
   ]
  },
  {
   "cell_type": "code",
   "execution_count": 95,
   "id": "39f79ce7",
   "metadata": {},
   "outputs": [
    {
     "name": "stdout",
     "output_type": "stream",
     "text": [
      "The9rain in Spain\n"
     ]
    }
   ],
   "source": [
    "x = re.sub(\"\\s\", \"9\", txt, 1) #replace 1st occurance only\n",
    "print(x)"
   ]
  },
  {
   "cell_type": "code",
   "execution_count": 96,
   "id": "0bab4b1b",
   "metadata": {},
   "outputs": [],
   "source": [
    "# rest api python"
   ]
  },
  {
   "cell_type": "code",
   "execution_count": 51,
   "id": "0ce97a80",
   "metadata": {},
   "outputs": [],
   "source": [
    "import requests\n",
    "\n",
    "base_url = 'https://restcountries.com/v3.1/all'\n",
    "\n",
    "resp = requests.get(base_url)\n",
    "data = resp.json()"
   ]
  },
  {
   "cell_type": "code",
   "execution_count": 113,
   "id": "0f877a6f",
   "metadata": {},
   "outputs": [
    {
     "name": "stdout",
     "output_type": "stream",
     "text": [
      "{'name': {'common': 'India', 'official': 'Republic of India', 'nativeName': {'eng': {'official': 'Republic of India', 'common': 'India'}, 'hin': {'official': 'भारत गणराज्य', 'common': 'भारत'}, 'tam': {'official': 'இந்தியக் குடியரசு', 'common': 'இந்தியா'}}}, 'tld': ['.in'], 'cca2': 'IN', 'ccn3': '356', 'cca3': 'IND', 'cioc': 'IND', 'independent': True, 'status': 'officially-assigned', 'unMember': True, 'currencies': {'INR': {'name': 'Indian rupee', 'symbol': '₹'}}, 'idd': {'root': '+9', 'suffixes': ['1']}, 'capital': ['New Delhi'], 'altSpellings': ['IN', 'Bhārat', 'Republic of India', 'Bharat Ganrajya', 'இந்தியா'], 'region': 'Asia', 'subregion': 'Southern Asia', 'languages': {'eng': 'English', 'hin': 'Hindi', 'tam': 'Tamil'}, 'translations': {'ara': {'official': 'جمهورية الهند', 'common': 'الهند'}, 'bre': {'official': 'Republik India', 'common': 'India'}, 'ces': {'official': 'Indická republika', 'common': 'Indie'}, 'cym': {'official': 'Republic of India', 'common': 'India'}, 'deu': {'official': 'Republik Indien', 'common': 'Indien'}, 'est': {'official': 'India Vabariik', 'common': 'India'}, 'fin': {'official': 'Intian tasavalta', 'common': 'Intia'}, 'fra': {'official': \"République de l'Inde\", 'common': 'Inde'}, 'hrv': {'official': 'Republika Indija', 'common': 'Indija'}, 'hun': {'official': 'Indiai Köztársaság', 'common': 'India'}, 'ita': {'official': \"Repubblica dell'India\", 'common': 'India'}, 'jpn': {'official': 'インド共和国', 'common': 'インド'}, 'kor': {'official': '인도 공화국', 'common': '인도'}, 'nld': {'official': 'Republiek India', 'common': 'India'}, 'per': {'official': 'جمهوری هندوستان', 'common': 'هند'}, 'pol': {'official': 'Republika Indii', 'common': 'Indie'}, 'por': {'official': 'República da Índia', 'common': 'Índia'}, 'rus': {'official': 'Республика Индия', 'common': 'Индия'}, 'slk': {'official': 'Indická republika', 'common': 'India'}, 'spa': {'official': 'República de la India', 'common': 'India'}, 'srp': {'official': 'Република Индија', 'common': 'Индија'}, 'swe': {'official': 'Republiken Indien', 'common': 'Indien'}, 'tur': {'official': 'Hindistan Cumhuriyeti', 'common': 'Hindistan'}, 'urd': {'official': 'جمہوریہ بھارت', 'common': 'بھارت'}, 'zho': {'official': '印度共和国', 'common': '印度'}}, 'latlng': [20.0, 77.0], 'landlocked': False, 'borders': ['BGD', 'BTN', 'MMR', 'CHN', 'NPL', 'PAK'], 'area': 3287590.0, 'demonyms': {'eng': {'f': 'Indian', 'm': 'Indian'}, 'fra': {'f': 'Indienne', 'm': 'Indien'}}, 'flag': '🇮🇳', 'maps': {'googleMaps': 'https://goo.gl/maps/WSk3fLwG4vtPQetp7', 'openStreetMaps': 'https://www.openstreetmap.org/relation/304716'}, 'population': 1380004385, 'gini': {'2011': 35.7}, 'fifa': 'IND', 'car': {'signs': ['IND'], 'side': 'left'}, 'timezones': ['UTC+05:30'], 'continents': ['Asia'], 'flags': {'png': 'https://flagcdn.com/w320/in.png', 'svg': 'https://flagcdn.com/in.svg', 'alt': 'The flag of India is composed of three equal horizontal bands of saffron, white and green. A navy blue wheel with twenty-four spokes — the Ashoka Chakra — is centered in the white band.'}, 'coatOfArms': {'png': 'https://mainfacts.com/media/images/coats_of_arms/in.png', 'svg': 'https://mainfacts.com/media/images/coats_of_arms/in.svg'}, 'startOfWeek': 'monday', 'capitalInfo': {'latlng': [28.6, 77.2]}, 'postalCode': {'format': '######', 'regex': '^(\\\\d{6})$'}}\n"
     ]
    }
   ],
   "source": [
    "cname = 'india'\n",
    "for c in data:\n",
    "    if c['name']['common'].upper() == cname.upper():\n",
    "        print(c)\n",
    "        break"
   ]
  },
  {
   "cell_type": "code",
   "execution_count": 107,
   "id": "d4d2204c",
   "metadata": {},
   "outputs": [
    {
     "name": "stdout",
     "output_type": "stream",
     "text": [
      "Barbados\n"
     ]
    }
   ],
   "source": [
    "print(data[0]['name']['common'])"
   ]
  },
  {
   "cell_type": "code",
   "execution_count": 114,
   "id": "b6ad9bb2",
   "metadata": {},
   "outputs": [],
   "source": [
    "#OOP"
   ]
  },
  {
   "cell_type": "code",
   "execution_count": 52,
   "id": "d41a6890",
   "metadata": {},
   "outputs": [],
   "source": [
    "class Vehicle:\n",
    "    # Constructor of Vehicle\n",
    "    def __init__(self, engine):\n",
    "        print('Inside Vehicle Constructor')\n",
    "        self.engine = engine\n",
    "\n",
    "class Car(Vehicle):\n",
    "    # Constructor of Car\n",
    "    def __init__(self, engine, max_speed):\n",
    "        super().__init__(engine)\n",
    "        print('Inside Car Constructor')\n",
    "        self.max_speed = max_speed\n",
    "    \n",
    "    # destructor\n",
    "    def __del__(self):\n",
    "        print('Inside destructor')\n",
    "        print('Object destroyed')"
   ]
  },
  {
   "cell_type": "code",
   "execution_count": 54,
   "id": "61999146",
   "metadata": {},
   "outputs": [
    {
     "name": "stdout",
     "output_type": "stream",
     "text": [
      "Inside Vehicle Constructor\n",
      "Inside Car Constructor\n",
      "12 900\n",
      "Inside destructor\n",
      "Object destroyed\n"
     ]
    }
   ],
   "source": [
    "carObj = Car(12, 900)\n",
    "print(carObj.engine, carObj.max_speed)\n",
    "\n",
    "del carObj"
   ]
  },
  {
   "cell_type": "code",
   "execution_count": 121,
   "id": "896d77d2",
   "metadata": {},
   "outputs": [],
   "source": [
    "#enacapsulation - handling private members"
   ]
  },
  {
   "cell_type": "code",
   "execution_count": 122,
   "id": "0e8fd194",
   "metadata": {},
   "outputs": [
    {
     "name": "stdout",
     "output_type": "stream",
     "text": [
      "Name: Jessa\n",
      "Salary: 10000\n",
      "Salary: 10000\n"
     ]
    }
   ],
   "source": [
    "class Employee:\n",
    "    # constructor\n",
    "    def __init__(self, name, salary):\n",
    "        # public data member\n",
    "        self.name = name\n",
    "        # private member\n",
    "        self.__salary = salary\n",
    "    \n",
    "    def get_sal(self):\n",
    "        return self.__salary\n",
    "\n",
    "# creating object of a class\n",
    "emp = Employee('Jessa', 10000)\n",
    "\n",
    "print('Name:', emp.name)\n",
    "# direct access to private member using public method\n",
    "print('Salary:', emp.get_sal())\n",
    "# direct access to private member using name mangling\n",
    "print('Salary:', emp._Employee__salary)"
   ]
  },
  {
   "cell_type": "code",
   "execution_count": 123,
   "id": "3e194656",
   "metadata": {},
   "outputs": [
    {
     "name": "stdout",
     "output_type": "stream",
     "text": [
      "Total number of pages:  700\n"
     ]
    }
   ],
   "source": [
    "#operator overloading\n",
    "class Book:\n",
    "    def __init__(self, pages):\n",
    "        self.pages = pages\n",
    "\n",
    "    # Overloading + operator with magic method\n",
    "    def __add__(self, other):\n",
    "        return self.pages + other.pages\n",
    "\n",
    "b1 = Book(400)\n",
    "b2 = Book(300)\n",
    "print(\"Total number of pages: \", b1 + b2)"
   ]
  },
  {
   "cell_type": "code",
   "execution_count": 124,
   "id": "13890186",
   "metadata": {},
   "outputs": [],
   "source": [
    "#MRO"
   ]
  },
  {
   "cell_type": "code",
   "execution_count": 125,
   "id": "1314da2f",
   "metadata": {},
   "outputs": [
    {
     "name": "stdout",
     "output_type": "stream",
     "text": [
      " In class B\n",
      "[<class '__main__.C'>, <class '__main__.B'>, <class '__main__.A'>, <class 'object'>]\n"
     ]
    }
   ],
   "source": [
    "class A:\n",
    "    def process(self):\n",
    "        print(\" In class A\")\n",
    "\n",
    "class B(A):\n",
    "    def process(self):\n",
    "        print(\" In class B\")\n",
    "\n",
    "class C(B, A):\n",
    "    def no_proces(self):\n",
    "        print(\" In class C\")\n",
    "\n",
    "# Creating object of C class\n",
    "C1 = C()\n",
    "C1.process()\n",
    "print(C.mro())"
   ]
  },
  {
   "cell_type": "code",
   "execution_count": 126,
   "id": "f7f9002c",
   "metadata": {},
   "outputs": [],
   "source": [
    "#debug python code"
   ]
  },
  {
   "cell_type": "code",
   "execution_count": 129,
   "id": "4c7da56c",
   "metadata": {},
   "outputs": [],
   "source": [
    "# import pdb\n",
    "# pdb.set_trace()\n",
    "# print('Jitesh')\n",
    "# print('hello')\n",
    "# n = 100\n",
    "# print('jitesh'+n)"
   ]
  },
  {
   "cell_type": "code",
   "execution_count": null,
   "id": "90ce184d",
   "metadata": {},
   "outputs": [],
   "source": []
  },
  {
   "cell_type": "code",
   "execution_count": null,
   "id": "2f7166cb",
   "metadata": {},
   "outputs": [],
   "source": []
  },
  {
   "cell_type": "code",
   "execution_count": null,
   "id": "db162fbe",
   "metadata": {},
   "outputs": [],
   "source": []
  },
  {
   "cell_type": "code",
   "execution_count": null,
   "id": "a76c86d7",
   "metadata": {},
   "outputs": [],
   "source": []
  },
  {
   "cell_type": "code",
   "execution_count": null,
   "id": "86f2f770",
   "metadata": {},
   "outputs": [],
   "source": []
  },
  {
   "cell_type": "code",
   "execution_count": null,
   "id": "9b790369",
   "metadata": {},
   "outputs": [],
   "source": []
  },
  {
   "cell_type": "code",
   "execution_count": null,
   "id": "f6184c4d",
   "metadata": {},
   "outputs": [],
   "source": []
  }
 ],
 "metadata": {
  "kernelspec": {
   "display_name": "Python 3 (ipykernel)",
   "language": "python",
   "name": "python3"
  },
  "language_info": {
   "codemirror_mode": {
    "name": "ipython",
    "version": 3
   },
   "file_extension": ".py",
   "mimetype": "text/x-python",
   "name": "python",
   "nbconvert_exporter": "python",
   "pygments_lexer": "ipython3",
   "version": "3.10.4"
  }
 },
 "nbformat": 4,
 "nbformat_minor": 5
}
